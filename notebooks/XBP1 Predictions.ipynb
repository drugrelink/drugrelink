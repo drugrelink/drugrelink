{
 "cells": [
  {
   "cell_type": "markdown",
   "metadata": {},
   "source": [
    "This notebook shows how to make predictions about the chemicals that might inhibit XBP1 and the diseases in which it might take part."
   ]
  },
  {
   "cell_type": "code",
   "execution_count": null,
   "metadata": {},
   "outputs": [],
   "source": [
    "import sys\n",
    "import time\n",
    "import getpass\n",
    "\n",
    "import hbp_knowledge\n",
    "import pybel\n",
    "import pybel.dsl"
   ]
  },
  {
   "cell_type": "code",
   "execution_count": null,
   "metadata": {},
   "outputs": [],
   "source": [
    "print(sys.version)"
   ]
  },
  {
   "cell_type": "code",
   "execution_count": null,
   "metadata": {},
   "outputs": [],
   "source": [
    "print(time.asctime())"
   ]
  },
  {
   "cell_type": "code",
   "execution_count": null,
   "metadata": {},
   "outputs": [],
   "source": [
    "print(getpass.getuser())"
   ]
  },
  {
   "cell_type": "code",
   "execution_count": null,
   "metadata": {},
   "outputs": [],
   "source": [
    "print(pybel.get_version())"
   ]
  },
  {
   "cell_type": "code",
   "execution_count": null,
   "metadata": {},
   "outputs": [],
   "source": [
    "print(hbp_knowledge.get_version())"
   ]
  },
  {
   "cell_type": "markdown",
   "metadata": {},
   "source": [
    "DrugReLink can be installed with the instructions on GitHub at: https://github.com/drugrelink/drugrelink#installation"
   ]
  },
  {
   "cell_type": "code",
   "execution_count": null,
   "metadata": {},
   "outputs": [],
   "source": [
    "from drugrelink.default_consensus_predictor import predictor"
   ]
  },
  {
   "cell_type": "code",
   "execution_count": null,
   "metadata": {},
   "outputs": [],
   "source": [
    "# XBP-1\n",
    "xbp1_entrez_id = '7494'\n",
    "xbp1_target =  f'Gene::{xbp1_entrez_id}'"
   ]
  },
  {
   "cell_type": "code",
   "execution_count": null,
   "metadata": {},
   "outputs": [],
   "source": [
    "xbp1_chemicals_df = predictor.get_top_chemicals(xbp1_target)\n",
    "xbp1_chemicals_df"
   ]
  },
  {
   "cell_type": "code",
   "execution_count": null,
   "metadata": {},
   "outputs": [],
   "source": [
    "xbp1_diseases_df = predictor.get_top_diseases(xbp1_target)\n",
    "xbp1_diseases_df"
   ]
  },
  {
   "cell_type": "code",
   "execution_count": null,
   "metadata": {},
   "outputs": [],
   "source": [
    "# Get all curated knowledge from CONIB\n",
    "graph = hbp_knowledge.get_graph()\n",
    "\n",
    "# Represent the XBP1 with PyBEL\n",
    "xbp1 = pybel.dsl.Protein('HGNC', 'XBP1')\n",
    "\n",
    "# Identify all BEL statements in CONIB where XBP1 is downstream\n",
    "for u, v, k, d in graph.in_edges([xbp1], keys=True, data=True):\n",
    "    print(u, v, graph.edge_to_bel(u, v, d))"
   ]
  },
  {
   "cell_type": "markdown",
   "metadata": {},
   "source": [
    "```\n",
    "path(MESH:\"Alzheimer Disease\") association p(HGNC:XBP1)\n",
    "path(MESH:\"Alzheimer Disease\") negativeCorrelation p(HGNC:XBP1)\n",
    "bp(MESH:\"Unfolded Protein Response\") increases act(p(HGNC:XBP1))\n",
    "p(HGNC:ERN1) regulates p(HGNC:XBP1)\n",
    "act(p(HGNC:ERN1), ma(GO:\"ribonuclease activity\")) increases p(HGNC:XBP1)\n",
    "act(p(HGNC:ATF6)) increases p(HGNC:XBP1)\n",
    "composite(p(HGNC:ERN1), p(MESH:\"HSP72 Heat-Shock Proteins\")) increases p(HGNC:XBP1)\n",
    "a(CHEBI:\"amyloid-beta\") association p(HGNC:XBP1)\n",
    "p(HGNC:VAPB) association p(HGNC:XBP1)\n",
    "p(HGNC:VAPB, pmod(Ub), var(\"p.Pro56Ser\")) causesNoChange p(HGNC:XBP1)\n",
    "```\n",
    "\n",
    "[CONIB](https://github.com/pharmacome/conib) contains statements that ERN1, VAPB, and ATF6 are all upstream of XBP1."
   ]
  },
  {
   "cell_type": "code",
   "execution_count": null,
   "metadata": {},
   "outputs": [],
   "source": [
    "ern1_entrez_id = '2081'\n",
    "ern1_id = f'Gene::{ern1_entrez_id}'\n",
    "ern1_chemicals_df = predictor.get_top_chemicals(ern1_id)\n",
    "ern1_chemicals_df"
   ]
  },
  {
   "cell_type": "code",
   "execution_count": null,
   "metadata": {},
   "outputs": [],
   "source": [
    "vapb_entrez_id = '9217'\n",
    "vapb_id = f'Gene::{vapb_entrez_id}'\n",
    "vapb_chemicals_df = predictor.get_top_chemicals(vapb_id)\n",
    "vapb_chemicals_df"
   ]
  },
  {
   "cell_type": "code",
   "execution_count": null,
   "metadata": {},
   "outputs": [],
   "source": [
    "atf6_entrez_id = '22926'\n",
    "atf6_id = f'Gene::{atf6_entrez_id}'\n",
    "atf6_chemicals_df = predictor.get_top_chemicals(atf6_id)\n",
    "atf6_chemicals_df"
   ]
  }
 ],
 "metadata": {
  "kernelspec": {
   "display_name": "Python 3",
   "language": "python",
   "name": "python3"
  },
  "language_info": {
   "codemirror_mode": {
    "name": "ipython",
    "version": 3
   },
   "file_extension": ".py",
   "mimetype": "text/x-python",
   "name": "python",
   "nbconvert_exporter": "python",
   "pygments_lexer": "ipython3",
   "version": "3.7.4"
  }
 },
 "nbformat": 4,
 "nbformat_minor": 2
}
