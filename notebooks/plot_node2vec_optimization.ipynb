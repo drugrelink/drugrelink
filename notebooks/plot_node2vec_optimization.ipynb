{
 "cells": [
  {
   "cell_type": "markdown",
   "metadata": {},
   "source": [
    "# Plot roc results of different feature dimensions"
   ]
  },
  {
   "cell_type": "code",
   "execution_count": 1,
   "metadata": {},
   "outputs": [],
   "source": [
    "import sys\n",
    "import time\n",
    "import getpass\n",
    "import json\n",
    "import os\n",
    "import pandas as pd\n",
    "import matplotlib.pyplot as plt\n",
    "import numpy as np\n",
    "import seaborn as sns"
   ]
  },
  {
   "cell_type": "code",
   "execution_count": 2,
   "metadata": {},
   "outputs": [
    {
     "name": "stdout",
     "output_type": "stream",
     "text": [
      "3.6.5 |Anaconda, Inc.| (default, Apr 29 2018, 16:14:56) \n",
      "[GCC 7.2.0]\n"
     ]
    }
   ],
   "source": [
    "print(sys.version)"
   ]
  },
  {
   "cell_type": "code",
   "execution_count": 3,
   "metadata": {},
   "outputs": [
    {
     "name": "stdout",
     "output_type": "stream",
     "text": [
      "Thu Jun  6 13:46:42 2019\n"
     ]
    }
   ],
   "source": [
    "print(time.asctime())"
   ]
  },
  {
   "cell_type": "code",
   "execution_count": 4,
   "metadata": {},
   "outputs": [
    {
     "name": "stdout",
     "output_type": "stream",
     "text": [
      "lxu\n"
     ]
    }
   ],
   "source": [
    "print(getpass.getuser())"
   ]
  },
  {
   "cell_type": "code",
   "execution_count": 9,
   "metadata": {},
   "outputs": [],
   "source": [
    "def read_file(path):\n",
    "    with open(path,'r') as file:\n",
    "        validation_dict = json.load(file)\n",
    "    return validation_dict"
   ]
  },
  {
   "cell_type": "code",
   "execution_count": 6,
   "metadata": {},
   "outputs": [],
   "source": [
    "def plot(path_list,evaluation_method):\n",
    "    dm_roc=[]\n",
    "    ct_roc=[]\n",
    "    dc_roc=[]\n",
    "    sy_roc=[]\n",
    "    for path in path_list:\n",
    "        validation_dict=read_file(path)\n",
    "        dm_roc.append(validation_dict['Disease Modifying']['ROC'])\n",
    "        ct_roc.append(validation_dict['Clinical Trial']['ROC'])\n",
    "        dc_roc.append(validation_dict['Drug Central']['ROC'])\n",
    "        sy_roc.append(validation_dict['Syptomatic']['ROC'])\n",
    "    # different feature dimensions\n",
    "    x=['16','32','40','48','56','64']\n",
    "    #Disease Modifying is training data\n",
    "    plt.plot(x,dm_roc,color='blue',label='Disease Modifying(training data)')\n",
    "    plt.plot(x,ct_roc,color='red',label='Clinical Trial')\n",
    "    plt.plot(x,dc_roc,color='yellow',label='Drug Central')\n",
    "    plt.plot(x,sy_roc,color='black',label='Syptomatic')\n",
    "    # Himmelstein's roc, plot as same color with the same dataset.compare them with the best result-dimension 48\n",
    "    plt.plot(['48'],[0.974],color='blue',marker=\"*\")\n",
    "    plt.plot(['48'],[0.7],color='red',marker=\"*\")\n",
    "    plt.plot(['48'],[0.855],color='yellow',marker=\"*\")\n",
    "    plt.plot(['48'],[0.702],color='black',marker=\"*\")\n",
    "    plt.xlabel('number of feature dimension')\n",
    "    plt.ylabel('AUROC')\n",
    "    plt.title(label='AUROC of different feature dimensions of node2vec')\n",
    "    plt.legend()"
   ]
  },
  {
   "cell_type": "code",
   "execution_count": 7,
   "metadata": {},
   "outputs": [
    {
     "ename": "FileNotFoundError",
     "evalue": "[Errno 2] No such file or directory: '/home/lxu/Desktop/validation_d16.json'",
     "output_type": "error",
     "traceback": [
      "\u001b[0;31m---------------------------------------------------------------------------\u001b[0m",
      "\u001b[0;31mFileNotFoundError\u001b[0m                         Traceback (most recent call last)",
      "\u001b[0;32m<ipython-input-7-adc28fd0f44a>\u001b[0m in \u001b[0;36m<module>\u001b[0;34m\u001b[0m\n\u001b[1;32m      8\u001b[0m         \u001b[0;34m'/home/lxu/Desktop/validation_d64.json'\u001b[0m\u001b[0;34m\u001b[0m\u001b[0;34m\u001b[0m\u001b[0m\n\u001b[1;32m      9\u001b[0m     ],\n\u001b[0;32m---> 10\u001b[0;31m     \u001b[0;34m'roc'\u001b[0m\u001b[0;34m,\u001b[0m\u001b[0;34m\u001b[0m\u001b[0;34m\u001b[0m\u001b[0m\n\u001b[0m\u001b[1;32m     11\u001b[0m )\n\u001b[1;32m     12\u001b[0m \u001b[0mplt\u001b[0m\u001b[0;34m.\u001b[0m\u001b[0mshow\u001b[0m\u001b[0;34m(\u001b[0m\u001b[0;34m)\u001b[0m\u001b[0;34m\u001b[0m\u001b[0;34m\u001b[0m\u001b[0m\n",
      "\u001b[0;32m<ipython-input-6-8310bd4714c5>\u001b[0m in \u001b[0;36mplot\u001b[0;34m(path_list, evaluation_method)\u001b[0m\n\u001b[1;32m      5\u001b[0m     \u001b[0msy_roc\u001b[0m\u001b[0;34m=\u001b[0m\u001b[0;34m[\u001b[0m\u001b[0;34m]\u001b[0m\u001b[0;34m\u001b[0m\u001b[0;34m\u001b[0m\u001b[0m\n\u001b[1;32m      6\u001b[0m     \u001b[0;32mfor\u001b[0m \u001b[0mpath\u001b[0m \u001b[0;32min\u001b[0m \u001b[0mpath_list\u001b[0m\u001b[0;34m:\u001b[0m\u001b[0;34m\u001b[0m\u001b[0;34m\u001b[0m\u001b[0m\n\u001b[0;32m----> 7\u001b[0;31m         \u001b[0mvalidation_dict\u001b[0m\u001b[0;34m=\u001b[0m\u001b[0mread_file\u001b[0m\u001b[0;34m(\u001b[0m\u001b[0mpath\u001b[0m\u001b[0;34m)\u001b[0m\u001b[0;34m\u001b[0m\u001b[0;34m\u001b[0m\u001b[0m\n\u001b[0m\u001b[1;32m      8\u001b[0m         \u001b[0mdm_roc\u001b[0m\u001b[0;34m.\u001b[0m\u001b[0mappend\u001b[0m\u001b[0;34m(\u001b[0m\u001b[0mvalidation_dict\u001b[0m\u001b[0;34m[\u001b[0m\u001b[0;34m'Disease Modifying'\u001b[0m\u001b[0;34m]\u001b[0m\u001b[0;34m[\u001b[0m\u001b[0;34m'ROC'\u001b[0m\u001b[0;34m]\u001b[0m\u001b[0;34m)\u001b[0m\u001b[0;34m\u001b[0m\u001b[0;34m\u001b[0m\u001b[0m\n\u001b[1;32m      9\u001b[0m         \u001b[0mct_roc\u001b[0m\u001b[0;34m.\u001b[0m\u001b[0mappend\u001b[0m\u001b[0;34m(\u001b[0m\u001b[0mvalidation_dict\u001b[0m\u001b[0;34m[\u001b[0m\u001b[0;34m'Clinical Trial'\u001b[0m\u001b[0;34m]\u001b[0m\u001b[0;34m[\u001b[0m\u001b[0;34m'ROC'\u001b[0m\u001b[0;34m]\u001b[0m\u001b[0;34m)\u001b[0m\u001b[0;34m\u001b[0m\u001b[0;34m\u001b[0m\u001b[0m\n",
      "\u001b[0;32m<ipython-input-5-3a3eb4c4725c>\u001b[0m in \u001b[0;36mread_file\u001b[0;34m(path)\u001b[0m\n\u001b[1;32m      1\u001b[0m \u001b[0;32mdef\u001b[0m \u001b[0mread_file\u001b[0m\u001b[0;34m(\u001b[0m\u001b[0mpath\u001b[0m\u001b[0;34m)\u001b[0m\u001b[0;34m:\u001b[0m\u001b[0;34m\u001b[0m\u001b[0;34m\u001b[0m\u001b[0m\n\u001b[0;32m----> 2\u001b[0;31m     \u001b[0;32mwith\u001b[0m \u001b[0mopen\u001b[0m\u001b[0;34m(\u001b[0m\u001b[0mpath\u001b[0m\u001b[0;34m,\u001b[0m\u001b[0;34m'r'\u001b[0m\u001b[0;34m)\u001b[0m \u001b[0;32mas\u001b[0m \u001b[0mfile\u001b[0m\u001b[0;34m:\u001b[0m\u001b[0;34m\u001b[0m\u001b[0;34m\u001b[0m\u001b[0m\n\u001b[0m\u001b[1;32m      3\u001b[0m         \u001b[0mvalidation_dict\u001b[0m \u001b[0;34m=\u001b[0m \u001b[0mjson\u001b[0m\u001b[0;34m.\u001b[0m\u001b[0mload\u001b[0m\u001b[0;34m(\u001b[0m\u001b[0mfile\u001b[0m\u001b[0;34m)\u001b[0m\u001b[0;34m\u001b[0m\u001b[0;34m\u001b[0m\u001b[0m\n\u001b[1;32m      4\u001b[0m     \u001b[0;32mreturn\u001b[0m \u001b[0mvalidation_dict\u001b[0m\u001b[0;34m\u001b[0m\u001b[0;34m\u001b[0m\u001b[0m\n",
      "\u001b[0;31mFileNotFoundError\u001b[0m: [Errno 2] No such file or directory: '/home/lxu/Desktop/validation_d16.json'"
     ]
    }
   ],
   "source": [
    "plot(\n",
    "    [\n",
    "        '/home/lxu/Desktop/validation_d16.json',\n",
    "        '/home/lxu/Desktop/validation_d32.json',\n",
    "        '/home/lxu/Desktop/validation_d40.json',\n",
    "        '/home/lxu/Desktop/validation_d48.json',\n",
    "        '/home/lxu/Desktop/validation_d56.json',\n",
    "        '/home/lxu/Desktop/validation_d64.json'\n",
    "    ],\n",
    "    'roc',\n",
    ")\n",
    "plt.show()"
   ]
  },
  {
   "cell_type": "markdown",
   "metadata": {},
   "source": [
    "# Make a matrix of all results"
   ]
  },
  {
   "cell_type": "code",
   "execution_count": 5,
   "metadata": {
    "scrolled": true
   },
   "outputs": [
    {
     "name": "stdout",
     "output_type": "stream",
     "text": [
      "    walk_length  dimensions  number_walk  window size    p    q  \\\n",
      "1          30.0        56.0         10.0         10.0  1.0  1.0   \n",
      "2          50.0        48.0         10.0         10.0  1.0  1.0   \n",
      "3          30.0        48.0         10.0          2.0  1.0  1.0   \n",
      "4          30.0        48.0         10.0          4.0  1.0  1.0   \n",
      "5          30.0        16.0         10.0         10.0  1.0  1.0   \n",
      "6          30.0        32.0         10.0         10.0  1.0  1.0   \n",
      "7          20.0        48.0         10.0         10.0  1.0  1.0   \n",
      "8          30.0        40.0         10.0         10.0  1.0  1.0   \n",
      "9          10.0        48.0         10.0         10.0  1.0  1.0   \n",
      "10         80.0        48.0         10.0         10.0  1.0  1.0   \n",
      "11         30.0        64.0         10.0         10.0  1.0  1.0   \n",
      "12         30.0       159.0         10.0         10.0  1.0  1.0   \n",
      "13         30.0        48.0         10.0         10.0  1.0  1.0   \n",
      "14          0.0         0.0          0.0          0.0  0.0  0.0   \n",
      "15          0.0         0.0          0.0          0.0  0.0  0.0   \n",
      "16          0.0         0.0          0.0          0.0  0.0  0.0   \n",
      "\n",
      "    Disease Modifying roc  Clinical Trial roc  Drug Central roc  \\\n",
      "1                0.926117            0.696589          0.812160   \n",
      "2                0.934100            0.749218          0.803665   \n",
      "3                0.938511            0.702795          0.845893   \n",
      "4                0.899846            0.744448          0.721881   \n",
      "5                0.875425            0.693925          0.762244   \n",
      "6                0.883812            0.662567          0.749998   \n",
      "7                0.923265            0.736966          0.826057   \n",
      "8                0.926042            0.705247          0.779129   \n",
      "9                0.500000            0.500000          0.500000   \n",
      "10               0.941727            0.708820          0.824748   \n",
      "11               0.500000            0.500000          0.500000   \n",
      "12               0.953629            0.714462          0.839116   \n",
      "13               0.930220            0.733824          0.825102   \n",
      "14               0.000000            0.000000          0.000000   \n",
      "15               0.000000            0.000000          0.000000   \n",
      "16               0.000000            0.000000          0.000000   \n",
      "\n",
      "    Symptomatic roc  \n",
      "1          0.859918  \n",
      "2          0.843703  \n",
      "3          0.872022  \n",
      "4          0.807746  \n",
      "5          0.664056  \n",
      "6          0.769785  \n",
      "7          0.754967  \n",
      "8          0.842538  \n",
      "9          0.500000  \n",
      "10         0.857423  \n",
      "11         0.500000  \n",
      "12         0.854202  \n",
      "13         0.855528  \n",
      "14         0.000000  \n",
      "15         0.000000  \n",
      "16         0.000000  \n"
     ]
    }
   ],
   "source": [
    "output_directory = '/home/lxu/Desktop/results'\n",
    "\n",
    "df = pd.DataFrame(0.000,index =[1,2,3,4,5,6,7,8,9,10,11,12,13,14,15,16],columns =['walk_length','dimensions','number_walk','window size','p','q','Disease Modifying roc','Clinical Trial roc','Drug Central roc','Symptomatic roc'])\n",
    "\n",
    "for i, filename in enumerate(os.listdir(output_directory), start=1):\n",
    "    if 'node2vec_graph' not in filename:\n",
    "        continue\n",
    "    directory = os.path.join(output_directory,filename)\n",
    "    metadata_path= os.path.join(directory,'config.json')\n",
    "    validation_path = os.path.join(directory,'validation.json')\n",
    "    df['p'][i]=1\n",
    "    df['q'][i]=1\n",
    "    with open(metadata_path, 'r') as file:\n",
    "        metadata = json.load(file)\n",
    "        df['walk_length'][i] = metadata['walk_length']\n",
    "        df['number_walk'][i] = metadata['num_walks']\n",
    "        df['dimensions'][i] = metadata['dimensions']\n",
    "        df['window size'][i] = metadata['window']\n",
    "    with open (validation_path, 'r') as file:\n",
    "        validation = json.load(file)\n",
    "        df['Disease Modifying roc'][i] = validation['Disease Modifying']['ROC']\n",
    "        df['Clinical Trial roc'][i] = validation['Clinical Trial']['ROC']\n",
    "        df['Drug Central roc'][i] = validation['Drug Central']['ROC']\n",
    "        df['Symptomatic roc'][i] = validation['Symptomatic']['ROC']\n",
    "\n",
    "print(df)   "
   ]
  },
  {
   "cell_type": "code",
   "execution_count": 6,
   "metadata": {},
   "outputs": [
    {
     "data": {
      "text/html": [
       "<div>\n",
       "<style scoped>\n",
       "    .dataframe tbody tr th:only-of-type {\n",
       "        vertical-align: middle;\n",
       "    }\n",
       "\n",
       "    .dataframe tbody tr th {\n",
       "        vertical-align: top;\n",
       "    }\n",
       "\n",
       "    .dataframe thead th {\n",
       "        text-align: right;\n",
       "    }\n",
       "</style>\n",
       "<table border=\"1\" class=\"dataframe\">\n",
       "  <thead>\n",
       "    <tr style=\"text-align: right;\">\n",
       "      <th></th>\n",
       "      <th>walk_length</th>\n",
       "      <th>dimensions</th>\n",
       "      <th>number_walk</th>\n",
       "      <th>window_size</th>\n",
       "      <th>p</th>\n",
       "      <th>q</th>\n",
       "      <th>Disease Modifying</th>\n",
       "      <th>Clinical Trial</th>\n",
       "      <th>Drug Central</th>\n",
       "      <th>Symptomatic</th>\n",
       "    </tr>\n",
       "  </thead>\n",
       "  <tbody>\n",
       "    <tr>\n",
       "      <th>8</th>\n",
       "      <td>10</td>\n",
       "      <td>48</td>\n",
       "      <td>10</td>\n",
       "      <td>10</td>\n",
       "      <td>1.0</td>\n",
       "      <td>1.0</td>\n",
       "      <td>0.500000</td>\n",
       "      <td>0.500000</td>\n",
       "      <td>0.500000</td>\n",
       "      <td>0.500000</td>\n",
       "    </tr>\n",
       "    <tr>\n",
       "      <th>6</th>\n",
       "      <td>20</td>\n",
       "      <td>48</td>\n",
       "      <td>10</td>\n",
       "      <td>10</td>\n",
       "      <td>1.0</td>\n",
       "      <td>1.0</td>\n",
       "      <td>0.923265</td>\n",
       "      <td>0.736966</td>\n",
       "      <td>0.826057</td>\n",
       "      <td>0.754967</td>\n",
       "    </tr>\n",
       "    <tr>\n",
       "      <th>0</th>\n",
       "      <td>30</td>\n",
       "      <td>56</td>\n",
       "      <td>10</td>\n",
       "      <td>10</td>\n",
       "      <td>1.0</td>\n",
       "      <td>1.0</td>\n",
       "      <td>0.926117</td>\n",
       "      <td>0.696589</td>\n",
       "      <td>0.812160</td>\n",
       "      <td>0.859918</td>\n",
       "    </tr>\n",
       "    <tr>\n",
       "      <th>2</th>\n",
       "      <td>30</td>\n",
       "      <td>48</td>\n",
       "      <td>10</td>\n",
       "      <td>2</td>\n",
       "      <td>1.0</td>\n",
       "      <td>1.0</td>\n",
       "      <td>0.938511</td>\n",
       "      <td>0.702795</td>\n",
       "      <td>0.845893</td>\n",
       "      <td>0.872022</td>\n",
       "    </tr>\n",
       "    <tr>\n",
       "      <th>3</th>\n",
       "      <td>30</td>\n",
       "      <td>48</td>\n",
       "      <td>10</td>\n",
       "      <td>4</td>\n",
       "      <td>1.0</td>\n",
       "      <td>1.0</td>\n",
       "      <td>0.899846</td>\n",
       "      <td>0.744448</td>\n",
       "      <td>0.721881</td>\n",
       "      <td>0.807746</td>\n",
       "    </tr>\n",
       "  </tbody>\n",
       "</table>\n",
       "</div>"
      ],
      "text/plain": [
       "   walk_length  dimensions  number_walk  window_size    p    q  \\\n",
       "8           10          48           10           10  1.0  1.0   \n",
       "6           20          48           10           10  1.0  1.0   \n",
       "0           30          56           10           10  1.0  1.0   \n",
       "2           30          48           10            2  1.0  1.0   \n",
       "3           30          48           10            4  1.0  1.0   \n",
       "\n",
       "   Disease Modifying  Clinical Trial  Drug Central  Symptomatic  \n",
       "8           0.500000        0.500000      0.500000     0.500000  \n",
       "6           0.923265        0.736966      0.826057     0.754967  \n",
       "0           0.926117        0.696589      0.812160     0.859918  \n",
       "2           0.938511        0.702795      0.845893     0.872022  \n",
       "3           0.899846        0.744448      0.721881     0.807746  "
      ]
     },
     "execution_count": 6,
     "metadata": {},
     "output_type": "execute_result"
    }
   ],
   "source": [
    "dff = pd.read_csv(\"all_results.tsv\", sep='\\t')\n",
    "del dff[dff.columns[0]]\n",
    "for column in 'walk_length', 'dimensions', 'number_walk', 'window_size':\n",
    "    dff[column] = dff[column].map(int)\n",
    "dff.sort_values('walk_length')\n",
    "dff = dff.sort_values('walk_length')\n",
    "\n",
    "dff.head()"
   ]
  },
  {
   "cell_type": "code",
   "execution_count": 7,
   "metadata": {},
   "outputs": [
    {
     "data": {
      "text/html": [
       "<div>\n",
       "<style scoped>\n",
       "    .dataframe tbody tr th:only-of-type {\n",
       "        vertical-align: middle;\n",
       "    }\n",
       "\n",
       "    .dataframe tbody tr th {\n",
       "        vertical-align: top;\n",
       "    }\n",
       "\n",
       "    .dataframe thead th {\n",
       "        text-align: right;\n",
       "    }\n",
       "</style>\n",
       "<table border=\"1\" class=\"dataframe\">\n",
       "  <thead>\n",
       "    <tr style=\"text-align: right;\">\n",
       "      <th></th>\n",
       "      <th>walk_length</th>\n",
       "      <th>dimensions</th>\n",
       "      <th>number_walk</th>\n",
       "      <th>window_size</th>\n",
       "      <th>p</th>\n",
       "      <th>q</th>\n",
       "      <th>dataset</th>\n",
       "      <th>ROC</th>\n",
       "    </tr>\n",
       "  </thead>\n",
       "  <tbody>\n",
       "    <tr>\n",
       "      <th>0</th>\n",
       "      <td>10</td>\n",
       "      <td>48</td>\n",
       "      <td>10</td>\n",
       "      <td>10</td>\n",
       "      <td>1.0</td>\n",
       "      <td>1.0</td>\n",
       "      <td>Disease Modifying</td>\n",
       "      <td>0.500000</td>\n",
       "    </tr>\n",
       "    <tr>\n",
       "      <th>1</th>\n",
       "      <td>20</td>\n",
       "      <td>48</td>\n",
       "      <td>10</td>\n",
       "      <td>10</td>\n",
       "      <td>1.0</td>\n",
       "      <td>1.0</td>\n",
       "      <td>Disease Modifying</td>\n",
       "      <td>0.923265</td>\n",
       "    </tr>\n",
       "    <tr>\n",
       "      <th>2</th>\n",
       "      <td>30</td>\n",
       "      <td>56</td>\n",
       "      <td>10</td>\n",
       "      <td>10</td>\n",
       "      <td>1.0</td>\n",
       "      <td>1.0</td>\n",
       "      <td>Disease Modifying</td>\n",
       "      <td>0.926117</td>\n",
       "    </tr>\n",
       "    <tr>\n",
       "      <th>3</th>\n",
       "      <td>30</td>\n",
       "      <td>48</td>\n",
       "      <td>10</td>\n",
       "      <td>2</td>\n",
       "      <td>1.0</td>\n",
       "      <td>1.0</td>\n",
       "      <td>Disease Modifying</td>\n",
       "      <td>0.938511</td>\n",
       "    </tr>\n",
       "    <tr>\n",
       "      <th>4</th>\n",
       "      <td>30</td>\n",
       "      <td>48</td>\n",
       "      <td>10</td>\n",
       "      <td>4</td>\n",
       "      <td>1.0</td>\n",
       "      <td>1.0</td>\n",
       "      <td>Disease Modifying</td>\n",
       "      <td>0.899846</td>\n",
       "    </tr>\n",
       "  </tbody>\n",
       "</table>\n",
       "</div>"
      ],
      "text/plain": [
       "   walk_length  dimensions  number_walk  window_size    p    q  \\\n",
       "0           10          48           10           10  1.0  1.0   \n",
       "1           20          48           10           10  1.0  1.0   \n",
       "2           30          56           10           10  1.0  1.0   \n",
       "3           30          48           10            2  1.0  1.0   \n",
       "4           30          48           10            4  1.0  1.0   \n",
       "\n",
       "             dataset       ROC  \n",
       "0  Disease Modifying  0.500000  \n",
       "1  Disease Modifying  0.923265  \n",
       "2  Disease Modifying  0.926117  \n",
       "3  Disease Modifying  0.938511  \n",
       "4  Disease Modifying  0.899846  "
      ]
     },
     "execution_count": 7,
     "metadata": {},
     "output_type": "execute_result"
    }
   ],
   "source": [
    "data = pd.melt(\n",
    "    dff, \n",
    "    id_vars=dff.columns[:6],\n",
    "    value_vars=dff.columns[6:],\n",
    "    var_name='dataset',\n",
    "    value_name='ROC',\n",
    ")\n",
    "data.head()"
   ]
  },
  {
   "cell_type": "code",
   "execution_count": null,
   "metadata": {},
   "outputs": [],
   "source": [
    "sns.pairplot(data[data.columns[:4]])\n",
    "plt.show()"
   ]
  },
  {
   "cell_type": "code",
   "execution_count": 28,
   "metadata": {},
   "outputs": [
    {
     "data": {
      "image/png": "[encoded data removed]",
      "text/plain": [
       "<Figure size 432x288 with 1 Axes>"
      ]
     },
     "metadata": {
      "needs_background": "light"
     },
     "output_type": "display_data"
    }
   ],
   "source": [
    "idx = (\n",
    "    (data.dimensions == 48) \n",
    "    & (data.window_size == 10)\n",
    "    & (data.number_walk == 10)\n",
    ")\n",
    "\n",
    "sns.lineplot(\n",
    "    data=data[idx],\n",
    "    x='walk_length',\n",
    "    y='ROC',\n",
    "    hue='dataset',\n",
    "   \n",
    ")\n",
    "\n",
    "plt.plot([30],[0.974],color='blue',marker=\"*\")\n",
    "plt.plot([30],[0.7],color='red',marker=\"*\")\n",
    "plt.plot([30],[0.855],color='yellow',marker=\"*\")\n",
    "plt.plot([30],[0.702],color='black',marker=\"*\")\n",
    "\n",
    "plt.title(f'Plotting {idx.sum()} Trials')\n",
    "plt.ylabel('AUROC')\n",
    "\n",
    "plt.show()"
   ]
  },
  {
   "cell_type": "code",
   "execution_count": null,
   "metadata": {},
   "outputs": [],
   "source": [
    "data[idx]"
   ]
  },
  {
   "cell_type": "code",
   "execution_count": 29,
   "metadata": {},
   "outputs": [
    {
     "name": "stdout",
     "output_type": "stream",
     "text": [
      "Disease Modifying walk_length                   30\n",
      "dimensions                   159\n",
      "number_walk                   10\n",
      "window_size                   10\n",
      "p                              1\n",
      "q                              1\n",
      "dataset        Disease Modifying\n",
      "ROC                     0.953629\n",
      "Name: 9, dtype: object \n",
      "\n",
      "Clinical Trial walk_length                50\n",
      "dimensions                 48\n",
      "number_walk                10\n",
      "window_size                10\n",
      "p                           1\n",
      "q                           1\n",
      "dataset        Clinical Trial\n",
      "ROC                  0.749218\n",
      "Name: 24, dtype: object \n",
      "\n",
      "Drug Central walk_length              30\n",
      "dimensions               48\n",
      "number_walk              10\n",
      "window_size               2\n",
      "p                         1\n",
      "q                         1\n",
      "dataset        Drug Central\n",
      "ROC                0.845893\n",
      "Name: 29, dtype: object \n",
      "\n",
      "Symptomatic walk_length             30\n",
      "dimensions              48\n",
      "number_walk             10\n",
      "window_size              2\n",
      "p                        1\n",
      "q                        1\n",
      "dataset        Symptomatic\n",
      "ROC               0.872022\n",
      "Name: 42, dtype: object \n",
      "\n"
     ]
    }
   ],
   "source": [
    "for dataset in data.dataset.unique():\n",
    "    print(dataset, data.iloc[data[data.dataset == dataset]['ROC'].idxmax()], '\\n')"
   ]
  },
  {
   "cell_type": "code",
   "execution_count": 25,
   "metadata": {},
   "outputs": [],
   "source": [
    "def read_repeat (path):\n",
    "    data =[]\n",
    "    \n",
    "   \n",
    "    for i,name in enumerate(os.listdir(path), start=1):\n",
    "        file_path = os.path.join(path,name)\n",
    "        if 'config.json' in name:\n",
    "            \n",
    "            metadata = read_file(file_path)\n",
    "            dimension = metadata['dimensions']\n",
    "            num_walks = metadata['num_walks']\n",
    "            repeat = metadata['repeat']\n",
    "            window = metadata['window']\n",
    "            p = metadata['p']\n",
    "            q = metadata['q']\n",
    "        elif os.path.isdir(file_path) == True:\n",
    "            for i,name in enumerate(os.listdir(file_path),start=1):\n",
    "                one_data = []\n",
    "                if not 'validation' in name:\n",
    "                    continue\n",
    "                else:\n",
    "                    validation_path = os.path.join(file_path,name)\n",
    "                    validation_data = read_file(validation_path)\n",
    "                    one_data.append(validation_data['Disease Modifying']['ROC'])\n",
    "                    one_data.append(validation_data['Clinical Trial']['ROC'])\n",
    "                    one_data.append(validation_data['Drug Central']['ROC'])\n",
    "                    one_data.append(validation_data['Symptomatic']['ROC'])\n",
    "                data.append(one_data)\n",
    "    df = pd.DataFrame(data=data, columns = ['Disaese Modifying', 'Clinical Trial', 'Drug Central','Symptomatic'])\n",
    "    #plot = sns.boxplot(x=df.columns,data=df)\n",
    "    return df\n",
    "nw10 = read_repeat('/home/lxu/Desktop/node2vec_graph_nw10')\n",
    "p1q0_5 = read_repeat('/home/lxu/Desktop/node2vec_graph_p1q0_5')\n",
    "p1q2 = read_repeat('/home/lxu/Desktop/node2vec_graph_p1q2')\n",
    "nw10.to_csv('nw10_repeat')\n",
    "p1q0_5.to_csv('p1q0_5_repeat')\n",
    "p1q2.to_csv('p1q2_repeat')                    \n",
    "                    "
   ]
  },
  {
   "cell_type": "code",
   "execution_count": 23,
   "metadata": {},
   "outputs": [
    {
     "data": {
      "text/plain": [
       "[<matplotlib.lines.Line2D at 0x7f6f19afbf28>]"
      ]
     },
     "execution_count": 23,
     "metadata": {},
     "output_type": "execute_result"
    },
    {
     "data": {
      "image/png": "[encoded data removed]",
      "text/plain": [
       "<Figure size 432x288 with 1 Axes>"
      ]
     },
     "metadata": {
      "needs_background": "light"
     },
     "output_type": "display_data"
    }
   ],
   "source": [
    "p1 = sns.boxplot(data=nw10)\n",
    "p1.set_title('AUROC of four data sets repeated 10 times for each with number of walks equals to 10')\n",
    "plt.plot(['Disease Modifying'],[0.974],marker=\"*\")\n",
    "plt.plot(['Clinical Trial'],[0.7],marker=\"*\")\n",
    "plt.plot(['Drug Central'],[0.855],marker=\"*\")\n",
    "plt.plot(['Symptomatic'],[0.702],marker=\"*\")\n",
    "# dimensions = 48\n",
    "# walk length = 30\n",
    "# window = 10\n",
    "# p = 1\n",
    "# q = 1\n",
    "# num_walk = 10"
   ]
  },
  {
   "cell_type": "code",
   "execution_count": 24,
   "metadata": {},
   "outputs": [
    {
     "data": {
      "text/plain": [
       "[<matplotlib.lines.Line2D at 0x7f6f19a92780>]"
      ]
     },
     "execution_count": 24,
     "metadata": {},
     "output_type": "execute_result"
    },
    {
     "data": {
      "image/png": "[encoded data removed]",
      "text/plain": [
       "<Figure size 432x288 with 1 Axes>"
      ]
     },
     "metadata": {
      "needs_background": "light"
     },
     "output_type": "display_data"
    }
   ],
   "source": [
    "p1 = sns.boxplot(data=p1q0_5)\n",
    "p1.set_title('AUROC of four data sets repeated 10 times for each with p=1 and q=0.5')\n",
    "plt.plot(['Disease Modifying'],[0.974],marker=\"*\")\n",
    "plt.plot(['Clinical Trial'],[0.7],marker=\"*\")\n",
    "plt.plot(['Drug Central'],[0.855],marker=\"*\")\n",
    "plt.plot(['Symptomatic'],[0.702],marker=\"*\")\n",
    "# dimensions = 48\n",
    "# walk length = 30\n",
    "# window = 10\n",
    "# p = 1\n",
    "# q = 0.5\n",
    "# num_walk = 10"
   ]
  },
  {
   "cell_type": "code",
   "execution_count": 26,
   "metadata": {},
   "outputs": [
    {
     "data": {
      "text/plain": [
       "[<matplotlib.lines.Line2D at 0x7f6f07cd71d0>]"
      ]
     },
     "execution_count": 26,
     "metadata": {},
     "output_type": "execute_result"
    },
    {
     "data": {
      "image/png": "[encoded data removed]",
      "text/plain": [
       "<Figure size 432x288 with 1 Axes>"
      ]
     },
     "metadata": {
      "needs_background": "light"
     },
     "output_type": "display_data"
    }
   ],
   "source": [
    "p1 = sns.boxplot(data=p1q2)\n",
    "p1.set_title('AUROC of four data sets repeated 10 times for each with p=1 and q=2')\n",
    "plt.plot(['Disease Modifying'],[0.974],marker=\"*\")\n",
    "plt.plot(['Clinical Trial'],[0.7],marker=\"*\")\n",
    "plt.plot(['Drug Central'],[0.855],marker=\"*\")\n",
    "plt.plot(['Symptomatic'],[0.702],marker=\"*\")\n",
    "# dimensions = 48\n",
    "# walk length = 30\n",
    "# window = 10\n",
    "# p = 1\n",
    "# q = 2\n",
    "# num_walk = 10"
   ]
  },
  {
   "cell_type": "code",
   "execution_count": null,
   "metadata": {},
   "outputs": [],
   "source": []
  }
 ],
 "metadata": {
  "kernelspec": {
   "display_name": "Python 3",
   "language": "python",
   "name": "python3"
  },
  "language_info": {
   "codemirror_mode": {
    "name": "ipython",
    "version": 3
   },
   "file_extension": ".py",
   "mimetype": "text/x-python",
   "name": "python",
   "nbconvert_exporter": "python",
   "pygments_lexer": "ipython3",
   "version": "3.6.5"
  }
 },
 "nbformat": 4,
 "nbformat_minor": 2
}
