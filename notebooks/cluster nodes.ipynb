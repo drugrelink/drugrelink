{
 "cells": [
  {
   "cell_type": "code",
   "execution_count": 3,
   "metadata": {},
   "outputs": [],
   "source": [
    "import pickle\n",
    "model = pickle.load(open('/home/lxu/Desktop/node2vec_graph_p1q2/1/word2vec_model.pickle','rb'))"
   ]
  },
  {
   "cell_type": "code",
   "execution_count": 4,
   "metadata": {},
   "outputs": [
    {
     "data": {
      "text/plain": [
       "[('Disease::DOID:332', 0.8048880100250244),\n",
       " ('Disease::DOID:0050741', 0.792345404624939),\n",
       " ('Disease::DOID:14330', 0.7716665267944336),\n",
       " ('Disease::DOID:1826', 0.7637563943862915),\n",
       " ('Disease::DOID:5419', 0.7513700127601624),\n",
       " ('Disease::DOID:12849', 0.6820225715637207),\n",
       " ('Anatomy::UBERON:0001322', 0.6758779883384705),\n",
       " ('Anatomy::UBERON:0000010', 0.6737620830535889),\n",
       " ('Disease::DOID:3070', 0.6536410450935364),\n",
       " ('Disease::DOID:263', 0.6364514231681824)]"
      ]
     },
     "execution_count": 4,
     "metadata": {},
     "output_type": "execute_result"
    }
   ],
   "source": [
    "model.wv.most_similar('Disease::DOID:10652')"
   ]
  },
  {
   "cell_type": "code",
   "execution_count": null,
   "metadata": {},
   "outputs": [],
   "source": []
  }
 ],
 "metadata": {
  "kernelspec": {
   "display_name": "pipeline",
   "language": "python",
   "name": "pipeline"
  },
  "language_info": {
   "codemirror_mode": {
    "name": "ipython",
    "version": 3
   },
   "file_extension": ".py",
   "mimetype": "text/x-python",
   "name": "python",
   "nbconvert_exporter": "python",
   "pygments_lexer": "ipython3",
   "version": "3.6.5"
  }
 },
 "nbformat": 4,
 "nbformat_minor": 2
}
