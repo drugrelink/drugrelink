{
 "cells": [
  {
   "cell_type": "markdown",
   "metadata": {},
   "source": [
    "# Plot roc results of different feature dimensions"
   ]
  },
  {
   "cell_type": "code",
   "execution_count": 1,
   "metadata": {},
   "outputs": [],
   "source": [
    "import sys\n",
    "import time\n",
    "import getpass\n",
    "import json\n",
    "import matplotlib.pyplot as plt\n",
    "import os\n",
    "import pandas as pd\n",
    "import pandas as pd\n",
    "import json\n",
    "import matplotlib.pyplot as plt\n",
    "import numpy as np\n",
    "import seaborn as sns"
   ]
  },
  {
   "cell_type": "code",
   "execution_count": 2,
   "metadata": {},
   "outputs": [
    {
     "name": "stdout",
     "output_type": "stream",
     "text": [
      "3.7.3 (default, Mar 27 2019, 09:23:39) \n",
      "[Clang 10.0.0 (clang-1000.11.45.5)]\n"
     ]
    }
   ],
   "source": [
    "print(sys.version)"
   ]
  },
  {
   "cell_type": "code",
   "execution_count": 3,
   "metadata": {},
   "outputs": [
    {
     "name": "stdout",
     "output_type": "stream",
     "text": [
      "Mon May 27 15:38:05 2019\n"
     ]
    }
   ],
   "source": [
    "print(time.asctime())"
   ]
  },
  {
   "cell_type": "code",
   "execution_count": 4,
   "metadata": {},
   "outputs": [
    {
     "name": "stdout",
     "output_type": "stream",
     "text": [
      "cthoyt\n"
     ]
    }
   ],
   "source": [
    "print(getpass.getuser())"
   ]
  },
  {
   "cell_type": "code",
   "execution_count": 5,
   "metadata": {},
   "outputs": [],
   "source": [
    "def read_file(path):\n",
    "    with open(path,'r') as file:\n",
    "        validation_dict = json.load(file)\n",
    "    return validation_dict"
   ]
  },
  {
   "cell_type": "code",
   "execution_count": 6,
   "metadata": {},
   "outputs": [],
   "source": [
    "def plot(path_list,evaluation_method):\n",
    "    dm_roc=[]\n",
    "    ct_roc=[]\n",
    "    dc_roc=[]\n",
    "    sy_roc=[]\n",
    "    for path in path_list:\n",
    "        validation_dict=read_file(path)\n",
    "        dm_roc.append(validation_dict['Disease Modifying']['ROC'])\n",
    "        ct_roc.append(validation_dict['Clinical Trial']['ROC'])\n",
    "        dc_roc.append(validation_dict['Drug Central']['ROC'])\n",
    "        sy_roc.append(validation_dict['Syptomatic']['ROC'])\n",
    "    # different feature dimensions\n",
    "    x=['16','32','40','48','56','64']\n",
    "    #Disease Modifying is training data\n",
    "    plt.plot(x,dm_roc,color='blue',label='Disease Modifying(training data)')\n",
    "    plt.plot(x,ct_roc,color='red',label='Clinical Trial')\n",
    "    plt.plot(x,dc_roc,color='yellow',label='Drug Central')\n",
    "    plt.plot(x,sy_roc,color='black',label='Syptomatic')\n",
    "    # Himmelstein's roc, plot as same color with the same dataset.compare them with the best result-dimension 48\n",
    "    plt.plot(['48'],[0.974],color='blue',marker=\"*\")\n",
    "    plt.plot(['48'],[0.7],color='red',marker=\"*\")\n",
    "    plt.plot(['48'],[0.855],color='yellow',marker=\"*\")\n",
    "    plt.plot(['48'],[0.702],color='black',marker=\"*\")\n",
    "    plt.xlabel('number of feature dimension')\n",
    "    plt.ylabel('AUROC')\n",
    "    plt.title(label='AUROC of different feature dimensions of node2vec')\n",
    "    plt.legend()"
   ]
  },
  {
   "cell_type": "code",
   "execution_count": 7,
   "metadata": {},
   "outputs": [
    {
     "ename": "FileNotFoundError",
     "evalue": "[Errno 2] No such file or directory: '/home/lxu/Desktop/validation_d16.json'",
     "output_type": "error",
     "traceback": [
      "\u001b[0;31m---------------------------------------------------------------------------\u001b[0m",
      "\u001b[0;31mFileNotFoundError\u001b[0m                         Traceback (most recent call last)",
      "\u001b[0;32m<ipython-input-7-adc28fd0f44a>\u001b[0m in \u001b[0;36m<module>\u001b[0;34m\u001b[0m\n\u001b[1;32m      8\u001b[0m         \u001b[0;34m'/home/lxu/Desktop/validation_d64.json'\u001b[0m\u001b[0;34m\u001b[0m\u001b[0;34m\u001b[0m\u001b[0m\n\u001b[1;32m      9\u001b[0m     ],\n\u001b[0;32m---> 10\u001b[0;31m     \u001b[0;34m'roc'\u001b[0m\u001b[0;34m,\u001b[0m\u001b[0;34m\u001b[0m\u001b[0;34m\u001b[0m\u001b[0m\n\u001b[0m\u001b[1;32m     11\u001b[0m )\n\u001b[1;32m     12\u001b[0m \u001b[0mplt\u001b[0m\u001b[0;34m.\u001b[0m\u001b[0mshow\u001b[0m\u001b[0;34m(\u001b[0m\u001b[0;34m)\u001b[0m\u001b[0;34m\u001b[0m\u001b[0;34m\u001b[0m\u001b[0m\n",
      "\u001b[0;32m<ipython-input-6-8310bd4714c5>\u001b[0m in \u001b[0;36mplot\u001b[0;34m(path_list, evaluation_method)\u001b[0m\n\u001b[1;32m      5\u001b[0m     \u001b[0msy_roc\u001b[0m\u001b[0;34m=\u001b[0m\u001b[0;34m[\u001b[0m\u001b[0;34m]\u001b[0m\u001b[0;34m\u001b[0m\u001b[0;34m\u001b[0m\u001b[0m\n\u001b[1;32m      6\u001b[0m     \u001b[0;32mfor\u001b[0m \u001b[0mpath\u001b[0m \u001b[0;32min\u001b[0m \u001b[0mpath_list\u001b[0m\u001b[0;34m:\u001b[0m\u001b[0;34m\u001b[0m\u001b[0;34m\u001b[0m\u001b[0m\n\u001b[0;32m----> 7\u001b[0;31m         \u001b[0mvalidation_dict\u001b[0m\u001b[0;34m=\u001b[0m\u001b[0mread_file\u001b[0m\u001b[0;34m(\u001b[0m\u001b[0mpath\u001b[0m\u001b[0;34m)\u001b[0m\u001b[0;34m\u001b[0m\u001b[0;34m\u001b[0m\u001b[0m\n\u001b[0m\u001b[1;32m      8\u001b[0m         \u001b[0mdm_roc\u001b[0m\u001b[0;34m.\u001b[0m\u001b[0mappend\u001b[0m\u001b[0;34m(\u001b[0m\u001b[0mvalidation_dict\u001b[0m\u001b[0;34m[\u001b[0m\u001b[0;34m'Disease Modifying'\u001b[0m\u001b[0;34m]\u001b[0m\u001b[0;34m[\u001b[0m\u001b[0;34m'ROC'\u001b[0m\u001b[0;34m]\u001b[0m\u001b[0;34m)\u001b[0m\u001b[0;34m\u001b[0m\u001b[0;34m\u001b[0m\u001b[0m\n\u001b[1;32m      9\u001b[0m         \u001b[0mct_roc\u001b[0m\u001b[0;34m.\u001b[0m\u001b[0mappend\u001b[0m\u001b[0;34m(\u001b[0m\u001b[0mvalidation_dict\u001b[0m\u001b[0;34m[\u001b[0m\u001b[0;34m'Clinical Trial'\u001b[0m\u001b[0;34m]\u001b[0m\u001b[0;34m[\u001b[0m\u001b[0;34m'ROC'\u001b[0m\u001b[0;34m]\u001b[0m\u001b[0;34m)\u001b[0m\u001b[0;34m\u001b[0m\u001b[0;34m\u001b[0m\u001b[0m\n",
      "\u001b[0;32m<ipython-input-5-3a3eb4c4725c>\u001b[0m in \u001b[0;36mread_file\u001b[0;34m(path)\u001b[0m\n\u001b[1;32m      1\u001b[0m \u001b[0;32mdef\u001b[0m \u001b[0mread_file\u001b[0m\u001b[0;34m(\u001b[0m\u001b[0mpath\u001b[0m\u001b[0;34m)\u001b[0m\u001b[0;34m:\u001b[0m\u001b[0;34m\u001b[0m\u001b[0;34m\u001b[0m\u001b[0m\n\u001b[0;32m----> 2\u001b[0;31m     \u001b[0;32mwith\u001b[0m \u001b[0mopen\u001b[0m\u001b[0;34m(\u001b[0m\u001b[0mpath\u001b[0m\u001b[0;34m,\u001b[0m\u001b[0;34m'r'\u001b[0m\u001b[0;34m)\u001b[0m \u001b[0;32mas\u001b[0m \u001b[0mfile\u001b[0m\u001b[0;34m:\u001b[0m\u001b[0;34m\u001b[0m\u001b[0;34m\u001b[0m\u001b[0m\n\u001b[0m\u001b[1;32m      3\u001b[0m         \u001b[0mvalidation_dict\u001b[0m \u001b[0;34m=\u001b[0m \u001b[0mjson\u001b[0m\u001b[0;34m.\u001b[0m\u001b[0mload\u001b[0m\u001b[0;34m(\u001b[0m\u001b[0mfile\u001b[0m\u001b[0;34m)\u001b[0m\u001b[0;34m\u001b[0m\u001b[0;34m\u001b[0m\u001b[0m\n\u001b[1;32m      4\u001b[0m     \u001b[0;32mreturn\u001b[0m \u001b[0mvalidation_dict\u001b[0m\u001b[0;34m\u001b[0m\u001b[0;34m\u001b[0m\u001b[0m\n",
      "\u001b[0;31mFileNotFoundError\u001b[0m: [Errno 2] No such file or directory: '/home/lxu/Desktop/validation_d16.json'"
     ]
    }
   ],
   "source": [
    "plot(\n",
    "    [\n",
    "        '/home/lxu/Desktop/validation_d16.json',\n",
    "        '/home/lxu/Desktop/validation_d32.json',\n",
    "        '/home/lxu/Desktop/validation_d40.json',\n",
    "        '/home/lxu/Desktop/validation_d48.json',\n",
    "        '/home/lxu/Desktop/validation_d56.json',\n",
    "        '/home/lxu/Desktop/validation_d64.json'\n",
    "    ],\n",
    "    'roc',\n",
    ")\n",
    "plt.show()"
   ]
  },
  {
   "cell_type": "markdown",
   "metadata": {},
   "source": [
    "# Make a matrix of all results"
   ]
  },
  {
   "cell_type": "code",
   "execution_count": null,
   "metadata": {
    "scrolled": true
   },
   "outputs": [],
   "source": [
    "output_directory = '/home/lxu/Desktop/results'\n",
    "\n",
    "df = pd.DataFrame(0.000,index =[1,2,3,4,5,6,7,8,9,10,11,12,13,14,15,16],columns =['walk_length','dimensions','number_walk','window size','p','q','Disease Modifying roc','Clinical Trial roc','Drug Central roc','Symptomatic roc'])\n",
    "\n",
    "for i, filename in enumerate(os.listdir(output_directory), start=1):\n",
    "    if 'node2vec_graph' not in filename:\n",
    "        continue\n",
    "    directory = os.path.join(output_directory,filename)\n",
    "    metadata_path= os.path.join(directory,'config.json')\n",
    "    validation_path = os.path.join(directory,'validation.json')\n",
    "    df['p'][i]=1\n",
    "    df['q'][i]=1\n",
    "    with open(metadata_path, 'r') as file:\n",
    "        metadata = json.load(file)\n",
    "        df['walk_length'][i] = metadata['walk_length']\n",
    "        df['number_walk'][i] = metadata['num_walks']\n",
    "        df['dimensions'][i] = metadata['dimensions']\n",
    "        df['window size'][i] = metadata['window']\n",
    "    with open (validation_path, 'r') as file:\n",
    "        validation = json.load(file)\n",
    "        df['Disease Modifying roc'][i] = validation['Disease Modifying']['ROC']\n",
    "        df['Clinical Trial roc'][i] = validation['Clinical Trial']['ROC']\n",
    "        df['Drug Central roc'][i] = validation['Drug Central']['ROC']\n",
    "        df['Symptomatic roc'][i] = validation['Symptomatic']['ROC']\n",
    "\n",
    "print(df)   "
   ]
  },
  {
   "cell_type": "code",
   "execution_count": null,
   "metadata": {},
   "outputs": [],
   "source": [
    "dff = pd.read_csv(\"all_results.tsv\", sep='\\t')\n",
    "del dff[dff.columns[0]]\n",
    "for column in 'walk_length', 'dimensions', 'number_walk', 'window_size':\n",
    "    dff[column] = dff[column].map(int)\n",
    "dff.sort_values('walk_length')\n",
    "dff = dff.sort_values('walk_length')\n",
    "\n",
    "dff.head()"
   ]
  },
  {
   "cell_type": "code",
   "execution_count": null,
   "metadata": {},
   "outputs": [],
   "source": [
    "data = pd.melt(\n",
    "    dff, \n",
    "    id_vars=dff.columns[:6],\n",
    "    value_vars=dff.columns[6:],\n",
    "    var_name='dataset',\n",
    "    value_name='ROC',\n",
    ")\n",
    "data.head()"
   ]
  },
  {
   "cell_type": "code",
   "execution_count": null,
   "metadata": {},
   "outputs": [],
   "source": [
    "sns.pairplot(data[data.columns[:4]])\n",
    "plt.show()"
   ]
  },
  {
   "cell_type": "code",
   "execution_count": null,
   "metadata": {},
   "outputs": [],
   "source": [
    "idx = (\n",
    "    (data.dimensions == 48) \n",
    "    & (data.window_size == 10)\n",
    "    & (data.number_walk == 10)\n",
    ")\n",
    "\n",
    "sns.lineplot(\n",
    "    data=data[idx],\n",
    "    x='walk_length',\n",
    "    y='ROC',\n",
    "    hue='dataset',\n",
    ")\n",
    "\n",
    "plt.plot([30],[0.974],color='blue',marker=\"*\")\n",
    "plt.plot([30],[0.7],color='red',marker=\"*\")\n",
    "plt.plot([30],[0.855],color='yellow',marker=\"*\")\n",
    "plt.plot([30],[0.702],color='black',marker=\"*\")\n",
    "\n",
    "plt.title(f'Plotting {idx.sum()} Trials')\n",
    "plt.ylabel('AUROC')\n",
    "\n",
    "plt.show()"
   ]
  },
  {
   "cell_type": "code",
   "execution_count": null,
   "metadata": {},
   "outputs": [],
   "source": [
    "data[idx]"
   ]
  },
  {
   "cell_type": "code",
   "execution_count": null,
   "metadata": {},
   "outputs": [],
   "source": [
    "for dataset in data.dataset.unique():\n",
    "    print(dataset, data.iloc[data[data.dataset == dataset]['ROC'].idxmax()], '\\n')"
   ]
  },
  {
   "cell_type": "code",
   "execution_count": null,
   "metadata": {},
   "outputs": [],
   "source": [
    "\n",
    "walk_length =[]\n",
    "dm_roc=[]\n",
    "ct_roc=[]\n",
    "dc_roc=[]\n",
    "sy_roc=[]\n",
    "for _,row in dff.iterrows():\n",
    "    if row['dimensions'] == 48 and row['number_walk'] ==10 and row['window size']==10:\n",
    "        walk_length.append(row['walk_length'])\n",
    "        dm_roc.append(row['Disease Modifying roc'])\n",
    "        ct_roc.append(row['Clinical Trial roc'])\n",
    "        dc_roc.append(row['Drug Central roc'])\n",
    "        sy_roc.append(row['Symptomatic roc'])\n",
    "x=walk_length\n",
    "print(x)\n",
    "sy_roc=np.array(sy_roc)\n",
    "\n",
    "plt.plot(x,dm_roc,color='blue',label='Disease Modifying(training data)')\n",
    "plt.plot(x,ct_roc,color='red',label='Clinical Trial')\n",
    "plt.plot(x,dc_roc,color='yellow',label='Drug Central')\n",
    "plt.plot(x,sy_roc,color='black',label='Syptomatic')\n",
    "plt.plot([30],[0.974],color='blue',marker=\"*\")\n",
    "plt.plot([30],[0.7],color='red',marker=\"*\")\n",
    "plt.plot([30],[0.855],color='yellow',marker=\"*\")\n",
    "plt.plot([30],[0.702],color='black',marker=\"*\")\n",
    "plt.xlabel('number of walk length of random walk')\n",
    "plt.ylabel('AUROC')\n",
    "plt.title(label='AUROC of different random walk length of node2vec')\n",
    "plt.legend()\n",
    "plt.show()"
   ]
  },
  {
   "cell_type": "code",
   "execution_count": null,
   "metadata": {},
   "outputs": [],
   "source": [
    "import matplotlib.pyplot as plt\n",
    "import numpy as np\n",
    "window_size =[]\n",
    "dm_roc=[]\n",
    "ct_roc=[]\n",
    "dc_roc=[]\n",
    "sy_roc=[]\n",
    "for _,row in dff.iterrows():\n",
    "    if row['dimensions'] == 48 and row['walk_length'] ==30 and row['number_walk']==10:\n",
    "        window_size.append(row['window size'])\n",
    "        dm_roc.append(row['Disease Modifying roc'])\n",
    "        ct_roc.append(row['Clinical Trial roc'])\n",
    "        dc_roc.append(row['Drug Central roc'])\n",
    "        sy_roc.append(row['Symptomatic roc'])\n",
    "x=window_size\n",
    "plt.plot(x,dm_roc,color='blue',label='Disease Modifying(training data)')\n",
    "plt.plot(x,ct_roc,color='red',label='Clinical Trial')\n",
    "plt.plot(x,dc_roc,color='yellow',label='Drug Central')\n",
    "plt.plot(x,sy_roc,color='black',label='Syptomatic')\n",
    "plt.plot([2],[0.974],color='blue',marker=\"*\")\n",
    "plt.plot([2],[0.7],color='red',marker=\"*\")\n",
    "plt.plot([2],[0.855],color='yellow',marker=\"*\")\n",
    "plt.plot([2],[0.702],color='black',marker=\"*\")\n",
    "plt.xlabel('number of window size of word2vec')\n",
    "plt.ylabel('AUROC')\n",
    "plt.title(label='AUROC of different window size of word2vec')\n",
    "plt.legend()\n",
    "plt.show()"
   ]
  },
  {
   "cell_type": "code",
   "execution_count": null,
   "metadata": {},
   "outputs": [],
   "source": []
  }
 ],
 "metadata": {
  "kernelspec": {
   "display_name": "Python 3",
   "language": "python",
   "name": "python3"
  },
  "language_info": {
   "codemirror_mode": {
    "name": "ipython",
    "version": 3
   },
   "file_extension": ".py",
   "mimetype": "text/x-python",
   "name": "python",
   "nbconvert_exporter": "python",
   "pygments_lexer": "ipython3",
   "version": "3.6.5"
  }
 },
 "nbformat": 4,
 "nbformat_minor": 2
}
