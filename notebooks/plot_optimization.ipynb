{
 "cells": [
  {
   "cell_type": "markdown",
   "metadata": {},
   "source": [
    "# Run the cells below first"
   ]
  },
  {
   "cell_type": "code",
   "execution_count": 2,
   "metadata": {},
   "outputs": [],
   "source": [
    "import sys\n",
    "import time\n",
    "import getpass\n",
    "import json\n",
    "import os\n",
    "import pandas as pd\n",
    "import matplotlib.pyplot as plt\n",
    "import numpy as np\n",
    "import seaborn as sns\n",
    "import sklearn.metrics as skm"
   ]
  },
  {
   "cell_type": "code",
   "execution_count": 3,
   "metadata": {},
   "outputs": [
    {
     "name": "stdout",
     "output_type": "stream",
     "text": [
      "3.7.4 (default, Aug 13 2019, 20:35:49) \n",
      "[GCC 7.3.0]\n"
     ]
    }
   ],
   "source": [
    "print(sys.version)"
   ]
  },
  {
   "cell_type": "code",
   "execution_count": 4,
   "metadata": {},
   "outputs": [
    {
     "name": "stdout",
     "output_type": "stream",
     "text": [
      "Tue Nov  5 12:38:42 2019\n"
     ]
    }
   ],
   "source": [
    "print(time.asctime())"
   ]
  },
  {
   "cell_type": "code",
   "execution_count": 5,
   "metadata": {},
   "outputs": [
    {
     "name": "stdout",
     "output_type": "stream",
     "text": [
      "lxu\n"
     ]
    }
   ],
   "source": [
    "print(getpass.getuser())"
   ]
  },
  {
   "cell_type": "markdown",
   "metadata": {},
   "source": [
    "# Make a matrix of all results(No need to run)"
   ]
  },
  {
   "cell_type": "code",
   "execution_count": 5,
   "metadata": {
    "scrolled": true
   },
   "outputs": [
    {
     "name": "stdout",
     "output_type": "stream",
     "text": [
      "    walk_length  dimensions  number_walk  window size    p    q  \\\n",
      "1          30.0        56.0         10.0         10.0  1.0  1.0   \n",
      "2          50.0        48.0         10.0         10.0  1.0  1.0   \n",
      "3          30.0        48.0         10.0          2.0  1.0  1.0   \n",
      "4          30.0        48.0         10.0          4.0  1.0  1.0   \n",
      "5          30.0        16.0         10.0         10.0  1.0  1.0   \n",
      "6          30.0        32.0         10.0         10.0  1.0  1.0   \n",
      "7          20.0        48.0         10.0         10.0  1.0  1.0   \n",
      "8          30.0        40.0         10.0         10.0  1.0  1.0   \n",
      "9          10.0        48.0         10.0         10.0  1.0  1.0   \n",
      "10         80.0        48.0         10.0         10.0  1.0  1.0   \n",
      "11         30.0        64.0         10.0         10.0  1.0  1.0   \n",
      "12         30.0       159.0         10.0         10.0  1.0  1.0   \n",
      "13         30.0        48.0         10.0         10.0  1.0  1.0   \n",
      "14          0.0         0.0          0.0          0.0  0.0  0.0   \n",
      "15          0.0         0.0          0.0          0.0  0.0  0.0   \n",
      "16          0.0         0.0          0.0          0.0  0.0  0.0   \n",
      "\n",
      "    Disease Modifying roc  Clinical Trial roc  Drug Central roc  \\\n",
      "1                0.926117            0.696589          0.812160   \n",
      "2                0.934100            0.749218          0.803665   \n",
      "3                0.938511            0.702795          0.845893   \n",
      "4                0.899846            0.744448          0.721881   \n",
      "5                0.875425            0.693925          0.762244   \n",
      "6                0.883812            0.662567          0.749998   \n",
      "7                0.923265            0.736966          0.826057   \n",
      "8                0.926042            0.705247          0.779129   \n",
      "9                0.500000            0.500000          0.500000   \n",
      "10               0.941727            0.708820          0.824748   \n",
      "11               0.500000            0.500000          0.500000   \n",
      "12               0.953629            0.714462          0.839116   \n",
      "13               0.930220            0.733824          0.825102   \n",
      "14               0.000000            0.000000          0.000000   \n",
      "15               0.000000            0.000000          0.000000   \n",
      "16               0.000000            0.000000          0.000000   \n",
      "\n",
      "    Symptomatic roc  \n",
      "1          0.859918  \n",
      "2          0.843703  \n",
      "3          0.872022  \n",
      "4          0.807746  \n",
      "5          0.664056  \n",
      "6          0.769785  \n",
      "7          0.754967  \n",
      "8          0.842538  \n",
      "9          0.500000  \n",
      "10         0.857423  \n",
      "11         0.500000  \n",
      "12         0.854202  \n",
      "13         0.855528  \n",
      "14         0.000000  \n",
      "15         0.000000  \n",
      "16         0.000000  \n"
     ]
    }
   ],
   "source": [
    "output_directory = '/home/lxu/Desktop/results'\n",
    "\n",
    "df = pd.DataFrame(0.000,index =[1,2,3,4,5,6,7,8,9,10,11,12,13,14,15,16],columns =['walk_length','dimensions','number_walk','window size','p','q','Disease Modifying roc','Clinical Trial roc','Drug Central roc','Symptomatic roc'])\n",
    "\n",
    "for i, filename in enumerate(os.listdir(output_directory), start=1):\n",
    "    if 'node2vec_graph' not in filename:\n",
    "        continue\n",
    "    directory = os.path.join(output_directory,filename)\n",
    "    metadata_path= os.path.join(directory,'config.json')\n",
    "    validation_path = os.path.join(directory,'validation.json')\n",
    "    df['p'][i]=1\n",
    "    df['q'][i]=1\n",
    "    with open(metadata_path, 'r') as file:\n",
    "        metadata = json.load(file)\n",
    "        df['walk_length'][i] = metadata['walk_length']\n",
    "        df['number_walk'][i] = metadata['num_walks']\n",
    "        df['dimensions'][i] = metadata['dimensions']\n",
    "        df['window size'][i] = metadata['window']\n",
    "    with open (validation_path, 'r') as file:\n",
    "        validation = json.load(file)\n",
    "        df['Disease Modifying roc'][i] = validation['Disease Modifying']['ROC']\n",
    "        df['Clinical Trial roc'][i] = validation['Clinical Trial']['ROC']\n",
    "        df['Drug Central roc'][i] = validation['Drug Central']['ROC']\n",
    "        df['Symptomatic roc'][i] = validation['Symptomatic']['ROC']\n",
    "\n",
    "print(df)   "
   ]
  },
  {
   "cell_type": "code",
   "execution_count": 6,
   "metadata": {},
   "outputs": [
    {
     "data": {
      "text/html": [
       "<div>\n",
       "<style scoped>\n",
       "    .dataframe tbody tr th:only-of-type {\n",
       "        vertical-align: middle;\n",
       "    }\n",
       "\n",
       "    .dataframe tbody tr th {\n",
       "        vertical-align: top;\n",
       "    }\n",
       "\n",
       "    .dataframe thead th {\n",
       "        text-align: right;\n",
       "    }\n",
       "</style>\n",
       "<table border=\"1\" class=\"dataframe\">\n",
       "  <thead>\n",
       "    <tr style=\"text-align: right;\">\n",
       "      <th></th>\n",
       "      <th>walk_length</th>\n",
       "      <th>dimensions</th>\n",
       "      <th>number_walk</th>\n",
       "      <th>window_size</th>\n",
       "      <th>p</th>\n",
       "      <th>q</th>\n",
       "      <th>Disease Modifying</th>\n",
       "      <th>Clinical Trial</th>\n",
       "      <th>Drug Central</th>\n",
       "      <th>Symptomatic</th>\n",
       "    </tr>\n",
       "  </thead>\n",
       "  <tbody>\n",
       "    <tr>\n",
       "      <th>8</th>\n",
       "      <td>10</td>\n",
       "      <td>48</td>\n",
       "      <td>10</td>\n",
       "      <td>10</td>\n",
       "      <td>1.0</td>\n",
       "      <td>1.0</td>\n",
       "      <td>0.500000</td>\n",
       "      <td>0.500000</td>\n",
       "      <td>0.500000</td>\n",
       "      <td>0.500000</td>\n",
       "    </tr>\n",
       "    <tr>\n",
       "      <th>6</th>\n",
       "      <td>20</td>\n",
       "      <td>48</td>\n",
       "      <td>10</td>\n",
       "      <td>10</td>\n",
       "      <td>1.0</td>\n",
       "      <td>1.0</td>\n",
       "      <td>0.923265</td>\n",
       "      <td>0.736966</td>\n",
       "      <td>0.826057</td>\n",
       "      <td>0.754967</td>\n",
       "    </tr>\n",
       "    <tr>\n",
       "      <th>0</th>\n",
       "      <td>30</td>\n",
       "      <td>56</td>\n",
       "      <td>10</td>\n",
       "      <td>10</td>\n",
       "      <td>1.0</td>\n",
       "      <td>1.0</td>\n",
       "      <td>0.926117</td>\n",
       "      <td>0.696589</td>\n",
       "      <td>0.812160</td>\n",
       "      <td>0.859918</td>\n",
       "    </tr>\n",
       "    <tr>\n",
       "      <th>2</th>\n",
       "      <td>30</td>\n",
       "      <td>48</td>\n",
       "      <td>10</td>\n",
       "      <td>2</td>\n",
       "      <td>1.0</td>\n",
       "      <td>1.0</td>\n",
       "      <td>0.938511</td>\n",
       "      <td>0.702795</td>\n",
       "      <td>0.845893</td>\n",
       "      <td>0.872022</td>\n",
       "    </tr>\n",
       "    <tr>\n",
       "      <th>3</th>\n",
       "      <td>30</td>\n",
       "      <td>48</td>\n",
       "      <td>10</td>\n",
       "      <td>4</td>\n",
       "      <td>1.0</td>\n",
       "      <td>1.0</td>\n",
       "      <td>0.899846</td>\n",
       "      <td>0.744448</td>\n",
       "      <td>0.721881</td>\n",
       "      <td>0.807746</td>\n",
       "    </tr>\n",
       "  </tbody>\n",
       "</table>\n",
       "</div>"
      ],
      "text/plain": [
       "   walk_length  dimensions  number_walk  window_size    p    q  \\\n",
       "8           10          48           10           10  1.0  1.0   \n",
       "6           20          48           10           10  1.0  1.0   \n",
       "0           30          56           10           10  1.0  1.0   \n",
       "2           30          48           10            2  1.0  1.0   \n",
       "3           30          48           10            4  1.0  1.0   \n",
       "\n",
       "   Disease Modifying  Clinical Trial  Drug Central  Symptomatic  \n",
       "8           0.500000        0.500000      0.500000     0.500000  \n",
       "6           0.923265        0.736966      0.826057     0.754967  \n",
       "0           0.926117        0.696589      0.812160     0.859918  \n",
       "2           0.938511        0.702795      0.845893     0.872022  \n",
       "3           0.899846        0.744448      0.721881     0.807746  "
      ]
     },
     "execution_count": 6,
     "metadata": {},
     "output_type": "execute_result"
    }
   ],
   "source": [
    "dff = pd.read_csv(\"all_results.tsv\", sep='\\t')\n",
    "del dff[dff.columns[0]]\n",
    "for column in 'walk_length', 'dimensions', 'number_walk', 'window_size':\n",
    "    dff[column] = dff[column].map(int)\n",
    "dff.sort_values('walk_length')\n",
    "dff = dff.sort_values('walk_length')\n",
    "\n",
    "dff.head()"
   ]
  },
  {
   "cell_type": "code",
   "execution_count": 7,
   "metadata": {},
   "outputs": [
    {
     "data": {
      "text/html": [
       "<div>\n",
       "<style scoped>\n",
       "    .dataframe tbody tr th:only-of-type {\n",
       "        vertical-align: middle;\n",
       "    }\n",
       "\n",
       "    .dataframe tbody tr th {\n",
       "        vertical-align: top;\n",
       "    }\n",
       "\n",
       "    .dataframe thead th {\n",
       "        text-align: right;\n",
       "    }\n",
       "</style>\n",
       "<table border=\"1\" class=\"dataframe\">\n",
       "  <thead>\n",
       "    <tr style=\"text-align: right;\">\n",
       "      <th></th>\n",
       "      <th>walk_length</th>\n",
       "      <th>dimensions</th>\n",
       "      <th>number_walk</th>\n",
       "      <th>window_size</th>\n",
       "      <th>p</th>\n",
       "      <th>q</th>\n",
       "      <th>dataset</th>\n",
       "      <th>ROC</th>\n",
       "    </tr>\n",
       "  </thead>\n",
       "  <tbody>\n",
       "    <tr>\n",
       "      <th>0</th>\n",
       "      <td>10</td>\n",
       "      <td>48</td>\n",
       "      <td>10</td>\n",
       "      <td>10</td>\n",
       "      <td>1.0</td>\n",
       "      <td>1.0</td>\n",
       "      <td>Disease Modifying</td>\n",
       "      <td>0.500000</td>\n",
       "    </tr>\n",
       "    <tr>\n",
       "      <th>1</th>\n",
       "      <td>20</td>\n",
       "      <td>48</td>\n",
       "      <td>10</td>\n",
       "      <td>10</td>\n",
       "      <td>1.0</td>\n",
       "      <td>1.0</td>\n",
       "      <td>Disease Modifying</td>\n",
       "      <td>0.923265</td>\n",
       "    </tr>\n",
       "    <tr>\n",
       "      <th>2</th>\n",
       "      <td>30</td>\n",
       "      <td>56</td>\n",
       "      <td>10</td>\n",
       "      <td>10</td>\n",
       "      <td>1.0</td>\n",
       "      <td>1.0</td>\n",
       "      <td>Disease Modifying</td>\n",
       "      <td>0.926117</td>\n",
       "    </tr>\n",
       "    <tr>\n",
       "      <th>3</th>\n",
       "      <td>30</td>\n",
       "      <td>48</td>\n",
       "      <td>10</td>\n",
       "      <td>2</td>\n",
       "      <td>1.0</td>\n",
       "      <td>1.0</td>\n",
       "      <td>Disease Modifying</td>\n",
       "      <td>0.938511</td>\n",
       "    </tr>\n",
       "    <tr>\n",
       "      <th>4</th>\n",
       "      <td>30</td>\n",
       "      <td>48</td>\n",
       "      <td>10</td>\n",
       "      <td>4</td>\n",
       "      <td>1.0</td>\n",
       "      <td>1.0</td>\n",
       "      <td>Disease Modifying</td>\n",
       "      <td>0.899846</td>\n",
       "    </tr>\n",
       "  </tbody>\n",
       "</table>\n",
       "</div>"
      ],
      "text/plain": [
       "   walk_length  dimensions  number_walk  window_size    p    q  \\\n",
       "0           10          48           10           10  1.0  1.0   \n",
       "1           20          48           10           10  1.0  1.0   \n",
       "2           30          56           10           10  1.0  1.0   \n",
       "3           30          48           10            2  1.0  1.0   \n",
       "4           30          48           10            4  1.0  1.0   \n",
       "\n",
       "             dataset       ROC  \n",
       "0  Disease Modifying  0.500000  \n",
       "1  Disease Modifying  0.923265  \n",
       "2  Disease Modifying  0.926117  \n",
       "3  Disease Modifying  0.938511  \n",
       "4  Disease Modifying  0.899846  "
      ]
     },
     "execution_count": 7,
     "metadata": {},
     "output_type": "execute_result"
    }
   ],
   "source": [
    "data = pd.melt(\n",
    "    dff, \n",
    "    id_vars=dff.columns[:6],\n",
    "    value_vars=dff.columns[6:],\n",
    "    var_name='dataset',\n",
    "    value_name='ROC',\n",
    ")\n",
    "data.head()"
   ]
  },
  {
   "cell_type": "code",
   "execution_count": null,
   "metadata": {},
   "outputs": [],
   "source": [
    "sns.pairplot(data[data.columns[:4]])\n",
    "plt.show()"
   ]
  },
  {
   "cell_type": "code",
   "execution_count": 28,
   "metadata": {},
   "outputs": [
    {
     "data": {
      "image/png": "[encoded data removed]",
      "text/plain": [
       "<Figure size 432x288 with 1 Axes>"
      ]
     },
     "metadata": {
      "needs_background": "light"
     },
     "output_type": "display_data"
    }
   ],
   "source": [
    "idx = (\n",
    "    (data.dimensions == 48) \n",
    "    & (data.window_size == 10)\n",
    "    & (data.number_walk == 10)\n",
    ")\n",
    "\n",
    "sns.lineplot(\n",
    "    data=data[idx],\n",
    "    x='walk_length',\n",
    "    y='ROC',\n",
    "    hue='dataset',\n",
    "   \n",
    ")\n",
    "\n",
    "plt.plot([30],[0.974],color='blue',marker=\"*\")\n",
    "plt.plot([30],[0.7],color='red',marker=\"*\")\n",
    "plt.plot([30],[0.855],color='yellow',marker=\"*\")\n",
    "plt.plot([30],[0.702],color='black',marker=\"*\")\n",
    "\n",
    "plt.title(f'Plotting {idx.sum()} Trials')\n",
    "plt.ylabel('AUROC')\n",
    "\n",
    "plt.show()"
   ]
  },
  {
   "cell_type": "code",
   "execution_count": null,
   "metadata": {},
   "outputs": [],
   "source": [
    "data[idx]"
   ]
  },
  {
   "cell_type": "code",
   "execution_count": 29,
   "metadata": {},
   "outputs": [
    {
     "name": "stdout",
     "output_type": "stream",
     "text": [
      "Disease Modifying walk_length                   30\n",
      "dimensions                   159\n",
      "number_walk                   10\n",
      "window_size                   10\n",
      "p                              1\n",
      "q                              1\n",
      "dataset        Disease Modifying\n",
      "ROC                     0.953629\n",
      "Name: 9, dtype: object \n",
      "\n",
      "Clinical Trial walk_length                50\n",
      "dimensions                 48\n",
      "number_walk                10\n",
      "window_size                10\n",
      "p                           1\n",
      "q                           1\n",
      "dataset        Clinical Trial\n",
      "ROC                  0.749218\n",
      "Name: 24, dtype: object \n",
      "\n",
      "Drug Central walk_length              30\n",
      "dimensions               48\n",
      "number_walk              10\n",
      "window_size               2\n",
      "p                         1\n",
      "q                         1\n",
      "dataset        Drug Central\n",
      "ROC                0.845893\n",
      "Name: 29, dtype: object \n",
      "\n",
      "Symptomatic walk_length             30\n",
      "dimensions              48\n",
      "number_walk             10\n",
      "window_size              2\n",
      "p                        1\n",
      "q                        1\n",
      "dataset        Symptomatic\n",
      "ROC               0.872022\n",
      "Name: 42, dtype: object \n",
      "\n"
     ]
    }
   ],
   "source": [
    "for dataset in data.dataset.unique():\n",
    "    print(dataset, data.iloc[data[data.dataset == dataset]['ROC'].idxmax()], '\\n')"
   ]
  },
  {
   "cell_type": "markdown",
   "metadata": {},
   "source": [
    "# Run cells below to generate plots"
   ]
  },
  {
   "cell_type": "code",
   "execution_count": 116,
   "metadata": {},
   "outputs": [],
   "source": [
    "def read_file(path):\n",
    "    with open(path,'r') as file:\n",
    "        validation_dict = json.load(file)\n",
    "    return validation_dict"
   ]
  },
  {
   "cell_type": "code",
   "execution_count": 117,
   "metadata": {},
   "outputs": [],
   "source": [
    "all_labels = read_file('labels')\n",
    "#print(all_labels[1][1])\n",
    "dm_labels, ct_labels, dc_labels, sy_labels = all_labels[0],all_labels[1],all_labels[2],all_labels[3]"
   ]
  },
  {
   "cell_type": "code",
   "execution_count": 118,
   "metadata": {},
   "outputs": [],
   "source": [
    "def plot(path_list,evaluation_method):\n",
    "    dm_roc=[]\n",
    "    ct_roc=[]\n",
    "    dc_roc=[]\n",
    "    sy_roc=[]\n",
    "    for path in path_list:\n",
    "        validation_dict=read_file(path)\n",
    "        dm_roc.append(validation_dict['Disease Modifying']['ROC'])\n",
    "        ct_roc.append(validation_dict['Clinical Trial']['ROC'])\n",
    "        dc_roc.append(validation_dict['Drug Central']['ROC'])\n",
    "        sy_roc.append(validation_dict['Syptomatic']['ROC'])\n",
    "    # different feature dimensions\n",
    "    x=['16','32','40','48','56','64']\n",
    "    #Disease Modifying is training data\n",
    "    plt.plot(x,dm_roc,color='blue',label='Disease Modifying(training data)')\n",
    "    plt.plot(x,ct_roc,color='red',label='Clinical Trial')\n",
    "    plt.plot(x,dc_roc,color='yellow',label='Drug Central')\n",
    "    plt.plot(x,sy_roc,color='black',label='Syptomatic')\n",
    "    # Himmelstein's roc, plot as same color with the same dataset.compare them with the best result-dimension 48\n",
    "    plt.plot(['48'],[0.974],color='blue',marker=\"*\")\n",
    "    plt.plot(['48'],[0.7],color='red',marker=\"*\")\n",
    "    plt.plot(['48'],[0.855],color='yellow',marker=\"*\")\n",
    "    plt.plot(['48'],[0.702],color='black',marker=\"*\")\n",
    "    plt.xlabel('number of feature dimension')\n",
    "    plt.ylabel('AUROC')\n",
    "    plt.title(label='AUROC of different feature dimensions of node2vec')\n",
    "    plt.legend()"
   ]
  },
  {
   "cell_type": "markdown",
   "metadata": {},
   "source": [
    "# read validations files to generate AUROC df"
   ]
  },
  {
   "cell_type": "code",
   "execution_count": 119,
   "metadata": {},
   "outputs": [],
   "source": [
    "def read_repeat (path):\n",
    "    data =[]\n",
    "    \n",
    "   \n",
    "    for i,name in enumerate(os.listdir(path), start=1):\n",
    "        file_path = os.path.join(path,name)\n",
    "        if 'config.json' in name:\n",
    "            \n",
    "            metadata = read_file(file_path)\n",
    "            dimension = metadata['dimensions']\n",
    "            num_walks = metadata['num_walks']\n",
    "            repeat = metadata['repeat']\n",
    "            window = metadata['window']\n",
    "            p = metadata['p']\n",
    "            q = metadata['q']\n",
    "        elif os.path.isdir(file_path) == True:\n",
    "            for i,name in enumerate(os.listdir(file_path),start=1):\n",
    "                one_data = []\n",
    "                if not 'validation' in name:\n",
    "                    continue\n",
    "                else:\n",
    "                    validation_path = os.path.join(file_path,name)\n",
    "                    validation_data = read_file(validation_path)\n",
    "                    one_data.append(validation_data['Disease Modifying']['ROC'])\n",
    "                    one_data.append(validation_data['Clinical Trial']['ROC'])\n",
    "                    one_data.append(validation_data['Drug Central']['ROC'])\n",
    "                    one_data.append(validation_data['Symptomatic']['ROC'])\n",
    "                data.append(one_data)\n",
    "    df = pd.DataFrame(data=data, columns = ['Disaese Modifying', 'Clinical Trial', 'Drug Central','Symptomatic'])\n",
    "    #plot = sns.boxplot(x=df.columns,data=df)\n",
    "    return df\n"
   ]
  },
  {
   "cell_type": "markdown",
   "metadata": {},
   "source": [
    "# Read validation files to generate AUPR df"
   ]
  },
  {
   "cell_type": "code",
   "execution_count": 129,
   "metadata": {},
   "outputs": [],
   "source": [
    "def aupr (validation_data):\n",
    "    dm_aupr = skm.average_precision_score(dm_labels,np.array(validation_data['Disease Modifying']['Prediction Probability'])\n",
    "                                          [:,1])\n",
    "    ct_aupr = skm.average_precision_score(ct_labels,np.array(validation_data['Clinical Trial']['Prediction Probability'])\n",
    "                                          [:,1])\n",
    "    dc_aupr = skm.average_precision_score(dc_labels,np.array(validation_data['Drug Central']['Prediction Probability'])\n",
    "                                          [:,1])\n",
    "    sy_aupr = skm.average_precision_score(sy_labels,np.array(validation_data['Symptomatic']['Prediction Probability'])\n",
    "                                          [:,1])\n",
    "    return dm_aupr, ct_aupr, dc_aupr, sy_aupr"
   ]
  },
  {
   "cell_type": "code",
   "execution_count": 130,
   "metadata": {},
   "outputs": [],
   "source": [
    "def read_repeat_pl (path):\n",
    "    data =[]\n",
    "    \n",
    "   \n",
    "    for i,name in enumerate(os.listdir(path), start=1):\n",
    "        file_path = os.path.join(path,name)\n",
    "        if 'config.json' in name:\n",
    "            \n",
    "            metadata = read_file(file_path)\n",
    "            dimension = metadata['dimensions']\n",
    "            num_walks = metadata['num_walks']\n",
    "            repeat = metadata['repeat']\n",
    "            window = metadata['window']\n",
    "            p = metadata['p']\n",
    "            q = metadata['q']\n",
    "        elif os.path.isdir(file_path) == True:\n",
    "            for i,name in enumerate(os.listdir(file_path),start=1):\n",
    "                one_data = []\n",
    "                if not 'validation' in name:\n",
    "                    continue\n",
    "                else:\n",
    "                    validation_path = os.path.join(file_path,name)\n",
    "                    validation_data = read_file(validation_path)\n",
    "                    dm_aupr, ct_aupr, dc_aupr, sy_aupr = aupr(validation_data)\n",
    "                    one_data.append(dm_aupr)\n",
    "                    one_data.append(ct_aupr)\n",
    "                    one_data.append(dc_aupr)\n",
    "                    one_data.append(sy_aupr)\n",
    "                data.append(one_data)\n",
    "    df = pd.DataFrame(data=data, columns = ['Disaese Modifying', 'Clinical Trial', 'Drug Central','Symptomatic'])\n",
    "    #plot = sns.boxplot(x=df.columns,data=df)\n",
    "    return df\n"
   ]
  },
  {
   "cell_type": "markdown",
   "metadata": {},
   "source": [
    "# AUROC of node2vec"
   ]
  },
  {
   "cell_type": "code",
   "execution_count": 12,
   "metadata": {},
   "outputs": [],
   "source": [
    "nw10 = read_repeat('/home/lxu/Desktop/node2vec_graph_nw10')\n",
    "p1q0_5 = read_repeat('/home/lxu/Desktop/node2vec_graph_p1q0_5')\n",
    "p1q2 = read_repeat('/home/lxu/Desktop/node2vec_graph_p1q2')\n",
    "nw50_p1q2 = read_repeat('/home/lxu/Desktop/node2vec_graph_wl50_p1q2')\n",
    "nw100_p1q2 = read_repeat('/home/lxu/Desktop/node2vec_graph_wl100_p1q2')\n",
    "\n",
    "\n",
    "nw10.to_csv('nw10_repeat.csv')\n",
    "p1q0_5.to_csv('p1q0_5_repeat.csv')\n",
    "p1q2.to_csv('p1q2_repeat.csv')      \n",
    "nw100_p1q2.to_csv('nw100_p1q2_repeat.csv')      \n",
    "nw50_p1q2.to_csv('nw50_p1q2_repeat.csv')"
   ]
  },
  {
   "cell_type": "markdown",
   "metadata": {},
   "source": [
    "# Re-evaluate Disease Modifying"
   ]
  },
  {
   "cell_type": "code",
   "execution_count": null,
   "metadata": {},
   "outputs": [],
   "source": [
    "# To do :\n",
    "# Re-write pairs.py\n",
    "# import it and re-evaluate all models"
   ]
  },
  {
   "cell_type": "code",
   "execution_count": 10,
   "metadata": {},
   "outputs": [],
   "source": [
    "from drugrelink.pairs import train_test_pairs\n",
    "test_dm, _, _, _, _ = train_test_pairs(validation_path='/home/lxu/Desktop/learn-master/validate/validation-statuses.tsv',\n",
    "                                      train_path = '/home/lxu/Desktop/learn-master/prediction/features/transformed-features.tsv.bz2',\n",
    "                                      symptomatic_path = '/home/lxu/Desktop/learn-master/prediction/predictions/probabilities.tsv')"
   ]
  },
  {
   "cell_type": "code",
   "execution_count": 11,
   "metadata": {},
   "outputs": [],
   "source": [
    "p1q1_wl30 = pd.read_csv('nw10_repeat.csv',index_col=0 )\n",
    "p1q0_5_wl30 = pd.read_csv('p1q0_5_repeat.csv',index_col=0)\n",
    "p1q2_wl30 = pd.read_csv('p1q2_repeat.csv',index_col=0)\n",
    "p1q2_wl50 = pd.read_csv('nw50_p1q2_repeat.csv',index_col=0)\n",
    "p1q2_wl100 = pd.read_csv('nw100_p1q2_repeat.csv',index_col=0)"
   ]
  },
  {
   "cell_type": "code",
   "execution_count": 17,
   "metadata": {},
   "outputs": [
    {
     "name": "stdout",
     "output_type": "stream",
     "text": [
      "['/home/lxu/drugrelink/repeated_models/node2vec/p1q0.5_wl30/logistic_regression_clf.joblib', '/home/lxu/drugrelink/repeated_models/node2vec/p1q0.5_wl30/logistic_regression_clf_1.joblib', '/home/lxu/drugrelink/repeated_models/node2vec/p1q0.5_wl30/logistic_regression_clf_2.joblib', '/home/lxu/drugrelink/repeated_models/node2vec/p1q0.5_wl30/logistic_regression_clf_3.joblib', '/home/lxu/drugrelink/repeated_models/node2vec/p1q0.5_wl30/logistic_regression_clf_4.joblib', '/home/lxu/drugrelink/repeated_models/node2vec/p1q0.5_wl30/logistic_regression_clf_5.joblib', '/home/lxu/drugrelink/repeated_models/node2vec/p1q0.5_wl30/logistic_regression_clf_6.joblib', '/home/lxu/drugrelink/repeated_models/node2vec/p1q0.5_wl30/logistic_regression_clf_7.joblib', '/home/lxu/drugrelink/repeated_models/node2vec/p1q0.5_wl30/logistic_regression_clf_8.joblib', '/home/lxu/drugrelink/repeated_models/node2vec/p1q0.5_wl30/logistic_regression_clf_9.joblib']\n",
      "['/home/lxu/drugrelink/repeated_models/node2vec/p1q0.5_wl30/word2vec_model.pickle', '/home/lxu/drugrelink/repeated_models/node2vec/p1q0.5_wl30/word2vec_model_1.pickle', '/home/lxu/drugrelink/repeated_models/node2vec/p1q0.5_wl30/word2vec_model_2.pickle', '/home/lxu/drugrelink/repeated_models/node2vec/p1q0.5_wl30/word2vec_model_3.pickle', '/home/lxu/drugrelink/repeated_models/node2vec/p1q0.5_wl30/word2vec_model_4.pickle', '/home/lxu/drugrelink/repeated_models/node2vec/p1q0.5_wl30/word2vec_model_5.pickle', '/home/lxu/drugrelink/repeated_models/node2vec/p1q0.5_wl30/word2vec_model_6.pickle', '/home/lxu/drugrelink/repeated_models/node2vec/p1q0.5_wl30/word2vec_model_7.pickle', '/home/lxu/drugrelink/repeated_models/node2vec/p1q0.5_wl30/word2vec_model_8.pickle', '/home/lxu/drugrelink/repeated_models/node2vec/p1q0.5_wl30/word2vec_model_9.pickle']\n"
     ]
    },
    {
     "ename": "KeyboardInterrupt",
     "evalue": "",
     "output_type": "error",
     "traceback": [
      "\u001b[0;31m---------------------------------------------------------------------------\u001b[0m",
      "\u001b[0;31mKeyboardInterrupt\u001b[0m                         Traceback (most recent call last)",
      "\u001b[0;32m<ipython-input-17-69cececa1079>\u001b[0m in \u001b[0;36m<module>\u001b[0;34m\u001b[0m\n\u001b[1;32m     30\u001b[0m \u001b[0;34m\u001b[0m\u001b[0m\n\u001b[1;32m     31\u001b[0m     \u001b[0;32mreturn\u001b[0m \u001b[0mdf\u001b[0m\u001b[0;34m\u001b[0m\u001b[0;34m\u001b[0m\u001b[0m\n\u001b[0;32m---> 32\u001b[0;31m \u001b[0mp1q1_wl30\u001b[0m \u001b[0;34m=\u001b[0m \u001b[0mreplace_dm\u001b[0m\u001b[0;34m(\u001b[0m\u001b[0mp1q1_wl30\u001b[0m\u001b[0;34m,\u001b[0m \u001b[0;34m'/home/lxu/drugrelink/repeated_models/node2vec/p1q0.5_wl30'\u001b[0m\u001b[0;34m)\u001b[0m\u001b[0;34m\u001b[0m\u001b[0;34m\u001b[0m\u001b[0m\n\u001b[0m",
      "\u001b[0;32m<ipython-input-17-69cececa1079>\u001b[0m in \u001b[0;36mreplace_dm\u001b[0;34m(df, models_path)\u001b[0m\n\u001b[1;32m     23\u001b[0m         \u001b[0mlabel_dm\u001b[0m \u001b[0;34m=\u001b[0m \u001b[0marray_dm\u001b[0m\u001b[0;34m[\u001b[0m\u001b[0;34m:\u001b[0m\u001b[0;34m,\u001b[0m\u001b[0;36m2\u001b[0m\u001b[0;34m]\u001b[0m\u001b[0;34m\u001b[0m\u001b[0;34m\u001b[0m\u001b[0m\n\u001b[1;32m     24\u001b[0m         \u001b[0membedder_function\u001b[0m \u001b[0;34m=\u001b[0m \u001b[0mget_embedder\u001b[0m\u001b[0;34m(\u001b[0m\u001b[0;34m'hadamard'\u001b[0m\u001b[0;34m)\u001b[0m\u001b[0;34m\u001b[0m\u001b[0;34m\u001b[0m\u001b[0m\n\u001b[0;32m---> 25\u001b[0;31m         \u001b[0mvectors_dm\u001b[0m \u001b[0;34m=\u001b[0m \u001b[0membedder_function\u001b[0m\u001b[0;34m(\u001b[0m\u001b[0mwv_model\u001b[0m\u001b[0;34m,\u001b[0m \u001b[0mlist_dm\u001b[0m\u001b[0;34m)\u001b[0m\u001b[0;34m\u001b[0m\u001b[0;34m\u001b[0m\u001b[0m\n\u001b[0m\u001b[1;32m     26\u001b[0m         \u001b[0mroc\u001b[0m\u001b[0;34m,\u001b[0m \u001b[0m_\u001b[0m\u001b[0;34m,\u001b[0m \u001b[0m_\u001b[0m \u001b[0;34m=\u001b[0m \u001b[0mvalidate\u001b[0m\u001b[0;34m(\u001b[0m\u001b[0mlg_model\u001b[0m\u001b[0;34m,\u001b[0m\u001b[0mvectors_dm\u001b[0m\u001b[0;34m,\u001b[0m\u001b[0mlabel_dm\u001b[0m\u001b[0;34m)\u001b[0m\u001b[0;34m\u001b[0m\u001b[0;34m\u001b[0m\u001b[0m\n\u001b[1;32m     27\u001b[0m         \u001b[0mreplace_list\u001b[0m\u001b[0;34m.\u001b[0m\u001b[0mappend\u001b[0m\u001b[0;34m(\u001b[0m\u001b[0mroc\u001b[0m\u001b[0;34m)\u001b[0m\u001b[0;34m\u001b[0m\u001b[0;34m\u001b[0m\u001b[0m\n",
      "\u001b[0;32m~/drugrelink/src/drugrelink/embedders.py\u001b[0m in \u001b[0;36membed\u001b[0;34m(word2vec_model, edges, edge_embedder_cls)\u001b[0m\n\u001b[1;32m     36\u001b[0m     return [\n\u001b[1;32m     37\u001b[0m         \u001b[0medge_embeddings\u001b[0m\u001b[0;34m[\u001b[0m\u001b[0msource\u001b[0m\u001b[0;34m,\u001b[0m \u001b[0mtarget\u001b[0m\u001b[0;34m]\u001b[0m\u001b[0;34m.\u001b[0m\u001b[0mtolist\u001b[0m\u001b[0;34m(\u001b[0m\u001b[0;34m)\u001b[0m\u001b[0;34m\u001b[0m\u001b[0;34m\u001b[0m\u001b[0m\n\u001b[0;32m---> 38\u001b[0;31m         \u001b[0;32mfor\u001b[0m \u001b[0msource\u001b[0m\u001b[0;34m,\u001b[0m \u001b[0mtarget\u001b[0m \u001b[0;32min\u001b[0m \u001b[0medges\u001b[0m\u001b[0;34m\u001b[0m\u001b[0;34m\u001b[0m\u001b[0m\n\u001b[0m\u001b[1;32m     39\u001b[0m     ]\n\u001b[1;32m     40\u001b[0m \u001b[0;34m\u001b[0m\u001b[0m\n",
      "\u001b[0;32m~/drugrelink/src/drugrelink/embedders.py\u001b[0m in \u001b[0;36m<listcomp>\u001b[0;34m(.0)\u001b[0m\n\u001b[1;32m     36\u001b[0m     return [\n\u001b[1;32m     37\u001b[0m         \u001b[0medge_embeddings\u001b[0m\u001b[0;34m[\u001b[0m\u001b[0msource\u001b[0m\u001b[0;34m,\u001b[0m \u001b[0mtarget\u001b[0m\u001b[0;34m]\u001b[0m\u001b[0;34m.\u001b[0m\u001b[0mtolist\u001b[0m\u001b[0;34m(\u001b[0m\u001b[0;34m)\u001b[0m\u001b[0;34m\u001b[0m\u001b[0;34m\u001b[0m\u001b[0m\n\u001b[0;32m---> 38\u001b[0;31m         \u001b[0;32mfor\u001b[0m \u001b[0msource\u001b[0m\u001b[0;34m,\u001b[0m \u001b[0mtarget\u001b[0m \u001b[0;32min\u001b[0m \u001b[0medges\u001b[0m\u001b[0;34m\u001b[0m\u001b[0;34m\u001b[0m\u001b[0m\n\u001b[0m\u001b[1;32m     39\u001b[0m     ]\n\u001b[1;32m     40\u001b[0m \u001b[0;34m\u001b[0m\u001b[0m\n",
      "\u001b[0;32m~/anaconda3/envs/my-new-rdkit-env/lib/python3.7/site-packages/node2vec/edges.py\u001b[0m in \u001b[0;36m__getitem__\u001b[0;34m(self, edge)\u001b[0m\n\u001b[1;32m     33\u001b[0m             \u001b[0;32mraise\u001b[0m \u001b[0mKeyError\u001b[0m\u001b[0;34m(\u001b[0m\u001b[0;34m'node {} does not exist in given KeyedVectors'\u001b[0m\u001b[0;34m.\u001b[0m\u001b[0mformat\u001b[0m\u001b[0;34m(\u001b[0m\u001b[0medge\u001b[0m\u001b[0;34m[\u001b[0m\u001b[0;36m0\u001b[0m\u001b[0;34m]\u001b[0m\u001b[0;34m)\u001b[0m\u001b[0;34m)\u001b[0m\u001b[0;34m\u001b[0m\u001b[0;34m\u001b[0m\u001b[0m\n\u001b[1;32m     34\u001b[0m \u001b[0;34m\u001b[0m\u001b[0m\n\u001b[0;32m---> 35\u001b[0;31m         \u001b[0;32mif\u001b[0m \u001b[0medge\u001b[0m\u001b[0;34m[\u001b[0m\u001b[0;36m1\u001b[0m\u001b[0;34m]\u001b[0m \u001b[0;32mnot\u001b[0m \u001b[0;32min\u001b[0m \u001b[0mself\u001b[0m\u001b[0;34m.\u001b[0m\u001b[0mkv\u001b[0m\u001b[0;34m.\u001b[0m\u001b[0mindex2word\u001b[0m\u001b[0;34m:\u001b[0m\u001b[0;34m\u001b[0m\u001b[0;34m\u001b[0m\u001b[0m\n\u001b[0m\u001b[1;32m     36\u001b[0m             \u001b[0;32mraise\u001b[0m \u001b[0mKeyError\u001b[0m\u001b[0;34m(\u001b[0m\u001b[0;34m'node {} does not exist in given KeyedVectors'\u001b[0m\u001b[0;34m.\u001b[0m\u001b[0mformat\u001b[0m\u001b[0;34m(\u001b[0m\u001b[0medge\u001b[0m\u001b[0;34m[\u001b[0m\u001b[0;36m1\u001b[0m\u001b[0;34m]\u001b[0m\u001b[0;34m)\u001b[0m\u001b[0;34m)\u001b[0m\u001b[0;34m\u001b[0m\u001b[0;34m\u001b[0m\u001b[0m\n\u001b[1;32m     37\u001b[0m \u001b[0;34m\u001b[0m\u001b[0m\n",
      "\u001b[0;31mKeyboardInterrupt\u001b[0m: "
     ]
    }
   ],
   "source": [
    "from os import listdir\n",
    "from os.path import isfile, join\n",
    "import joblib\n",
    "from drugrelink.embedders import get_embedder\n",
    "from drugrelink.train import validate\n",
    "import pickle\n",
    "def replace_dm (df, models_path):\n",
    "    replace_list = []\n",
    "    #file = os.join.path(models_path,)  \n",
    "    lg_files = [ os.path.join(models_path, f) for f in listdir(models_path) if 'logistic_regression' in f and isfile(os.path.join(models_path, f))]\n",
    "    wv_files = [ os.path.join(models_path, f) for f in listdir(models_path) if 'word2vec' in f and isfile(os.path.join(models_path, f))]\n",
    "    lg_files.sort()\n",
    "    wv_files.sort()\n",
    "    print(lg_files)\n",
    "    print(wv_files)\n",
    "    # sort names of wv models\n",
    "    for i in range(len(lg_files)):\n",
    "        lg_model = joblib.load(lg_files[i])\n",
    "        with open(wv_files[i],'rb') as file:\n",
    "            wv_model = pickle.load(file)\n",
    "        array_dm = np.array(test_dm)\n",
    "        list_dm = array_dm[:,0:2]\n",
    "        label_dm = array_dm[:,2]\n",
    "        embedder_function = get_embedder('hadamard')\n",
    "        vectors_dm = embedder_function(wv_model, list_dm)\n",
    "        roc, _, _ = validate(lg_model,vectors_dm,label_dm)\n",
    "        replace_list.append(roc)\n",
    "    print(replace_list)\n",
    "    df[['Disease Modifying']] = replace_list\n",
    "        \n",
    "    return df\n"
   ]
  },
  {
   "cell_type": "code",
   "execution_count": 25,
   "metadata": {},
   "outputs": [
    {
     "name": "stdout",
     "output_type": "stream",
     "text": [
      "['/home/lxu/drugrelink/repeated_models/node2vec/p1q1_wl30/logistic_regression_clf.joblib', '/home/lxu/drugrelink/repeated_models/node2vec/p1q1_wl30/logistic_regression_clf_1.joblib', '/home/lxu/drugrelink/repeated_models/node2vec/p1q1_wl30/logistic_regression_clf_2.joblib', '/home/lxu/drugrelink/repeated_models/node2vec/p1q1_wl30/logistic_regression_clf_3.joblib', '/home/lxu/drugrelink/repeated_models/node2vec/p1q1_wl30/logistic_regression_clf_4.joblib', '/home/lxu/drugrelink/repeated_models/node2vec/p1q1_wl30/logistic_regression_clf_5.joblib', '/home/lxu/drugrelink/repeated_models/node2vec/p1q1_wl30/logistic_regression_clf_6.joblib', '/home/lxu/drugrelink/repeated_models/node2vec/p1q1_wl30/logistic_regression_clf_7.joblib', '/home/lxu/drugrelink/repeated_models/node2vec/p1q1_wl30/logistic_regression_clf_8.joblib', '/home/lxu/drugrelink/repeated_models/node2vec/p1q1_wl30/logistic_regression_clf_9.joblib']\n",
      "['/home/lxu/drugrelink/repeated_models/node2vec/p1q1_wl30/word2vec_model.pickle', '/home/lxu/drugrelink/repeated_models/node2vec/p1q1_wl30/word2vec_model_1.pickle', '/home/lxu/drugrelink/repeated_models/node2vec/p1q1_wl30/word2vec_model_2.pickle', '/home/lxu/drugrelink/repeated_models/node2vec/p1q1_wl30/word2vec_model_3.pickle', '/home/lxu/drugrelink/repeated_models/node2vec/p1q1_wl30/word2vec_model_4.pickle', '/home/lxu/drugrelink/repeated_models/node2vec/p1q1_wl30/word2vec_model_5.pickle', '/home/lxu/drugrelink/repeated_models/node2vec/p1q1_wl30/word2vec_model_6.pickle', '/home/lxu/drugrelink/repeated_models/node2vec/p1q1_wl30/word2vec_model_7.pickle', '/home/lxu/drugrelink/repeated_models/node2vec/p1q1_wl30/word2vec_model_8.pickle', '/home/lxu/drugrelink/repeated_models/node2vec/p1q1_wl30/word2vec_model_9.pickle']\n",
      "[0.9271091852356453, 0.92073352951156, 0.9207295320997727, 0.9241289526911398, 0.5, 0.9223922774580007, 0.9127954895213632, 0.9359094142002747, 0.9323339930969338, 0.9177503481609031]\n",
      "['/home/lxu/drugrelink/repeated_models/node2vec/p1q0.5_wl30/logistic_regression_clf.joblib', '/home/lxu/drugrelink/repeated_models/node2vec/p1q0.5_wl30/logistic_regression_clf_1.joblib', '/home/lxu/drugrelink/repeated_models/node2vec/p1q0.5_wl30/logistic_regression_clf_2.joblib', '/home/lxu/drugrelink/repeated_models/node2vec/p1q0.5_wl30/logistic_regression_clf_3.joblib', '/home/lxu/drugrelink/repeated_models/node2vec/p1q0.5_wl30/logistic_regression_clf_4.joblib', '/home/lxu/drugrelink/repeated_models/node2vec/p1q0.5_wl30/logistic_regression_clf_5.joblib', '/home/lxu/drugrelink/repeated_models/node2vec/p1q0.5_wl30/logistic_regression_clf_6.joblib', '/home/lxu/drugrelink/repeated_models/node2vec/p1q0.5_wl30/logistic_regression_clf_7.joblib', '/home/lxu/drugrelink/repeated_models/node2vec/p1q0.5_wl30/logistic_regression_clf_8.joblib', '/home/lxu/drugrelink/repeated_models/node2vec/p1q0.5_wl30/logistic_regression_clf_9.joblib']\n",
      "['/home/lxu/drugrelink/repeated_models/node2vec/p1q0.5_wl30/word2vec_model.pickle', '/home/lxu/drugrelink/repeated_models/node2vec/p1q0.5_wl30/word2vec_model_1.pickle', '/home/lxu/drugrelink/repeated_models/node2vec/p1q0.5_wl30/word2vec_model_2.pickle', '/home/lxu/drugrelink/repeated_models/node2vec/p1q0.5_wl30/word2vec_model_3.pickle', '/home/lxu/drugrelink/repeated_models/node2vec/p1q0.5_wl30/word2vec_model_4.pickle', '/home/lxu/drugrelink/repeated_models/node2vec/p1q0.5_wl30/word2vec_model_5.pickle', '/home/lxu/drugrelink/repeated_models/node2vec/p1q0.5_wl30/word2vec_model_6.pickle', '/home/lxu/drugrelink/repeated_models/node2vec/p1q0.5_wl30/word2vec_model_7.pickle', '/home/lxu/drugrelink/repeated_models/node2vec/p1q0.5_wl30/word2vec_model_8.pickle', '/home/lxu/drugrelink/repeated_models/node2vec/p1q0.5_wl30/word2vec_model_9.pickle']\n",
      "[0.9307808937570881, 0.9279145016535081, 0.927446696436263, 0.8921943289945526, 0.9223786773606647, 0.9126664157003846, 0.9339960330295525, 0.912379421870666, 0.9157947177158394, 0.9219938263819837]\n",
      "['/home/lxu/drugrelink/repeated_models/node2vec/p1q2_nw30/logistic_regression_clf.joblib', '/home/lxu/drugrelink/repeated_models/node2vec/p1q2_nw30/logistic_regression_clf_1.joblib', '/home/lxu/drugrelink/repeated_models/node2vec/p1q2_nw30/logistic_regression_clf_2.joblib', '/home/lxu/drugrelink/repeated_models/node2vec/p1q2_nw30/logistic_regression_clf_3.joblib', '/home/lxu/drugrelink/repeated_models/node2vec/p1q2_nw30/logistic_regression_clf_4.joblib', '/home/lxu/drugrelink/repeated_models/node2vec/p1q2_nw30/logistic_regression_clf_5.joblib', '/home/lxu/drugrelink/repeated_models/node2vec/p1q2_nw30/logistic_regression_clf_6.joblib', '/home/lxu/drugrelink/repeated_models/node2vec/p1q2_nw30/logistic_regression_clf_7.joblib', '/home/lxu/drugrelink/repeated_models/node2vec/p1q2_nw30/logistic_regression_clf_8.joblib', '/home/lxu/drugrelink/repeated_models/node2vec/p1q2_nw30/logistic_regression_clf_9.joblib']\n",
      "['/home/lxu/drugrelink/repeated_models/node2vec/p1q2_nw30/word2vec_model.pickle', '/home/lxu/drugrelink/repeated_models/node2vec/p1q2_nw30/word2vec_model_1.pickle', '/home/lxu/drugrelink/repeated_models/node2vec/p1q2_nw30/word2vec_model_2.pickle', '/home/lxu/drugrelink/repeated_models/node2vec/p1q2_nw30/word2vec_model_3.pickle', '/home/lxu/drugrelink/repeated_models/node2vec/p1q2_nw30/word2vec_model_4.pickle', '/home/lxu/drugrelink/repeated_models/node2vec/p1q2_nw30/word2vec_model_5.pickle', '/home/lxu/drugrelink/repeated_models/node2vec/p1q2_nw30/word2vec_model_6.pickle', '/home/lxu/drugrelink/repeated_models/node2vec/p1q2_nw30/word2vec_model_7.pickle', '/home/lxu/drugrelink/repeated_models/node2vec/p1q2_nw30/word2vec_model_8.pickle', '/home/lxu/drugrelink/repeated_models/node2vec/p1q2_nw30/word2vec_model_9.pickle']\n",
      "[0.9316903716680993, 0.9312151435939904, 0.9261423072876537, 0.9260726290319563, 0.9282052704635151, 0.9303882004792889, 0.9280016566698007, 0.9267476133020773, 0.931350769611396, 0.9237752357670613]\n",
      "['/home/lxu/drugrelink/repeated_models/node2vec/p1q2_wl50/logistic_regression_clf.joblib', '/home/lxu/drugrelink/repeated_models/node2vec/p1q2_wl50/logistic_regression_clf_1.joblib', '/home/lxu/drugrelink/repeated_models/node2vec/p1q2_wl50/logistic_regression_clf_2.joblib', '/home/lxu/drugrelink/repeated_models/node2vec/p1q2_wl50/logistic_regression_clf_3.joblib', '/home/lxu/drugrelink/repeated_models/node2vec/p1q2_wl50/logistic_regression_clf_4.joblib', '/home/lxu/drugrelink/repeated_models/node2vec/p1q2_wl50/logistic_regression_clf_5.joblib', '/home/lxu/drugrelink/repeated_models/node2vec/p1q2_wl50/logistic_regression_clf_6.joblib', '/home/lxu/drugrelink/repeated_models/node2vec/p1q2_wl50/logistic_regression_clf_7.joblib', '/home/lxu/drugrelink/repeated_models/node2vec/p1q2_wl50/logistic_regression_clf_8.joblib', '/home/lxu/drugrelink/repeated_models/node2vec/p1q2_wl50/logistic_regression_clf_9.joblib']\n",
      "['/home/lxu/drugrelink/repeated_models/node2vec/p1q2_wl50/word2vec_model.pickle', '/home/lxu/drugrelink/repeated_models/node2vec/p1q2_wl50/word2vec_model_1.pickle', '/home/lxu/drugrelink/repeated_models/node2vec/p1q2_wl50/word2vec_model_2.pickle', '/home/lxu/drugrelink/repeated_models/node2vec/p1q2_wl50/word2vec_model_3.pickle', '/home/lxu/drugrelink/repeated_models/node2vec/p1q2_wl50/word2vec_model_4.pickle', '/home/lxu/drugrelink/repeated_models/node2vec/p1q2_wl50/word2vec_model_5.pickle', '/home/lxu/drugrelink/repeated_models/node2vec/p1q2_wl50/word2vec_model_6.pickle', '/home/lxu/drugrelink/repeated_models/node2vec/p1q2_wl50/word2vec_model_7.pickle', '/home/lxu/drugrelink/repeated_models/node2vec/p1q2_wl50/word2vec_model_8.pickle', '/home/lxu/drugrelink/repeated_models/node2vec/p1q2_wl50/word2vec_model_9.pickle']\n",
      "[0.921598552898802, 0.9458753049655007, 0.9391607653206923, 0.9405154494087026, 0.9432380490812895, 0.9286019929290299, 0.9486821362689717, 0.9355441562590174, 0.9344601268183655, 0.9445265439105358]\n",
      "['/home/lxu/drugrelink/repeated_models/node2vec/p1q2_wl100/logistic_regression_clf.joblib', '/home/lxu/drugrelink/repeated_models/node2vec/p1q2_wl100/logistic_regression_clf_1.joblib', '/home/lxu/drugrelink/repeated_models/node2vec/p1q2_wl100/logistic_regression_clf_2.joblib', '/home/lxu/drugrelink/repeated_models/node2vec/p1q2_wl100/logistic_regression_clf_3.joblib', '/home/lxu/drugrelink/repeated_models/node2vec/p1q2_wl100/logistic_regression_clf_4.joblib', '/home/lxu/drugrelink/repeated_models/node2vec/p1q2_wl100/logistic_regression_clf_5.joblib', '/home/lxu/drugrelink/repeated_models/node2vec/p1q2_wl100/logistic_regression_clf_6.joblib', '/home/lxu/drugrelink/repeated_models/node2vec/p1q2_wl100/logistic_regression_clf_7.joblib', '/home/lxu/drugrelink/repeated_models/node2vec/p1q2_wl100/logistic_regression_clf_8.joblib', '/home/lxu/drugrelink/repeated_models/node2vec/p1q2_wl100/logistic_regression_clf_9.joblib']\n",
      "['/home/lxu/drugrelink/repeated_models/node2vec/p1q2_wl100/word2vec_model.pickle', '/home/lxu/drugrelink/repeated_models/node2vec/p1q2_wl100/word2vec_model_1.pickle', '/home/lxu/drugrelink/repeated_models/node2vec/p1q2_wl100/word2vec_model_2.pickle', '/home/lxu/drugrelink/repeated_models/node2vec/p1q2_wl100/word2vec_model_3.pickle', '/home/lxu/drugrelink/repeated_models/node2vec/p1q2_wl100/word2vec_model_4.pickle', '/home/lxu/drugrelink/repeated_models/node2vec/p1q2_wl100/word2vec_model_5.pickle', '/home/lxu/drugrelink/repeated_models/node2vec/p1q2_wl100/word2vec_model_6.pickle', '/home/lxu/drugrelink/repeated_models/node2vec/p1q2_wl100/word2vec_model_7.pickle', '/home/lxu/drugrelink/repeated_models/node2vec/p1q2_wl100/word2vec_model_8.pickle', '/home/lxu/drugrelink/repeated_models/node2vec/p1q2_wl100/word2vec_model_9.pickle']\n"
     ]
    },
    {
     "name": "stdout",
     "output_type": "stream",
     "text": [
      "[0.930460935579294, 0.9509329142469695, 0.9485844824859502, 0.9324523647852425, 0.9355013223075944, 0.9288370903125585, 0.9568230147202306, 0.9466567004644975, 0.9486523050274317, 0.9434397817400454]\n"
     ]
    }
   ],
   "source": [
    "p1q1_wl30_new = replace_dm(p1q1_wl30, '/home/lxu/drugrelink/repeated_models/node2vec/p1q1_wl30')\n",
    "p1q0_5_wl30_new = replace_dm(p1q0_5_wl30,'/home/lxu/drugrelink/repeated_models/node2vec/p1q0.5_wl30')\n",
    "p1q2_wl30_new = replace_dm(p1q2_wl30,'/home/lxu/drugrelink/repeated_models/node2vec/p1q2_nw30')\n",
    "p1q2_wl50_new = replace_dm(p1q2_wl50,'/home/lxu/drugrelink/repeated_models/node2vec/p1q2_wl50')\n",
    "p1q2_wl100_new = replace_dm(p1q2_wl100,'/home/lxu/drugrelink/repeated_models/node2vec/p1q2_wl100')\n",
    "\n",
    "\n"
   ]
  },
  {
   "cell_type": "code",
   "execution_count": 31,
   "metadata": {},
   "outputs": [
    {
     "data": {
      "text/html": [
       "<div>\n",
       "<style scoped>\n",
       "    .dataframe tbody tr th:only-of-type {\n",
       "        vertical-align: middle;\n",
       "    }\n",
       "\n",
       "    .dataframe tbody tr th {\n",
       "        vertical-align: top;\n",
       "    }\n",
       "\n",
       "    .dataframe thead th {\n",
       "        text-align: right;\n",
       "    }\n",
       "</style>\n",
       "<table border=\"1\" class=\"dataframe\">\n",
       "  <thead>\n",
       "    <tr style=\"text-align: right;\">\n",
       "      <th></th>\n",
       "      <th>Disaese Modifying</th>\n",
       "      <th>Clinical Trial</th>\n",
       "      <th>Drug Central</th>\n",
       "      <th>Symptomatic</th>\n",
       "    </tr>\n",
       "  </thead>\n",
       "  <tbody>\n",
       "    <tr>\n",
       "      <td>0</td>\n",
       "      <td>0.932334</td>\n",
       "      <td>0.715545</td>\n",
       "      <td>0.817488</td>\n",
       "      <td>0.889800</td>\n",
       "    </tr>\n",
       "    <tr>\n",
       "      <td>1</td>\n",
       "      <td>0.917750</td>\n",
       "      <td>0.701025</td>\n",
       "      <td>0.758899</td>\n",
       "      <td>0.781241</td>\n",
       "    </tr>\n",
       "    <tr>\n",
       "      <td>2</td>\n",
       "      <td>0.500000</td>\n",
       "      <td>0.500000</td>\n",
       "      <td>0.500000</td>\n",
       "      <td>0.500000</td>\n",
       "    </tr>\n",
       "    <tr>\n",
       "      <td>3</td>\n",
       "      <td>0.935909</td>\n",
       "      <td>0.712806</td>\n",
       "      <td>0.825138</td>\n",
       "      <td>0.837450</td>\n",
       "    </tr>\n",
       "    <tr>\n",
       "      <td>4</td>\n",
       "      <td>0.920734</td>\n",
       "      <td>0.722368</td>\n",
       "      <td>0.794240</td>\n",
       "      <td>0.817617</td>\n",
       "    </tr>\n",
       "    <tr>\n",
       "      <td>5</td>\n",
       "      <td>0.920730</td>\n",
       "      <td>0.690505</td>\n",
       "      <td>0.777279</td>\n",
       "      <td>0.707269</td>\n",
       "    </tr>\n",
       "    <tr>\n",
       "      <td>6</td>\n",
       "      <td>0.912795</td>\n",
       "      <td>0.717028</td>\n",
       "      <td>0.806795</td>\n",
       "      <td>0.824595</td>\n",
       "    </tr>\n",
       "    <tr>\n",
       "      <td>7</td>\n",
       "      <td>0.922392</td>\n",
       "      <td>0.699408</td>\n",
       "      <td>0.826327</td>\n",
       "      <td>0.827995</td>\n",
       "    </tr>\n",
       "    <tr>\n",
       "      <td>8</td>\n",
       "      <td>0.927109</td>\n",
       "      <td>0.725275</td>\n",
       "      <td>0.792356</td>\n",
       "      <td>0.800122</td>\n",
       "    </tr>\n",
       "    <tr>\n",
       "      <td>9</td>\n",
       "      <td>0.924129</td>\n",
       "      <td>0.731944</td>\n",
       "      <td>0.810817</td>\n",
       "      <td>0.851771</td>\n",
       "    </tr>\n",
       "  </tbody>\n",
       "</table>\n",
       "</div>"
      ],
      "text/plain": [
       "   Disaese Modifying  Clinical Trial  Drug Central  Symptomatic\n",
       "0           0.932334        0.715545      0.817488     0.889800\n",
       "1           0.917750        0.701025      0.758899     0.781241\n",
       "2           0.500000        0.500000      0.500000     0.500000\n",
       "3           0.935909        0.712806      0.825138     0.837450\n",
       "4           0.920734        0.722368      0.794240     0.817617\n",
       "5           0.920730        0.690505      0.777279     0.707269\n",
       "6           0.912795        0.717028      0.806795     0.824595\n",
       "7           0.922392        0.699408      0.826327     0.827995\n",
       "8           0.927109        0.725275      0.792356     0.800122\n",
       "9           0.924129        0.731944      0.810817     0.851771"
      ]
     },
     "execution_count": 31,
     "metadata": {},
     "output_type": "execute_result"
    }
   ],
   "source": [
    "wl30 = pd.read_csv('nw10_repeat.csv',index_col=0)\n",
    "wl30"
   ]
  },
  {
   "cell_type": "code",
   "execution_count": 26,
   "metadata": {},
   "outputs": [],
   "source": [
    "p1q1_wl30_new.to_csv('p1q1_wl30_new.csv')\n",
    "p1q0_5_wl30_new.to_csv('p1q0_5_wl30_new.csv')\n",
    "p1q2_wl30_new.to_csv('p1q2_wl30_new.csv')\n",
    "p1q2_wl50_new.to_csv('p1q2_wl50_new.csv')\n",
    "p1q2_wl100_new.to_csv('p1q2_wl100_new.csv')"
   ]
  },
  {
   "cell_type": "code",
   "execution_count": 35,
   "metadata": {},
   "outputs": [],
   "source": [
    "p1q1_wl30_new = pd.read_csv('p1q1_wl30_new.csv',index_col=0)\n",
    "p1q1_wl30_new['Clinical Trial'] = wl30['Clinical Trial'].tolist()\n",
    "p1q1_wl30_new\n",
    "p1q1_wl30_new.to_csv('p1q1_wl30_new.csv')"
   ]
  },
  {
   "cell_type": "code",
   "execution_count": 42,
   "metadata": {},
   "outputs": [
    {
     "data": {
      "text/html": [
       "<div>\n",
       "<style scoped>\n",
       "    .dataframe tbody tr th:only-of-type {\n",
       "        vertical-align: middle;\n",
       "    }\n",
       "\n",
       "    .dataframe tbody tr th {\n",
       "        vertical-align: top;\n",
       "    }\n",
       "\n",
       "    .dataframe thead th {\n",
       "        text-align: right;\n",
       "    }\n",
       "</style>\n",
       "<table border=\"1\" class=\"dataframe\">\n",
       "  <thead>\n",
       "    <tr style=\"text-align: right;\">\n",
       "      <th></th>\n",
       "      <th>Training Data</th>\n",
       "      <th>Clinical Trial</th>\n",
       "      <th>Drug Central</th>\n",
       "      <th>Symptomatic</th>\n",
       "      <th>Disease Modifying</th>\n",
       "    </tr>\n",
       "  </thead>\n",
       "  <tbody>\n",
       "    <tr>\n",
       "      <td>0</td>\n",
       "      <td>0.948652</td>\n",
       "      <td>0.708400</td>\n",
       "      <td>0.814491</td>\n",
       "      <td>0.788971</td>\n",
       "      <td>0.930461</td>\n",
       "    </tr>\n",
       "    <tr>\n",
       "      <td>1</td>\n",
       "      <td>0.943440</td>\n",
       "      <td>0.701813</td>\n",
       "      <td>0.828543</td>\n",
       "      <td>0.874783</td>\n",
       "      <td>0.950933</td>\n",
       "    </tr>\n",
       "    <tr>\n",
       "      <td>2</td>\n",
       "      <td>0.935501</td>\n",
       "      <td>0.676134</td>\n",
       "      <td>0.819853</td>\n",
       "      <td>0.874400</td>\n",
       "      <td>0.948584</td>\n",
       "    </tr>\n",
       "    <tr>\n",
       "      <td>3</td>\n",
       "      <td>0.946657</td>\n",
       "      <td>0.700302</td>\n",
       "      <td>0.813700</td>\n",
       "      <td>0.838019</td>\n",
       "      <td>0.932452</td>\n",
       "    </tr>\n",
       "    <tr>\n",
       "      <td>4</td>\n",
       "      <td>0.950933</td>\n",
       "      <td>0.702810</td>\n",
       "      <td>0.842467</td>\n",
       "      <td>0.866548</td>\n",
       "      <td>0.935501</td>\n",
       "    </tr>\n",
       "    <tr>\n",
       "      <td>5</td>\n",
       "      <td>0.948584</td>\n",
       "      <td>0.699754</td>\n",
       "      <td>0.818917</td>\n",
       "      <td>0.854805</td>\n",
       "      <td>0.928837</td>\n",
       "    </tr>\n",
       "    <tr>\n",
       "      <td>6</td>\n",
       "      <td>0.956823</td>\n",
       "      <td>0.714927</td>\n",
       "      <td>0.844998</td>\n",
       "      <td>0.852863</td>\n",
       "      <td>0.956823</td>\n",
       "    </tr>\n",
       "    <tr>\n",
       "      <td>7</td>\n",
       "      <td>0.928837</td>\n",
       "      <td>0.723439</td>\n",
       "      <td>0.783933</td>\n",
       "      <td>0.852227</td>\n",
       "      <td>0.946657</td>\n",
       "    </tr>\n",
       "    <tr>\n",
       "      <td>8</td>\n",
       "      <td>0.930461</td>\n",
       "      <td>0.714226</td>\n",
       "      <td>0.784787</td>\n",
       "      <td>0.855562</td>\n",
       "      <td>0.948652</td>\n",
       "    </tr>\n",
       "    <tr>\n",
       "      <td>9</td>\n",
       "      <td>0.932452</td>\n",
       "      <td>0.716803</td>\n",
       "      <td>0.805213</td>\n",
       "      <td>0.852469</td>\n",
       "      <td>0.943440</td>\n",
       "    </tr>\n",
       "  </tbody>\n",
       "</table>\n",
       "</div>"
      ],
      "text/plain": [
       "   Training Data  Clinical Trial  Drug Central  Symptomatic  Disease Modifying\n",
       "0       0.948652        0.708400      0.814491     0.788971           0.930461\n",
       "1       0.943440        0.701813      0.828543     0.874783           0.950933\n",
       "2       0.935501        0.676134      0.819853     0.874400           0.948584\n",
       "3       0.946657        0.700302      0.813700     0.838019           0.932452\n",
       "4       0.950933        0.702810      0.842467     0.866548           0.935501\n",
       "5       0.948584        0.699754      0.818917     0.854805           0.928837\n",
       "6       0.956823        0.714927      0.844998     0.852863           0.956823\n",
       "7       0.928837        0.723439      0.783933     0.852227           0.946657\n",
       "8       0.930461        0.714226      0.784787     0.855562           0.948652\n",
       "9       0.932452        0.716803      0.805213     0.852469           0.943440"
      ]
     },
     "execution_count": 42,
     "metadata": {},
     "output_type": "execute_result"
    }
   ],
   "source": [
    "p1q1_wl30_new.rename(columns={'Disaese Modifying':'Training Data'})\n",
    "p1q0_5_wl30_new.rename(columns={'Disaese Modifying':'Training Data'})\n",
    "p1q2_wl30_new.rename(columns={'Disaese Modifying':'Training Data'})\n",
    "p1q2_wl50_new.rename(columns={'Disaese Modifying':'Training Data'})\n",
    "p1q2_wl100_new.rename(columns={'Disaese Modifying':'Training Data'})\n"
   ]
  },
  {
   "cell_type": "code",
   "execution_count": 39,
   "metadata": {},
   "outputs": [],
   "source": [
    "p1q1_wl30_new.insert(5,'q',1)\n",
    "p1q0_5_wl30_new.insert(5,'q',0.5)\n",
    "p1q2_wl30_new.insert(5,'q',2)\n"
   ]
  },
  {
   "cell_type": "code",
   "execution_count": 58,
   "metadata": {},
   "outputs": [
    {
     "data": {
      "text/html": [
       "<div>\n",
       "<style scoped>\n",
       "    .dataframe tbody tr th:only-of-type {\n",
       "        vertical-align: middle;\n",
       "    }\n",
       "\n",
       "    .dataframe tbody tr th {\n",
       "        vertical-align: top;\n",
       "    }\n",
       "\n",
       "    .dataframe thead th {\n",
       "        text-align: right;\n",
       "    }\n",
       "</style>\n",
       "<table border=\"1\" class=\"dataframe\">\n",
       "  <thead>\n",
       "    <tr style=\"text-align: right;\">\n",
       "      <th></th>\n",
       "      <th>Training Data</th>\n",
       "      <th>Clinical Trial</th>\n",
       "      <th>Drug Central</th>\n",
       "      <th>Symptomatic</th>\n",
       "      <th>Disease Modifying</th>\n",
       "      <th>q</th>\n",
       "    </tr>\n",
       "  </thead>\n",
       "  <tbody>\n",
       "    <tr>\n",
       "      <td>0</td>\n",
       "      <td>0.932334</td>\n",
       "      <td>0.715545</td>\n",
       "      <td>0.817488</td>\n",
       "      <td>0.889800</td>\n",
       "      <td>0.927109</td>\n",
       "      <td>1</td>\n",
       "    </tr>\n",
       "    <tr>\n",
       "      <td>1</td>\n",
       "      <td>0.917750</td>\n",
       "      <td>0.701025</td>\n",
       "      <td>0.758899</td>\n",
       "      <td>0.781241</td>\n",
       "      <td>0.920734</td>\n",
       "      <td>1</td>\n",
       "    </tr>\n",
       "    <tr>\n",
       "      <td>2</td>\n",
       "      <td>0.500000</td>\n",
       "      <td>0.500000</td>\n",
       "      <td>0.500000</td>\n",
       "      <td>0.500000</td>\n",
       "      <td>0.920730</td>\n",
       "      <td>1</td>\n",
       "    </tr>\n",
       "    <tr>\n",
       "      <td>3</td>\n",
       "      <td>0.935909</td>\n",
       "      <td>0.712806</td>\n",
       "      <td>0.825138</td>\n",
       "      <td>0.837450</td>\n",
       "      <td>0.924129</td>\n",
       "      <td>1</td>\n",
       "    </tr>\n",
       "    <tr>\n",
       "      <td>4</td>\n",
       "      <td>0.920734</td>\n",
       "      <td>0.722368</td>\n",
       "      <td>0.794240</td>\n",
       "      <td>0.817617</td>\n",
       "      <td>0.500000</td>\n",
       "      <td>1</td>\n",
       "    </tr>\n",
       "    <tr>\n",
       "      <td>5</td>\n",
       "      <td>0.920730</td>\n",
       "      <td>0.690505</td>\n",
       "      <td>0.777279</td>\n",
       "      <td>0.707269</td>\n",
       "      <td>0.922392</td>\n",
       "      <td>1</td>\n",
       "    </tr>\n",
       "    <tr>\n",
       "      <td>6</td>\n",
       "      <td>0.912795</td>\n",
       "      <td>0.717028</td>\n",
       "      <td>0.806795</td>\n",
       "      <td>0.824595</td>\n",
       "      <td>0.912795</td>\n",
       "      <td>1</td>\n",
       "    </tr>\n",
       "    <tr>\n",
       "      <td>7</td>\n",
       "      <td>0.922392</td>\n",
       "      <td>0.699408</td>\n",
       "      <td>0.826327</td>\n",
       "      <td>0.827995</td>\n",
       "      <td>0.935909</td>\n",
       "      <td>1</td>\n",
       "    </tr>\n",
       "    <tr>\n",
       "      <td>8</td>\n",
       "      <td>0.927109</td>\n",
       "      <td>0.725275</td>\n",
       "      <td>0.792356</td>\n",
       "      <td>0.800122</td>\n",
       "      <td>0.932334</td>\n",
       "      <td>1</td>\n",
       "    </tr>\n",
       "    <tr>\n",
       "      <td>9</td>\n",
       "      <td>0.924129</td>\n",
       "      <td>0.731944</td>\n",
       "      <td>0.810817</td>\n",
       "      <td>0.851771</td>\n",
       "      <td>0.917750</td>\n",
       "      <td>1</td>\n",
       "    </tr>\n",
       "  </tbody>\n",
       "</table>\n",
       "</div>"
      ],
      "text/plain": [
       "   Training Data  Clinical Trial  Drug Central  Symptomatic  \\\n",
       "0       0.932334        0.715545      0.817488     0.889800   \n",
       "1       0.917750        0.701025      0.758899     0.781241   \n",
       "2       0.500000        0.500000      0.500000     0.500000   \n",
       "3       0.935909        0.712806      0.825138     0.837450   \n",
       "4       0.920734        0.722368      0.794240     0.817617   \n",
       "5       0.920730        0.690505      0.777279     0.707269   \n",
       "6       0.912795        0.717028      0.806795     0.824595   \n",
       "7       0.922392        0.699408      0.826327     0.827995   \n",
       "8       0.927109        0.725275      0.792356     0.800122   \n",
       "9       0.924129        0.731944      0.810817     0.851771   \n",
       "\n",
       "   Disease Modifying  q  \n",
       "0           0.927109  1  \n",
       "1           0.920734  1  \n",
       "2           0.920730  1  \n",
       "3           0.924129  1  \n",
       "4           0.500000  1  \n",
       "5           0.922392  1  \n",
       "6           0.912795  1  \n",
       "7           0.935909  1  \n",
       "8           0.932334  1  \n",
       "9           0.917750  1  "
      ]
     },
     "execution_count": 58,
     "metadata": {},
     "output_type": "execute_result"
    }
   ],
   "source": [
    "p1q1_wl30_new.rename(columns={'Disaese Modifying':'Training Data'},inplace=True)\n",
    "p1q1_wl30_new"
   ]
  },
  {
   "cell_type": "code",
   "execution_count": 126,
   "metadata": {},
   "outputs": [
    {
     "data": {
      "text/html": [
       "<div>\n",
       "<style scoped>\n",
       "    .dataframe tbody tr th:only-of-type {\n",
       "        vertical-align: middle;\n",
       "    }\n",
       "\n",
       "    .dataframe tbody tr th {\n",
       "        vertical-align: top;\n",
       "    }\n",
       "\n",
       "    .dataframe thead th {\n",
       "        text-align: right;\n",
       "    }\n",
       "</style>\n",
       "<table border=\"1\" class=\"dataframe\">\n",
       "  <thead>\n",
       "    <tr style=\"text-align: right;\">\n",
       "      <th></th>\n",
       "      <th>Disaese Modifying</th>\n",
       "      <th>Clinical Trial</th>\n",
       "      <th>Drug Central</th>\n",
       "      <th>Symptomatic</th>\n",
       "      <th>walk_length</th>\n",
       "      <th>Disease Modifying</th>\n",
       "    </tr>\n",
       "  </thead>\n",
       "  <tbody>\n",
       "    <tr>\n",
       "      <td>0</td>\n",
       "      <td>0.948652</td>\n",
       "      <td>0.708400</td>\n",
       "      <td>0.814491</td>\n",
       "      <td>0.788971</td>\n",
       "      <td>100</td>\n",
       "      <td>0.930461</td>\n",
       "    </tr>\n",
       "    <tr>\n",
       "      <td>1</td>\n",
       "      <td>0.943440</td>\n",
       "      <td>0.701813</td>\n",
       "      <td>0.828543</td>\n",
       "      <td>0.874783</td>\n",
       "      <td>100</td>\n",
       "      <td>0.950933</td>\n",
       "    </tr>\n",
       "    <tr>\n",
       "      <td>2</td>\n",
       "      <td>0.935501</td>\n",
       "      <td>0.676134</td>\n",
       "      <td>0.819853</td>\n",
       "      <td>0.874400</td>\n",
       "      <td>100</td>\n",
       "      <td>0.948584</td>\n",
       "    </tr>\n",
       "    <tr>\n",
       "      <td>3</td>\n",
       "      <td>0.946657</td>\n",
       "      <td>0.700302</td>\n",
       "      <td>0.813700</td>\n",
       "      <td>0.838019</td>\n",
       "      <td>100</td>\n",
       "      <td>0.932452</td>\n",
       "    </tr>\n",
       "    <tr>\n",
       "      <td>4</td>\n",
       "      <td>0.950933</td>\n",
       "      <td>0.702810</td>\n",
       "      <td>0.842467</td>\n",
       "      <td>0.866548</td>\n",
       "      <td>100</td>\n",
       "      <td>0.935501</td>\n",
       "    </tr>\n",
       "    <tr>\n",
       "      <td>5</td>\n",
       "      <td>0.948584</td>\n",
       "      <td>0.699754</td>\n",
       "      <td>0.818917</td>\n",
       "      <td>0.854805</td>\n",
       "      <td>100</td>\n",
       "      <td>0.928837</td>\n",
       "    </tr>\n",
       "    <tr>\n",
       "      <td>6</td>\n",
       "      <td>0.956823</td>\n",
       "      <td>0.714927</td>\n",
       "      <td>0.844998</td>\n",
       "      <td>0.852863</td>\n",
       "      <td>100</td>\n",
       "      <td>0.956823</td>\n",
       "    </tr>\n",
       "    <tr>\n",
       "      <td>7</td>\n",
       "      <td>0.928837</td>\n",
       "      <td>0.723439</td>\n",
       "      <td>0.783933</td>\n",
       "      <td>0.852227</td>\n",
       "      <td>100</td>\n",
       "      <td>0.946657</td>\n",
       "    </tr>\n",
       "    <tr>\n",
       "      <td>8</td>\n",
       "      <td>0.930461</td>\n",
       "      <td>0.714226</td>\n",
       "      <td>0.784787</td>\n",
       "      <td>0.855562</td>\n",
       "      <td>100</td>\n",
       "      <td>0.948652</td>\n",
       "    </tr>\n",
       "    <tr>\n",
       "      <td>9</td>\n",
       "      <td>0.932452</td>\n",
       "      <td>0.716803</td>\n",
       "      <td>0.805213</td>\n",
       "      <td>0.852469</td>\n",
       "      <td>100</td>\n",
       "      <td>0.943440</td>\n",
       "    </tr>\n",
       "  </tbody>\n",
       "</table>\n",
       "</div>"
      ],
      "text/plain": [
       "   Disaese Modifying  Clinical Trial  Drug Central  Symptomatic  walk_length  \\\n",
       "0           0.948652        0.708400      0.814491     0.788971          100   \n",
       "1           0.943440        0.701813      0.828543     0.874783          100   \n",
       "2           0.935501        0.676134      0.819853     0.874400          100   \n",
       "3           0.946657        0.700302      0.813700     0.838019          100   \n",
       "4           0.950933        0.702810      0.842467     0.866548          100   \n",
       "5           0.948584        0.699754      0.818917     0.854805          100   \n",
       "6           0.956823        0.714927      0.844998     0.852863          100   \n",
       "7           0.928837        0.723439      0.783933     0.852227          100   \n",
       "8           0.930461        0.714226      0.784787     0.855562          100   \n",
       "9           0.932452        0.716803      0.805213     0.852469          100   \n",
       "\n",
       "   Disease Modifying  \n",
       "0           0.930461  \n",
       "1           0.950933  \n",
       "2           0.948584  \n",
       "3           0.932452  \n",
       "4           0.935501  \n",
       "5           0.928837  \n",
       "6           0.956823  \n",
       "7           0.946657  \n",
       "8           0.948652  \n",
       "9           0.943440  "
      ]
     },
     "execution_count": 126,
     "metadata": {},
     "output_type": "execute_result"
    }
   ],
   "source": [
    "p1q2_wl100_new"
   ]
  },
  {
   "cell_type": "code",
   "execution_count": 51,
   "metadata": {},
   "outputs": [],
   "source": [
    "p1q0_5_wl30_new.rename(columns={'Disaese Modifying':'Training Data'},inplace=True)"
   ]
  },
  {
   "cell_type": "code",
   "execution_count": 52,
   "metadata": {},
   "outputs": [],
   "source": [
    "p1q2_wl30_new.rename(columns={'Disaese Modifying':'Training Data'},inplace=True)"
   ]
  },
  {
   "cell_type": "code",
   "execution_count": 70,
   "metadata": {},
   "outputs": [],
   "source": [
    "df_pq = pd.concat([p1q1_wl30_new,p1q0_5_wl30_new,p1q2_wl30_new])\n",
    "df_pq.drop(columns=['Training Data'],inplace=True)"
   ]
  },
  {
   "cell_type": "code",
   "execution_count": 72,
   "metadata": {},
   "outputs": [
    {
     "data": {
      "text/html": [
       "<div>\n",
       "<style scoped>\n",
       "    .dataframe tbody tr th:only-of-type {\n",
       "        vertical-align: middle;\n",
       "    }\n",
       "\n",
       "    .dataframe tbody tr th {\n",
       "        vertical-align: top;\n",
       "    }\n",
       "\n",
       "    .dataframe thead th {\n",
       "        text-align: right;\n",
       "    }\n",
       "</style>\n",
       "<table border=\"1\" class=\"dataframe\">\n",
       "  <thead>\n",
       "    <tr style=\"text-align: right;\">\n",
       "      <th></th>\n",
       "      <th>q</th>\n",
       "      <th>variable</th>\n",
       "      <th>value</th>\n",
       "    </tr>\n",
       "  </thead>\n",
       "  <tbody>\n",
       "    <tr>\n",
       "      <td>0</td>\n",
       "      <td>1.0</td>\n",
       "      <td>Clinical Trial</td>\n",
       "      <td>0.715545</td>\n",
       "    </tr>\n",
       "    <tr>\n",
       "      <td>1</td>\n",
       "      <td>1.0</td>\n",
       "      <td>Clinical Trial</td>\n",
       "      <td>0.701025</td>\n",
       "    </tr>\n",
       "    <tr>\n",
       "      <td>2</td>\n",
       "      <td>1.0</td>\n",
       "      <td>Clinical Trial</td>\n",
       "      <td>0.500000</td>\n",
       "    </tr>\n",
       "    <tr>\n",
       "      <td>3</td>\n",
       "      <td>1.0</td>\n",
       "      <td>Clinical Trial</td>\n",
       "      <td>0.712806</td>\n",
       "    </tr>\n",
       "    <tr>\n",
       "      <td>4</td>\n",
       "      <td>1.0</td>\n",
       "      <td>Clinical Trial</td>\n",
       "      <td>0.722368</td>\n",
       "    </tr>\n",
       "    <tr>\n",
       "      <td>...</td>\n",
       "      <td>...</td>\n",
       "      <td>...</td>\n",
       "      <td>...</td>\n",
       "    </tr>\n",
       "    <tr>\n",
       "      <td>115</td>\n",
       "      <td>2.0</td>\n",
       "      <td>Disease Modifying</td>\n",
       "      <td>0.930388</td>\n",
       "    </tr>\n",
       "    <tr>\n",
       "      <td>116</td>\n",
       "      <td>2.0</td>\n",
       "      <td>Disease Modifying</td>\n",
       "      <td>0.928002</td>\n",
       "    </tr>\n",
       "    <tr>\n",
       "      <td>117</td>\n",
       "      <td>2.0</td>\n",
       "      <td>Disease Modifying</td>\n",
       "      <td>0.926748</td>\n",
       "    </tr>\n",
       "    <tr>\n",
       "      <td>118</td>\n",
       "      <td>2.0</td>\n",
       "      <td>Disease Modifying</td>\n",
       "      <td>0.931351</td>\n",
       "    </tr>\n",
       "    <tr>\n",
       "      <td>119</td>\n",
       "      <td>2.0</td>\n",
       "      <td>Disease Modifying</td>\n",
       "      <td>0.923775</td>\n",
       "    </tr>\n",
       "  </tbody>\n",
       "</table>\n",
       "<p>120 rows × 3 columns</p>\n",
       "</div>"
      ],
      "text/plain": [
       "       q           variable     value\n",
       "0    1.0     Clinical Trial  0.715545\n",
       "1    1.0     Clinical Trial  0.701025\n",
       "2    1.0     Clinical Trial  0.500000\n",
       "3    1.0     Clinical Trial  0.712806\n",
       "4    1.0     Clinical Trial  0.722368\n",
       "..   ...                ...       ...\n",
       "115  2.0  Disease Modifying  0.930388\n",
       "116  2.0  Disease Modifying  0.928002\n",
       "117  2.0  Disease Modifying  0.926748\n",
       "118  2.0  Disease Modifying  0.931351\n",
       "119  2.0  Disease Modifying  0.923775\n",
       "\n",
       "[120 rows x 3 columns]"
      ]
     },
     "execution_count": 72,
     "metadata": {},
     "output_type": "execute_result"
    }
   ],
   "source": [
    "dff=df_pq.melt(id_vars='q')\n",
    "dff"
   ]
  },
  {
   "cell_type": "code",
   "execution_count": 102,
   "metadata": {},
   "outputs": [
    {
     "data": {
      "image/png": "[encoded data removed]",
      "text/plain": [
       "<Figure size 2160x1080 with 1 Axes>"
      ]
     },
     "metadata": {
      "needs_background": "light"
     },
     "output_type": "display_data"
    }
   ],
   "source": [
    "a=plt.figure(figsize=(30,15))\n",
    "pp = sns.boxplot(x='variable',y='value',hue='q',data=dff,palette = 'Greens')\n",
    "#plattele =[\"windows blue\", \"amber\", \"greyish\", \"faded green\"]\n",
    "#sns.color_palette(plattele)\n",
    "pp.set_title('A comparison between learned features from node2vec and eigineered features with different q values',fontsize=40)\n",
    "pp.set_ylabel('AUC-ROC',fontsize=40)\n",
    "pp.set_xlabel('Evaluation data sets',fontsize=40)\n",
    "#pp.axhline(y=0.974,ls='--',color ='#9b59b6')\n",
    "#pp.axhline(y=0.7,ls='--',color='#e74c3c')\n",
    "#pp.axhline(y=0.855,ls='--',color ='#95a5a6')\n",
    "#pp.axhline(y=0.702,ls='--',color ='#2ecc71')\n",
    "\n",
    "plt.plot(['Clinical Trial'],[0.7],marker=\"*\",markersize=40,color='orange')\n",
    "plt.plot(['Drug Central'],[0.855],marker=\"*\",markersize=40,color='orange')\n",
    "plt.plot(['Symptomatic'],[0.702],marker=\"*\",markersize=40,color='orange')\n",
    "plt.plot(['Disease Modifying'],[0.974],marker=\"*\",markersize=40,color='orange')\n",
    "pp.tick_params(labelsize=30)\n",
    "plt.setp(pp.get_legend().get_texts(), fontsize='32') # for legend text\n",
    "plt.setp(pp.get_legend().get_title(), fontsize='32')\n",
    "a.savefig('pq.png')"
   ]
  },
  {
   "cell_type": "code",
   "execution_count": 83,
   "metadata": {},
   "outputs": [],
   "source": [
    "#p1q2_wl30_new.drop(columns=['Training Data','q'])\n",
    "p1q2_wl30_new.insert(4,'walk_length',30)\n",
    "p1q2_wl50_new.insert(4,'walk_length',50)\n",
    "p1q2_wl100_new.insert(4,'walk_length',100)"
   ]
  },
  {
   "cell_type": "code",
   "execution_count": 86,
   "metadata": {},
   "outputs": [
    {
     "name": "stderr",
     "output_type": "stream",
     "text": [
      "/home/lxu/anaconda3/envs/my-new-rdkit-env/lib/python3.7/site-packages/ipykernel_launcher.py:1: FutureWarning: Sorting because non-concatenation axis is not aligned. A future version\n",
      "of pandas will change to not sort by default.\n",
      "\n",
      "To accept the future behavior, pass 'sort=False'.\n",
      "\n",
      "To retain the current behavior and silence the warning, pass 'sort=True'.\n",
      "\n",
      "  \"\"\"Entry point for launching an IPython kernel.\n"
     ]
    }
   ],
   "source": [
    "df_wl = pd.concat([p1q2_wl30_new, p1q2_wl50_new,p1q2_wl100_new])"
   ]
  },
  {
   "cell_type": "code",
   "execution_count": 89,
   "metadata": {},
   "outputs": [],
   "source": [
    "df_wl.drop(columns=['Disaese Modifying'],inplace=True)\n"
   ]
  },
  {
   "cell_type": "code",
   "execution_count": 95,
   "metadata": {},
   "outputs": [],
   "source": [
    "dff_wl=df_wl.melt(id_vars='walk_length')"
   ]
  },
  {
   "cell_type": "code",
   "execution_count": 104,
   "metadata": {},
   "outputs": [
    {
     "data": {
      "image/png": "[encoded data removed]",
      "text/plain": [
       "<Figure size 2160x1080 with 1 Axes>"
      ]
     },
     "metadata": {
      "needs_background": "light"
     },
     "output_type": "display_data"
    }
   ],
   "source": [
    "a=plt.figure(figsize=(30,15))\n",
    "pp = sns.boxplot(x='variable',y='value',hue='walk_length',data=dff_wl,palette='Greens')\n",
    "#plattele =[\"windows blue\", \"amber\", \"greyish\", \"faded green\"]\n",
    "#sns.color_palette(plattele)\n",
    "pp.set_title('A comparison between learned features from node2vec and engineered features with different walk length values',fontsize=40)\n",
    "pp.set_ylabel('AUC-ROC',fontsize=40)\n",
    "pp.set_xlabel('Evaluation data sets',fontsize=40)\n",
    "plt.plot(['Clinical Trial'],[0.7],marker=\"*\",markersize=40,color='orange')\n",
    "plt.plot(['Disease Modifying'],[0.974],marker=\"*\",markersize=40,color='orange')\n",
    "plt.plot(['Drug Central'],[0.855],marker=\"*\",markersize=40,color='orange')\n",
    "plt.plot(['Symptomatic'],[0.702],marker=\"*\",markersize=40,color='orange')\n",
    "\n",
    "pp.tick_params(labelsize=30)\n",
    "plt.setp(pp.get_legend().get_texts(), fontsize='32') # for legend text\n",
    "plt.setp(pp.get_legend().get_title(), fontsize='32')\n",
    "a.savefig('wl.png')"
   ]
  },
  {
   "cell_type": "markdown",
   "metadata": {},
   "source": [
    "# AUROC of edge2vec"
   ]
  },
  {
   "cell_type": "code",
   "execution_count": null,
   "metadata": {},
   "outputs": [],
   "source": []
  },
  {
   "cell_type": "code",
   "execution_count": 120,
   "metadata": {},
   "outputs": [
    {
     "data": {
      "text/plain": [
       "[<matplotlib.lines.Line2D at 0x7f08b2d24790>]"
      ]
     },
     "execution_count": 120,
     "metadata": {},
     "output_type": "execute_result"
    },
    {
     "data": {
      "image/png": "[encoded data removed]",
      "text/plain": [
       "<Figure size 432x288 with 1 Axes>"
      ]
     },
     "metadata": {
      "needs_background": "light"
     },
     "output_type": "display_data"
    }
   ],
   "source": [
    "edge2vec_em10 = read_repeat('/home/lxu/Desktop/edge2vec_em10')\n",
    "edge2vec_em10.to_csv('edge2vec_em10')\n",
    "pl= sns.boxplot(data=edge2vec_em10)\n",
    "pl.set_title('AUROC of four data sets repeated 10 times')\n",
    "plt.plot(['Disease Modifying'],[0.974],marker=\"*\")\n",
    "plt.plot(['Clinical Trial'],[0.7],marker=\"*\")\n",
    "plt.plot(['Drug Central'],[0.855],marker=\"*\")\n",
    "plt.plot(['Symptomatic'],[0.702],marker=\"*\")\n",
    "# dimensions = 48\n",
    "# walk_lenght =100\n",
    "# num_walks =10\n",
    "# repeat=10\n",
    "# window =3\n",
    "# p=1\n",
    "# q=1\n",
    "# e_step =1\n",
    "# em_iteration =10\n",
    "# max_count =10000"
   ]
  },
  {
   "cell_type": "code",
   "execution_count": 121,
   "metadata": {},
   "outputs": [
    {
     "data": {
      "text/html": [
       "<div>\n",
       "<style scoped>\n",
       "    .dataframe tbody tr th:only-of-type {\n",
       "        vertical-align: middle;\n",
       "    }\n",
       "\n",
       "    .dataframe tbody tr th {\n",
       "        vertical-align: top;\n",
       "    }\n",
       "\n",
       "    .dataframe thead th {\n",
       "        text-align: right;\n",
       "    }\n",
       "</style>\n",
       "<table border=\"1\" class=\"dataframe\">\n",
       "  <thead>\n",
       "    <tr style=\"text-align: right;\">\n",
       "      <th></th>\n",
       "      <th>Disaese Modifying</th>\n",
       "      <th>Clinical Trial</th>\n",
       "      <th>Drug Central</th>\n",
       "      <th>Symptomatic</th>\n",
       "    </tr>\n",
       "  </thead>\n",
       "  <tbody>\n",
       "    <tr>\n",
       "      <td>0</td>\n",
       "      <td>0.927677</td>\n",
       "      <td>0.680984</td>\n",
       "      <td>0.797945</td>\n",
       "      <td>0.892114</td>\n",
       "    </tr>\n",
       "    <tr>\n",
       "      <td>1</td>\n",
       "      <td>0.956943</td>\n",
       "      <td>0.669894</td>\n",
       "      <td>0.826669</td>\n",
       "      <td>0.951467</td>\n",
       "    </tr>\n",
       "    <tr>\n",
       "      <td>2</td>\n",
       "      <td>0.954777</td>\n",
       "      <td>0.702855</td>\n",
       "      <td>0.829167</td>\n",
       "      <td>0.927183</td>\n",
       "    </tr>\n",
       "    <tr>\n",
       "      <td>3</td>\n",
       "      <td>0.949341</td>\n",
       "      <td>0.672106</td>\n",
       "      <td>0.844661</td>\n",
       "      <td>0.913320</td>\n",
       "    </tr>\n",
       "    <tr>\n",
       "      <td>4</td>\n",
       "      <td>0.953219</td>\n",
       "      <td>0.684430</td>\n",
       "      <td>0.814674</td>\n",
       "      <td>0.928731</td>\n",
       "    </tr>\n",
       "    <tr>\n",
       "      <td>5</td>\n",
       "      <td>0.967201</td>\n",
       "      <td>0.680211</td>\n",
       "      <td>0.853322</td>\n",
       "      <td>0.939025</td>\n",
       "    </tr>\n",
       "    <tr>\n",
       "      <td>6</td>\n",
       "      <td>0.956846</td>\n",
       "      <td>0.679128</td>\n",
       "      <td>0.819022</td>\n",
       "      <td>0.917076</td>\n",
       "    </tr>\n",
       "    <tr>\n",
       "      <td>7</td>\n",
       "      <td>0.943169</td>\n",
       "      <td>0.678001</td>\n",
       "      <td>0.822028</td>\n",
       "      <td>0.895757</td>\n",
       "    </tr>\n",
       "    <tr>\n",
       "      <td>8</td>\n",
       "      <td>0.961783</td>\n",
       "      <td>0.683439</td>\n",
       "      <td>0.831850</td>\n",
       "      <td>0.907785</td>\n",
       "    </tr>\n",
       "    <tr>\n",
       "      <td>9</td>\n",
       "      <td>0.500000</td>\n",
       "      <td>0.500000</td>\n",
       "      <td>0.500000</td>\n",
       "      <td>0.500000</td>\n",
       "    </tr>\n",
       "  </tbody>\n",
       "</table>\n",
       "</div>"
      ],
      "text/plain": [
       "   Disaese Modifying  Clinical Trial  Drug Central  Symptomatic\n",
       "0           0.927677        0.680984      0.797945     0.892114\n",
       "1           0.956943        0.669894      0.826669     0.951467\n",
       "2           0.954777        0.702855      0.829167     0.927183\n",
       "3           0.949341        0.672106      0.844661     0.913320\n",
       "4           0.953219        0.684430      0.814674     0.928731\n",
       "5           0.967201        0.680211      0.853322     0.939025\n",
       "6           0.956846        0.679128      0.819022     0.917076\n",
       "7           0.943169        0.678001      0.822028     0.895757\n",
       "8           0.961783        0.683439      0.831850     0.907785\n",
       "9           0.500000        0.500000      0.500000     0.500000"
      ]
     },
     "execution_count": 121,
     "metadata": {},
     "output_type": "execute_result"
    }
   ],
   "source": [
    "p1q2_df = pd.read_csv('edge2vec_em10',index_col=0)\n",
    "p1q2_df"
   ]
  },
  {
   "cell_type": "code",
   "execution_count": 122,
   "metadata": {},
   "outputs": [
    {
     "name": "stdout",
     "output_type": "stream",
     "text": [
      "['/home/lxu/drugrelink/repeated_models/edge2vec/em10_mc10000/logistic_regression_clf.joblib', '/home/lxu/drugrelink/repeated_models/edge2vec/em10_mc10000/logistic_regression_clf_1.joblib', '/home/lxu/drugrelink/repeated_models/edge2vec/em10_mc10000/logistic_regression_clf_2.joblib', '/home/lxu/drugrelink/repeated_models/edge2vec/em10_mc10000/logistic_regression_clf_3.joblib', '/home/lxu/drugrelink/repeated_models/edge2vec/em10_mc10000/logistic_regression_clf_4.joblib', '/home/lxu/drugrelink/repeated_models/edge2vec/em10_mc10000/logistic_regression_clf_5.joblib', '/home/lxu/drugrelink/repeated_models/edge2vec/em10_mc10000/logistic_regression_clf_6.joblib', '/home/lxu/drugrelink/repeated_models/edge2vec/em10_mc10000/logistic_regression_clf_7.joblib', '/home/lxu/drugrelink/repeated_models/edge2vec/em10_mc10000/logistic_regression_clf_8.joblib', '/home/lxu/drugrelink/repeated_models/edge2vec/em10_mc10000/logistic_regression_clf_9.joblib']\n",
      "['/home/lxu/drugrelink/repeated_models/edge2vec/em10_mc10000/word2vec_model.pickle', '/home/lxu/drugrelink/repeated_models/edge2vec/em10_mc10000/word2vec_model_1.pickle', '/home/lxu/drugrelink/repeated_models/edge2vec/em10_mc10000/word2vec_model_2.pickle', '/home/lxu/drugrelink/repeated_models/edge2vec/em10_mc10000/word2vec_model_3.pickle', '/home/lxu/drugrelink/repeated_models/edge2vec/em10_mc10000/word2vec_model_4.pickle', '/home/lxu/drugrelink/repeated_models/edge2vec/em10_mc10000/word2vec_model_5.pickle', '/home/lxu/drugrelink/repeated_models/edge2vec/em10_mc10000/word2vec_model_6.pickle', '/home/lxu/drugrelink/repeated_models/edge2vec/em10_mc10000/word2vec_model_7.pickle', '/home/lxu/drugrelink/repeated_models/edge2vec/em10_mc10000/word2vec_model_8.pickle', '/home/lxu/drugrelink/repeated_models/edge2vec/em10_mc10000/word2vec_model_9.pickle']\n",
      "[0.9617830528360923, 0.9532189190191421, 0.9672010392762231, 0.5, 0.9547766830652701, 0.9431685932570908, 0.9568463255412721, 0.9493413596786283, 0.927677154534252, 0.9569429624945857]\n"
     ]
    }
   ],
   "source": [
    "edge2vec_em10 = replace_dm(p1q2_df,'/home/lxu/drugrelink/repeated_models/edge2vec/em10_mc10000')"
   ]
  },
  {
   "cell_type": "code",
   "execution_count": 133,
   "metadata": {},
   "outputs": [
    {
     "data": {
      "text/html": [
       "<div>\n",
       "<style scoped>\n",
       "    .dataframe tbody tr th:only-of-type {\n",
       "        vertical-align: middle;\n",
       "    }\n",
       "\n",
       "    .dataframe tbody tr th {\n",
       "        vertical-align: top;\n",
       "    }\n",
       "\n",
       "    .dataframe thead th {\n",
       "        text-align: right;\n",
       "    }\n",
       "</style>\n",
       "<table border=\"1\" class=\"dataframe\">\n",
       "  <thead>\n",
       "    <tr style=\"text-align: right;\">\n",
       "      <th></th>\n",
       "      <th>Clinical Trial</th>\n",
       "      <th>Drug Central</th>\n",
       "      <th>Symptomatic</th>\n",
       "      <th>Disease Modifying</th>\n",
       "    </tr>\n",
       "  </thead>\n",
       "  <tbody>\n",
       "    <tr>\n",
       "      <td>0</td>\n",
       "      <td>0.680984</td>\n",
       "      <td>0.797945</td>\n",
       "      <td>0.892114</td>\n",
       "      <td>0.961783</td>\n",
       "    </tr>\n",
       "    <tr>\n",
       "      <td>1</td>\n",
       "      <td>0.669894</td>\n",
       "      <td>0.826669</td>\n",
       "      <td>0.951467</td>\n",
       "      <td>0.953219</td>\n",
       "    </tr>\n",
       "    <tr>\n",
       "      <td>2</td>\n",
       "      <td>0.702855</td>\n",
       "      <td>0.829167</td>\n",
       "      <td>0.927183</td>\n",
       "      <td>0.967201</td>\n",
       "    </tr>\n",
       "    <tr>\n",
       "      <td>3</td>\n",
       "      <td>0.672106</td>\n",
       "      <td>0.844661</td>\n",
       "      <td>0.913320</td>\n",
       "      <td>0.500000</td>\n",
       "    </tr>\n",
       "    <tr>\n",
       "      <td>4</td>\n",
       "      <td>0.684430</td>\n",
       "      <td>0.814674</td>\n",
       "      <td>0.928731</td>\n",
       "      <td>0.954777</td>\n",
       "    </tr>\n",
       "    <tr>\n",
       "      <td>5</td>\n",
       "      <td>0.680211</td>\n",
       "      <td>0.853322</td>\n",
       "      <td>0.939025</td>\n",
       "      <td>0.943169</td>\n",
       "    </tr>\n",
       "    <tr>\n",
       "      <td>6</td>\n",
       "      <td>0.679128</td>\n",
       "      <td>0.819022</td>\n",
       "      <td>0.917076</td>\n",
       "      <td>0.956846</td>\n",
       "    </tr>\n",
       "    <tr>\n",
       "      <td>7</td>\n",
       "      <td>0.678001</td>\n",
       "      <td>0.822028</td>\n",
       "      <td>0.895757</td>\n",
       "      <td>0.949341</td>\n",
       "    </tr>\n",
       "    <tr>\n",
       "      <td>8</td>\n",
       "      <td>0.683439</td>\n",
       "      <td>0.831850</td>\n",
       "      <td>0.907785</td>\n",
       "      <td>0.927677</td>\n",
       "    </tr>\n",
       "    <tr>\n",
       "      <td>9</td>\n",
       "      <td>0.500000</td>\n",
       "      <td>0.500000</td>\n",
       "      <td>0.500000</td>\n",
       "      <td>0.956943</td>\n",
       "    </tr>\n",
       "  </tbody>\n",
       "</table>\n",
       "</div>"
      ],
      "text/plain": [
       "   Clinical Trial  Drug Central  Symptomatic  Disease Modifying\n",
       "0        0.680984      0.797945     0.892114           0.961783\n",
       "1        0.669894      0.826669     0.951467           0.953219\n",
       "2        0.702855      0.829167     0.927183           0.967201\n",
       "3        0.672106      0.844661     0.913320           0.500000\n",
       "4        0.684430      0.814674     0.928731           0.954777\n",
       "5        0.680211      0.853322     0.939025           0.943169\n",
       "6        0.679128      0.819022     0.917076           0.956846\n",
       "7        0.678001      0.822028     0.895757           0.949341\n",
       "8        0.683439      0.831850     0.907785           0.927677\n",
       "9        0.500000      0.500000     0.500000           0.956943"
      ]
     },
     "execution_count": 133,
     "metadata": {},
     "output_type": "execute_result"
    }
   ],
   "source": [
    "edge2vec_em10"
   ]
  },
  {
   "cell_type": "code",
   "execution_count": 123,
   "metadata": {},
   "outputs": [
    {
     "data": {
      "text/plain": [
       "[<matplotlib.lines.Line2D at 0x7f08b2628ed0>]"
      ]
     },
     "execution_count": 123,
     "metadata": {},
     "output_type": "execute_result"
    },
    {
     "data": {
      "image/png": "[encoded data removed]",
      "text/plain": [
       "<Figure size 432x288 with 1 Axes>"
      ]
     },
     "metadata": {
      "needs_background": "light"
     },
     "output_type": "display_data"
    }
   ],
   "source": [
    "edge2vec_em10.drop(columns=['Disaese Modifying'],inplace=True)\n",
    "pl= sns.boxplot(data=edge2vec_em10)\n",
    "pl.set_title('AUROC of four data sets repeated 10 times')\n",
    "\n",
    "plt.plot(['Clinical Trial'],[0.7],marker=\"*\")\n",
    "plt.plot(['Drug Central'],[0.855],marker=\"*\")\n",
    "plt.plot(['Symptomatic'],[0.702],marker=\"*\")\n",
    "plt.plot(['Disease Modifying'],[0.974],marker=\"*\")\n",
    "# dimensions = 48"
   ]
  },
  {
   "cell_type": "code",
   "execution_count": 20,
   "metadata": {},
   "outputs": [
    {
     "data": {
      "text/plain": [
       "0.8541499047750761"
      ]
     },
     "execution_count": 20,
     "metadata": {},
     "output_type": "execute_result"
    }
   ],
   "source": [
    "p1q2_df['Symptomatic'].mean()"
   ]
  },
  {
   "cell_type": "code",
   "execution_count": 21,
   "metadata": {},
   "outputs": [
    {
     "data": {
      "text/plain": [
       "0.816445081521296"
      ]
     },
     "execution_count": 21,
     "metadata": {},
     "output_type": "execute_result"
    }
   ],
   "source": [
    "p1q2_df['Drug Central'].mean()"
   ]
  },
  {
   "cell_type": "markdown",
   "metadata": {},
   "source": [
    "# AUPR of node2vec"
   ]
  },
  {
   "cell_type": "code",
   "execution_count": 135,
   "metadata": {},
   "outputs": [],
   "source": [
    "p1q2_wl100_pr = read_repeat_pl('/home/lxu/Desktop/node2vec_graph_wl100_p1q2')\n",
    "\n",
    "p1q2_wl30_pr = read_repeat_pl('/home/lxu/Desktop/node2vec_graph_p1q2')"
   ]
  },
  {
   "cell_type": "code",
   "execution_count": 136,
   "metadata": {},
   "outputs": [],
   "source": [
    "p1q2_wl100_pr.to_csv('p1q2_wl100_pr.csv')\n"
   ]
  },
  {
   "cell_type": "code",
   "execution_count": null,
   "metadata": {},
   "outputs": [],
   "source": [
    "from os import listdir\n",
    "from os.path import isfile, join\n",
    "import joblib\n",
    "from drugrelink.embedders import get_embedder\n",
    "from glmnet.logistic import LogitNet\n",
    "from sklearn.metrics import roc_auc_score\n",
    "from sklearn.metrics import average_precision_score\n",
    "import pickle\n",
    "def replace_dm_pr (df, models_path):\n",
    "    replace_list = []\n",
    "    #file = os.join.path(models_path,)  \n",
    "    lg_files = [ os.path.join(models_path, f) for f in listdir(models_path) if 'logistic_regression' in f and isfile(os.path.join(models_path, f))]\n",
    "    wv_files = [ os.path.join(models_path, f) for f in listdir(models_path) if 'word2vec' in f and isfile(os.path.join(models_path, f))]\n",
    "    lg_files.sort()\n",
    "    wv_files.sort()\n",
    "    print(lg_files)\n",
    "    print(wv_files)\n",
    "    # sort names of wv models\n",
    "    for i in range(len(lg_files)):\n",
    "        lg_model = joblib.load(lg_files[i])\n",
    "        with open(wv_files[i],'rb') as file:\n",
    "            wv_model = pickle.load(file)\n",
    "        array_dm = np.array(test_dm)\n",
    "        list_dm = array_dm[:,0:2]\n",
    "        label_dm = array_dm[:,2]\n",
    "        embedder_function = get_embedder('hadamard')\n",
    "        vectors_dm = embedder_function(wv_model, list_dm)\n",
    "        y_pro = lg_model.predict_proba(vectors_dm)\n",
    "        pr = average_precision_score(label_dm, y_pro)\n",
    "        replace_list.append(pr)\n",
    "    print(replace_list)\n",
    "    df[['Disease Modifying']] = replace_list\n",
    "        \n",
    "    return df"
   ]
  },
  {
   "cell_type": "code",
   "execution_count": null,
   "metadata": {},
   "outputs": [],
   "source": [
    "p1q2_wl100_pr=replace_dm_pr(p1q2_wl100,)"
   ]
  },
  {
   "cell_type": "code",
   "execution_count": 134,
   "metadata": {},
   "outputs": [
    {
     "data": {
      "text/plain": [
       "[<matplotlib.lines.Line2D at 0x7f08a6efe710>]"
      ]
     },
     "execution_count": 134,
     "metadata": {},
     "output_type": "execute_result"
    },
    {
     "data": {
      "image/png": "[encoded data removed]",
      "text/plain": [
       "<Figure size 432x288 with 1 Axes>"
      ]
     },
     "metadata": {
      "needs_background": "light"
     },
     "output_type": "display_data"
    }
   ],
   "source": [
    "p1 = sns.boxplot(data=p1q2_wl100)\n",
    "p1.set_title('AUPR of four data sets repeated 10 times for each with number of walks equals to 10')\n",
    "plt.plot(['Disease Modifying'],[0.382],marker=\"*\")\n",
    "plt.plot(['Clinical Trial'],[0.056],marker=\"*\")\n",
    "plt.plot(['Drug Central'],[0.093],marker=\"*\")\n",
    "plt.plot(['Symptomatic'],[0.005],marker=\"*\")\n",
    "# dimensions = 48\n",
    "# walk length = 30\n",
    "# window = 10\n",
    "# p = 1\n",
    "# q = 1\n",
    "# num_walk = 10"
   ]
  },
  {
   "cell_type": "code",
   "execution_count": 33,
   "metadata": {},
   "outputs": [
    {
     "data": {
      "text/plain": [
       "[<matplotlib.lines.Line2D at 0x7fd6a42f0d68>]"
      ]
     },
     "execution_count": 33,
     "metadata": {},
     "output_type": "execute_result"
    },
    {
     "data": {
      "image/png": "[encoded data removed]",
      "text/plain": [
       "<Figure size 432x288 with 1 Axes>"
      ]
     },
     "metadata": {
      "needs_background": "light"
     },
     "output_type": "display_data"
    }
   ],
   "source": [
    "p1 = sns.boxplot(data=p1q0_5)\n",
    "p1.set_title('AUPR of four data sets repeated 10 times for each with number of walks equals to 10')\n",
    "plt.plot(['Disease Modifying'],[0.382],marker=\"*\")\n",
    "plt.plot(['Clinical Trial'],[0.056],marker=\"*\")\n",
    "plt.plot(['Drug Central'],[0.093],marker=\"*\")\n",
    "plt.plot(['Symptomatic'],[0.005],marker=\"*\")\n",
    "# dimensions = 48\n",
    "# walk length = 30\n",
    "# window = 10\n",
    "# p = 1\n",
    "# q = 0.5\n",
    "# num_walk = 10"
   ]
  },
  {
   "cell_type": "code",
   "execution_count": 34,
   "metadata": {},
   "outputs": [
    {
     "data": {
      "text/plain": [
       "[<matplotlib.lines.Line2D at 0x7fd6a4994ef0>]"
      ]
     },
     "execution_count": 34,
     "metadata": {},
     "output_type": "execute_result"
    },
    {
     "data": {
      "image/png": "[encoded data removed]",
      "text/plain": [
       "<Figure size 432x288 with 1 Axes>"
      ]
     },
     "metadata": {
      "needs_background": "light"
     },
     "output_type": "display_data"
    }
   ],
   "source": [
    "p1 = sns.boxplot(data=p1q2)\n",
    "p1.set_title('AUPR of four data sets repeated 10 times for each with number of walks equals to 10')\n",
    "plt.plot(['Disease Modifying'],[0.382],marker=\"*\")\n",
    "plt.plot(['Clinical Trial'],[0.056],marker=\"*\")\n",
    "plt.plot(['Drug Central'],[0.093],marker=\"*\")\n",
    "plt.plot(['Symptomatic'],[0.005],marker=\"*\")\n",
    "# dimensions = 48\n",
    "# walk length = 30\n",
    "# window = 10\n",
    "# p = 1\n",
    "# q = 2\n",
    "# num_walk = 10"
   ]
  },
  {
   "cell_type": "markdown",
   "metadata": {},
   "source": [
    "# AUPR of edge2vec"
   ]
  },
  {
   "cell_type": "code",
   "execution_count": 18,
   "metadata": {},
   "outputs": [
    {
     "data": {
      "text/plain": [
       "[<matplotlib.lines.Line2D at 0x7fd6c5780940>]"
      ]
     },
     "execution_count": 18,
     "metadata": {},
     "output_type": "execute_result"
    },
    {
     "data": {
      "image/png": "[encoded data removed]",
      "text/plain": [
       "<Figure size 432x288 with 1 Axes>"
      ]
     },
     "metadata": {
      "needs_background": "light"
     },
     "output_type": "display_data"
    }
   ],
   "source": [
    "edge2vec_em10 = read_repeat_pl('/home/lxu/Desktop/edge2vec_em10')\n",
    "pl = sns.boxplot(data=edge2vec_em10)\n",
    "pl.set_title('AUPR of edge2vec')\n",
    "plt.plot(['Disease Modifying'],[0.382],marker=\"*\")\n",
    "plt.plot(['Clinical Trial'],[0.056],marker=\"*\")\n",
    "plt.plot(['Drug Central'],[0.093],marker=\"*\")\n",
    "plt.plot(['Symptomatic'],[0.005],marker=\"*\")\n",
    "# dimensions = 48\n",
    "# walk_lenght =100\n",
    "# num_walks =10\n",
    "# repeat=10\n",
    "# window =3\n",
    "# p=1\n",
    "# q=1\n",
    "# e_step =1\n",
    "# em_iteration =10\n",
    "# max_count =10000"
   ]
  }
 ],
 "metadata": {
  "kernelspec": {
   "display_name": "Python 3",
   "language": "python",
   "name": "python3"
  },
  "language_info": {
   "codemirror_mode": {
    "name": "ipython",
    "version": 3
   },
   "file_extension": ".py",
   "mimetype": "text/x-python",
   "name": "python",
   "nbconvert_exporter": "python",
   "pygments_lexer": "ipython3",
   "version": "3.7.4"
  }
 },
 "nbformat": 4,
 "nbformat_minor": 2
}
