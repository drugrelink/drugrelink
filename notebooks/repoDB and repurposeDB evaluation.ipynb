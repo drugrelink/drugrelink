{
 "cells": [
  {
   "cell_type": "code",
   "execution_count": 47,
   "metadata": {},
   "outputs": [],
   "source": [
    "import pandas as pd\n",
    "import joblib\n",
    "from sklearn.metrics import confusion_matrix\n",
    "import json\n",
    "import pickle\n",
    "import numpy as np"
   ]
  },
  {
   "cell_type": "code",
   "execution_count": 48,
   "metadata": {},
   "outputs": [],
   "source": [
    "lg1 = joblib.load('/home/lxu/drugrelink/resources/predictive_model/edge2vec/0/logistic_regression.joblib')"
   ]
  },
  {
   "cell_type": "code",
   "execution_count": 49,
   "metadata": {},
   "outputs": [],
   "source": [
    "with open('/home/lxu/drugrelink/resources/predictive_model/edge2vec/0/word2vec_model.pickle','rb') as f:\n",
    "    wv = pickle.load(f)"
   ]
  },
  {
   "cell_type": "code",
   "execution_count": 50,
   "metadata": {},
   "outputs": [],
   "source": [
    "with open('repurpose_overlap.json') as f:\n",
    "    repurpose = json.load(f)"
   ]
  },
  {
   "cell_type": "code",
   "execution_count": 51,
   "metadata": {},
   "outputs": [],
   "source": [
    "repo = pd.read_csv('repo_data.csv',index_col=False)\n"
   ]
  },
  {
   "cell_type": "code",
   "execution_count": 52,
   "metadata": {},
   "outputs": [],
   "source": [
    "repo.head()\n",
    "repo_pos = repo.loc[repo['status']==1]\n",
    "repo_neg = repo.loc[repo['status']==0]\n",
    "pos_list=list(map(tuple, repo_pos.values))\n",
    "pos = np.array(pos_list)[:,1:3]\n",
    "pos_label = np.array(pos_list)[:,3]\n",
    "neg_list = list(map(tuple, repo_neg.values))\n",
    "neg = np.array(neg_list)[:,1:3]\n",
    "neg_label = np.array(neg_list)[:,3]"
   ]
  },
  {
   "cell_type": "code",
   "execution_count": 53,
   "metadata": {},
   "outputs": [],
   "source": [
    "pl = []\n",
    "nl = []\n",
    "for i in pos_label:\n",
    "    i = float(i)\n",
    "    pl.append(i)\n",
    "for j in neg_label:\n",
    "    j = float(j)\n",
    "    nl.append(j)"
   ]
  },
  {
   "cell_type": "code",
   "execution_count": 54,
   "metadata": {},
   "outputs": [],
   "source": [
    "from drugrelink.embedders import get_embedder"
   ]
  },
  {
   "cell_type": "code",
   "execution_count": 55,
   "metadata": {},
   "outputs": [],
   "source": [
    "embedder_function = get_embedder('hardamard')\n",
    "vectors = np.array(embedder_function(wv, repurpose))\n",
    "labels = np.array([1]*len(repurpose))"
   ]
  },
  {
   "cell_type": "code",
   "execution_count": 56,
   "metadata": {},
   "outputs": [
    {
     "name": "stdout",
     "output_type": "stream",
     "text": [
      "0.8463414634146341 1.0\n"
     ]
    }
   ],
   "source": [
    "pos_repo_vec = np.array(embedder_function(wv, pos))\n",
    "neg_repo_vec = np.array(embedder_function(wv, neg))\n",
    "a =lg1.score(pos_repo_vec,pl)\n",
    "b = lg1.score(neg_repo_vec,nl)\n",
    "print(a,b)"
   ]
  },
  {
   "cell_type": "code",
   "execution_count": 57,
   "metadata": {},
   "outputs": [
    {
     "name": "stdout",
     "output_type": "stream",
     "text": [
      "0.8536585365853658\n"
     ]
    }
   ],
   "source": [
    "a =lg1.score(vectors,labels)\n",
    "print(a)"
   ]
  },
  {
   "cell_type": "code",
   "execution_count": 9,
   "metadata": {},
   "outputs": [
    {
     "data": {
      "text/plain": [
       "<bound method BaseEstimator.get_params of LogitNet(alpha=0.2, cut_point=1.0, fit_intercept=True, lambda_path=None,\n",
       "     lower_limits=-inf, max_features=None, max_iter=100000,\n",
       "     min_lambda_ratio=1e-08, n_jobs=10, n_lambda=150, n_splits=3,\n",
       "     random_state=2, scoring=None, standardize=True, tol=1e-07,\n",
       "     upper_limits=inf, verbose=False)>"
      ]
     },
     "execution_count": 9,
     "metadata": {},
     "output_type": "execute_result"
    }
   ],
   "source": [
    "lg1.get_params"
   ]
  },
  {
   "cell_type": "code",
   "execution_count": 10,
   "metadata": {},
   "outputs": [
    {
     "data": {
      "text/plain": [
       "array([[ 0.00024994,  0.        ,  0.02188158,  0.        ,  0.01342754,\n",
       "         0.        ,  0.01057434,  0.        ,  0.        ,  0.00239645,\n",
       "         0.00761076,  0.00212515,  0.00044114, -0.00811494,  0.        ,\n",
       "         0.0064581 ,  0.0074401 ,  0.00802477,  0.        ,  0.00892437,\n",
       "         0.0298366 ,  0.01006643,  0.0168908 ,  0.00184513,  0.00649053,\n",
       "         0.00133396,  0.00841055,  0.        ,  0.01223701,  0.02492136,\n",
       "         0.01177773,  0.00956241,  0.02491351,  0.        ,  0.        ,\n",
       "         0.00702691,  0.00557689, -0.01060999,  0.        , -0.00055949,\n",
       "         0.01780001,  0.        ,  0.00857241,  0.        ,  0.        ,\n",
       "         0.01544074,  0.        ,  0.        ]])"
      ]
     },
     "execution_count": 10,
     "metadata": {},
     "output_type": "execute_result"
    }
   ],
   "source": [
    "lg1.coef_"
   ]
  },
  {
   "cell_type": "code",
   "execution_count": 11,
   "metadata": {},
   "outputs": [
    {
     "data": {
      "text/plain": [
       "array([0.56498906, 0.59766594, 0.59941648, 0.6079504 , 0.61983953,\n",
       "       0.63245806, 0.6460248 , 0.65244347, 0.6547046 , 0.65660102,\n",
       "       0.66250912, 0.66827133, 0.6730124 , 0.67760759, 0.68278629,\n",
       "       0.68825675, 0.69102845, 0.69533187, 0.69737418, 0.70021882,\n",
       "       0.70226112, 0.70255288, 0.70386579, 0.70503282, 0.70671043,\n",
       "       0.70707513, 0.70714807, 0.70773158, 0.70882567, 0.7086798 ,\n",
       "       0.70889861, 0.70838804, 0.70875274, 0.70911743, 0.71043034,\n",
       "       0.71064916, 0.71086798, 0.71094092, 0.71137856, 0.71130562,\n",
       "       0.71152443, 0.71196207, 0.71225383, 0.71203501, 0.71188913,\n",
       "       0.71188913, 0.71188913, 0.71196207, 0.71188913, 0.71239971,\n",
       "       0.71210795, 0.71188913, 0.71137856, 0.71123268, 0.71130562,\n",
       "       0.71137856, 0.7114515 , 0.71152443, 0.7114515 , 0.71137856,\n",
       "       0.71130562, 0.71130562, 0.71137856, 0.71130562, 0.71115974,\n",
       "       0.71115974])"
      ]
     },
     "execution_count": 11,
     "metadata": {},
     "output_type": "execute_result"
    }
   ],
   "source": [
    "lg1.cv_mean_score_"
   ]
  },
  {
   "cell_type": "code",
   "execution_count": 12,
   "metadata": {},
   "outputs": [
    {
     "data": {
      "text/plain": [
       "66"
      ]
     },
     "execution_count": 12,
     "metadata": {},
     "output_type": "execute_result"
    }
   ],
   "source": [
    "lg1.n_lambda_"
   ]
  },
  {
   "cell_type": "code",
   "execution_count": 13,
   "metadata": {},
   "outputs": [],
   "source": [
    "repo_data = pd.read_csv('repo_data.csv')"
   ]
  },
  {
   "cell_type": "code",
   "execution_count": 45,
   "metadata": {},
   "outputs": [],
   "source": [
    "from drugrelink.pairs import data_non_overlap, pairs_vectors"
   ]
  },
  {
   "cell_type": "code",
   "execution_count": null,
   "metadata": {},
   "outputs": [],
   "source": [
    "data_non_overlap(validation_path='/home/lxu/drugrelink/data/validation-statuses.tsv', train_path='/home/lxu/drugrelink/data/transformed-features.tsv.bz2',symptomatic_path='/home/lxu/drugrelink/data/probabilities.tsv')"
   ]
  },
  {
   "cell_type": "code",
   "execution_count": 60,
   "metadata": {},
   "outputs": [],
   "source": [
    "from drugrelink.embedders import get_embedder\n",
    "import os\n",
    "def reevaluate (path):\n",
    "    s=[]\n",
    "    for i,name in enumerate(os.listdir(path), start=1):\n",
    "        print(name)\n",
    "        if name in ['1','2','3','4','5','6','7','8','9','10']:\n",
    "            subpath = os.path.join(path,name)\n",
    "            print(subpath)\n",
    "            lg_path = os.path.join(subpath,'logistic_regression_clf.joblib')\n",
    "            lg1 = joblib.load(lg_path)\n",
    "            wv_path = os.path.join(subpath,'word2vec_model.pickle') \n",
    "            with open(wv_path,'rb') as f:\n",
    "                wv = pickle.load(f)\n",
    "            embedder_function = get_embedder('hardamard')\n",
    "            vectors = np.array(embedder_function(wv, repurpose))\n",
    "            labels = np.array([1]*len(repurpose))\n",
    "            a=lg1.score(vectors,labels)\n",
    "            print(a)\n",
    "            s.append(a)\n",
    "            print(s)\n",
    "        else:\n",
    "            continue\n",
    "    return s"
   ]
  },
  {
   "cell_type": "code",
   "execution_count": 61,
   "metadata": {},
   "outputs": [
    {
     "name": "stdout",
     "output_type": "stream",
     "text": [
      "config.json\n",
      "9\n",
      "/home/lxu/Downloads/node2vec_graph_d128/9\n",
      "0.04878048780487805\n",
      "[array(0.04878049)]\n",
      "8\n",
      "/home/lxu/Downloads/node2vec_graph_d128/8\n",
      "0.024390243902439025\n",
      "[array(0.04878049), array(0.02439024)]\n",
      "run.sh\n",
      "7\n",
      "/home/lxu/Downloads/node2vec_graph_d128/7\n",
      "0.0\n",
      "[array(0.04878049), array(0.02439024), array(0.)]\n",
      "4\n",
      "/home/lxu/Downloads/node2vec_graph_d128/4\n",
      "0.04878048780487805\n",
      "[array(0.04878049), array(0.02439024), array(0.), array(0.04878049)]\n",
      "1\n",
      "/home/lxu/Downloads/node2vec_graph_d128/1\n",
      "0.024390243902439025\n",
      "[array(0.04878049), array(0.02439024), array(0.), array(0.04878049), array(0.02439024)]\n",
      "slurm-232741.out\n",
      "5\n",
      "/home/lxu/Downloads/node2vec_graph_d128/5\n",
      "0.04878048780487805\n",
      "[array(0.04878049), array(0.02439024), array(0.), array(0.04878049), array(0.02439024), array(0.04878049)]\n",
      "3\n",
      "/home/lxu/Downloads/node2vec_graph_d128/3\n",
      "0.024390243902439025\n",
      "[array(0.04878049), array(0.02439024), array(0.), array(0.04878049), array(0.02439024), array(0.04878049), array(0.02439024)]\n",
      "metadata.json\n",
      "2\n",
      "/home/lxu/Downloads/node2vec_graph_d128/2\n",
      "0.024390243902439025\n",
      "[array(0.04878049), array(0.02439024), array(0.), array(0.04878049), array(0.02439024), array(0.04878049), array(0.02439024), array(0.02439024)]\n",
      "6\n",
      "/home/lxu/Downloads/node2vec_graph_d128/6\n",
      "0.024390243902439025\n",
      "[array(0.04878049), array(0.02439024), array(0.), array(0.04878049), array(0.02439024), array(0.04878049), array(0.02439024), array(0.02439024), array(0.02439024)]\n",
      "10\n",
      "/home/lxu/Downloads/node2vec_graph_d128/10\n",
      "0.04878048780487805\n",
      "[array(0.04878049), array(0.02439024), array(0.), array(0.04878049), array(0.02439024), array(0.04878049), array(0.02439024), array(0.02439024), array(0.02439024), array(0.04878049)]\n"
     ]
    }
   ],
   "source": [
    "s1 = reevaluate('/home/lxu/Downloads/node2vec_graph_d128')"
   ]
  },
  {
   "cell_type": "code",
   "execution_count": 62,
   "metadata": {},
   "outputs": [
    {
     "name": "stdout",
     "output_type": "stream",
     "text": [
      "[array(0.04878049), array(0.02439024), array(0.), array(0.04878049), array(0.02439024), array(0.04878049), array(0.02439024), array(0.02439024), array(0.02439024), array(0.04878049)]\n"
     ]
    }
   ],
   "source": [
    "print(s1)"
   ]
  },
  {
   "cell_type": "code",
   "execution_count": 64,
   "metadata": {},
   "outputs": [
    {
     "name": "stdout",
     "output_type": "stream",
     "text": [
      "slurm-195308.out\n",
      "9\n",
      "/home/lxu/Desktop/edge2vec_em10/9\n",
      "0.0\n",
      "[array(0.)]\n",
      "run.sh\n",
      "slurm-195361.out\n",
      "10\n",
      "/home/lxu/Desktop/edge2vec_em10/10\n",
      "0.0\n",
      "[array(0.), array(0.)]\n",
      "5\n",
      "/home/lxu/Desktop/edge2vec_em10/5\n",
      "0.0\n",
      "[array(0.), array(0.), array(0.)]\n",
      "8\n",
      "/home/lxu/Desktop/edge2vec_em10/8\n",
      "0.0\n",
      "[array(0.), array(0.), array(0.), array(0.)]\n",
      "2\n",
      "/home/lxu/Desktop/edge2vec_em10/2\n",
      "0.0\n",
      "[array(0.), array(0.), array(0.), array(0.), array(0.)]\n",
      "3\n",
      "/home/lxu/Desktop/edge2vec_em10/3\n",
      "0.024390243902439025\n",
      "[array(0.), array(0.), array(0.), array(0.), array(0.), array(0.02439024)]\n",
      "7\n",
      "/home/lxu/Desktop/edge2vec_em10/7\n",
      "0.024390243902439025\n",
      "[array(0.), array(0.), array(0.), array(0.), array(0.), array(0.02439024), array(0.02439024)]\n",
      "slurm-195250.out\n",
      "6\n",
      "/home/lxu/Desktop/edge2vec_em10/6\n",
      "0.0\n",
      "[array(0.), array(0.), array(0.), array(0.), array(0.), array(0.02439024), array(0.02439024), array(0.)]\n",
      "config.json\n",
      "1\n",
      "/home/lxu/Desktop/edge2vec_em10/1\n",
      "0.0\n",
      "[array(0.), array(0.), array(0.), array(0.), array(0.), array(0.02439024), array(0.02439024), array(0.), array(0.)]\n",
      "transition_probabilities.csv\n",
      "slurm-195156.out\n",
      "4\n",
      "/home/lxu/Desktop/edge2vec_em10/4\n",
      "0.0\n",
      "[array(0.), array(0.), array(0.), array(0.), array(0.), array(0.02439024), array(0.02439024), array(0.), array(0.), array(0.)]\n"
     ]
    }
   ],
   "source": [
    "s2 = reevaluate('/home/lxu/Desktop/edge2vec_em10')"
   ]
  },
  {
   "cell_type": "code",
   "execution_count": 74,
   "metadata": {},
   "outputs": [],
   "source": [
    "wv = pd.read_csv('/home/lxu/drugrelink/resources/predictive_model/edge2vec/0/word2vec_wv')"
   ]
  },
  {
   "cell_type": "code",
   "execution_count": 73,
   "metadata": {},
   "outputs": [
    {
     "data": {
      "text/plain": [
       "(45158, 1)"
      ]
     },
     "execution_count": 73,
     "metadata": {},
     "output_type": "execute_result"
    }
   ],
   "source": [
    "wv.shape"
   ]
  },
  {
   "cell_type": "code",
   "execution_count": 78,
   "metadata": {},
   "outputs": [],
   "source": [
    "wv.columns = ['name']"
   ]
  },
  {
   "cell_type": "code",
   "execution_count": 79,
   "metadata": {},
   "outputs": [
    {
     "data": {
      "text/html": [
       "<div>\n",
       "<style scoped>\n",
       "    .dataframe tbody tr th:only-of-type {\n",
       "        vertical-align: middle;\n",
       "    }\n",
       "\n",
       "    .dataframe tbody tr th {\n",
       "        vertical-align: top;\n",
       "    }\n",
       "\n",
       "    .dataframe thead th {\n",
       "        text-align: right;\n",
       "    }\n",
       "</style>\n",
       "<table border=\"1\" class=\"dataframe\">\n",
       "  <thead>\n",
       "    <tr style=\"text-align: right;\">\n",
       "      <th></th>\n",
       "      <th>name</th>\n",
       "    </tr>\n",
       "  </thead>\n",
       "  <tbody>\n",
       "    <tr>\n",
       "      <th>0</th>\n",
       "      <td>Anatomy::UBERON:0000473 0.61479926 -1.5700234 ...</td>\n",
       "    </tr>\n",
       "    <tr>\n",
       "      <th>1</th>\n",
       "      <td>Anatomy::UBERON:0000955 2.8624015 -2.018733 0....</td>\n",
       "    </tr>\n",
       "    <tr>\n",
       "      <th>2</th>\n",
       "      <td>Anatomy::UBERON:0002369 1.5198268 -1.2577668 1...</td>\n",
       "    </tr>\n",
       "    <tr>\n",
       "      <th>3</th>\n",
       "      <td>Anatomy::UBERON:0002048 0.9906945 -1.2947552 3...</td>\n",
       "    </tr>\n",
       "    <tr>\n",
       "      <th>4</th>\n",
       "      <td>Anatomy::UBERON:0002368 7.8613386 -0.038186327...</td>\n",
       "    </tr>\n",
       "  </tbody>\n",
       "</table>\n",
       "</div>"
      ],
      "text/plain": [
       "                                                name\n",
       "0  Anatomy::UBERON:0000473 0.61479926 -1.5700234 ...\n",
       "1  Anatomy::UBERON:0000955 2.8624015 -2.018733 0....\n",
       "2  Anatomy::UBERON:0002369 1.5198268 -1.2577668 1...\n",
       "3  Anatomy::UBERON:0002048 0.9906945 -1.2947552 3...\n",
       "4  Anatomy::UBERON:0002368 7.8613386 -0.038186327..."
      ]
     },
     "execution_count": 79,
     "metadata": {},
     "output_type": "execute_result"
    }
   ],
   "source": [
    "wv.head()"
   ]
  },
  {
   "cell_type": "code",
   "execution_count": 80,
   "metadata": {},
   "outputs": [],
   "source": [
    "for _, row in wv.iterrows():\n",
    "    if 'Compound::DB01377' in row['name']:\n",
    "        print('1')"
   ]
  },
  {
   "cell_type": "code",
   "execution_count": null,
   "metadata": {},
   "outputs": [],
   "source": []
  }
 ],
 "metadata": {
  "kernelspec": {
   "display_name": "pipeline",
   "language": "python",
   "name": "pipeline"
  },
  "language_info": {
   "codemirror_mode": {
    "name": "ipython",
    "version": 3
   },
   "file_extension": ".py",
   "mimetype": "text/x-python",
   "name": "python",
   "nbconvert_exporter": "python",
   "pygments_lexer": "ipython3",
   "version": "3.6.5"
  }
 },
 "nbformat": 4,
 "nbformat_minor": 2
}
