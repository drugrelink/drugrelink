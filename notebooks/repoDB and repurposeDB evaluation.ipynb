{
 "cells": [
  {
   "cell_type": "code",
   "execution_count": 16,
   "metadata": {},
   "outputs": [],
   "source": [
    "import pandas as pd\n",
    "import joblib\n",
    "from sklearn.metrics import confusion_matrix\n",
    "import json\n",
    "import pickle\n",
    "import numpy as np"
   ]
  },
  {
   "cell_type": "code",
   "execution_count": 2,
   "metadata": {},
   "outputs": [],
   "source": [
    "lg1 = joblib.load('/home/lxu/drugrelink/resources/predictive_model/edge2vec/0/logistic_regression.joblib')"
   ]
  },
  {
   "cell_type": "code",
   "execution_count": 3,
   "metadata": {},
   "outputs": [],
   "source": [
    "with open('/home/lxu/drugrelink/resources/predictive_model/edge2vec/0/word2vec_model.pickle','rb') as f:\n",
    "    wv = pickle.load(f)"
   ]
  },
  {
   "cell_type": "code",
   "execution_count": 4,
   "metadata": {},
   "outputs": [],
   "source": [
    "with open('repurpose_overlap.json') as f:\n",
    "    repurpose = json.load(f)"
   ]
  },
  {
   "cell_type": "code",
   "execution_count": 7,
   "metadata": {},
   "outputs": [],
   "source": [
    "from drugrelink.embedders import get_embedder"
   ]
  },
  {
   "cell_type": "code",
   "execution_count": 19,
   "metadata": {},
   "outputs": [],
   "source": [
    "embedder_function = get_embedder('hardamard')\n",
    "vectors = np.array(embedder_function(wv, repurpose))\n",
    "labels = np.array([1]*len(repurpose))"
   ]
  },
  {
   "cell_type": "code",
   "execution_count": 11,
   "metadata": {},
   "outputs": [
    {
     "data": {
      "text/html": [
       "<div>\n",
       "<style scoped>\n",
       "    .dataframe tbody tr th:only-of-type {\n",
       "        vertical-align: middle;\n",
       "    }\n",
       "\n",
       "    .dataframe tbody tr th {\n",
       "        vertical-align: top;\n",
       "    }\n",
       "\n",
       "    .dataframe thead th {\n",
       "        text-align: right;\n",
       "    }\n",
       "</style>\n",
       "<table border=\"1\" class=\"dataframe\">\n",
       "  <thead>\n",
       "    <tr style=\"text-align: right;\">\n",
       "      <th></th>\n",
       "      <th>id</th>\n",
       "      <th>name</th>\n",
       "      <th>kind</th>\n",
       "    </tr>\n",
       "  </thead>\n",
       "  <tbody>\n",
       "    <tr>\n",
       "      <th>0</th>\n",
       "      <td>Anatomy::UBERON:0000002</td>\n",
       "      <td>uterine cervix</td>\n",
       "      <td>Anatomy</td>\n",
       "    </tr>\n",
       "    <tr>\n",
       "      <th>1</th>\n",
       "      <td>Anatomy::UBERON:0000004</td>\n",
       "      <td>nose</td>\n",
       "      <td>Anatomy</td>\n",
       "    </tr>\n",
       "    <tr>\n",
       "      <th>2</th>\n",
       "      <td>Anatomy::UBERON:0000006</td>\n",
       "      <td>islet of Langerhans</td>\n",
       "      <td>Anatomy</td>\n",
       "    </tr>\n",
       "    <tr>\n",
       "      <th>3</th>\n",
       "      <td>Anatomy::UBERON:0000007</td>\n",
       "      <td>pituitary gland</td>\n",
       "      <td>Anatomy</td>\n",
       "    </tr>\n",
       "    <tr>\n",
       "      <th>4</th>\n",
       "      <td>Anatomy::UBERON:0000010</td>\n",
       "      <td>peripheral nervous system</td>\n",
       "      <td>Anatomy</td>\n",
       "    </tr>\n",
       "  </tbody>\n",
       "</table>\n",
       "</div>"
      ],
      "text/plain": [
       "                        id                       name     kind\n",
       "0  Anatomy::UBERON:0000002             uterine cervix  Anatomy\n",
       "1  Anatomy::UBERON:0000004                       nose  Anatomy\n",
       "2  Anatomy::UBERON:0000006        islet of Langerhans  Anatomy\n",
       "3  Anatomy::UBERON:0000007            pituitary gland  Anatomy\n",
       "4  Anatomy::UBERON:0000010  peripheral nervous system  Anatomy"
      ]
     },
     "execution_count": 11,
     "metadata": {},
     "output_type": "execute_result"
    }
   ],
   "source": [
    "nodes.head()"
   ]
  },
  {
   "cell_type": "code",
   "execution_count": 20,
   "metadata": {},
   "outputs": [
    {
     "data": {
      "text/plain": [
       "array(0.85365854)"
      ]
     },
     "execution_count": 20,
     "metadata": {},
     "output_type": "execute_result"
    }
   ],
   "source": [
    "lg1.score(vectors,labels)"
   ]
  },
  {
   "cell_type": "code",
   "execution_count": 21,
   "metadata": {},
   "outputs": [
    {
     "data": {
      "text/plain": [
       "<bound method BaseEstimator.get_params of LogitNet(alpha=0.2, cut_point=1.0, fit_intercept=True, lambda_path=None,\n",
       "     lower_limits=-inf, max_features=None, max_iter=100000,\n",
       "     min_lambda_ratio=1e-08, n_jobs=10, n_lambda=150, n_splits=3,\n",
       "     random_state=2, scoring=None, standardize=True, tol=1e-07,\n",
       "     upper_limits=inf, verbose=False)>"
      ]
     },
     "execution_count": 21,
     "metadata": {},
     "output_type": "execute_result"
    }
   ],
   "source": [
    "lg1.get_params"
   ]
  },
  {
   "cell_type": "code",
   "execution_count": 22,
   "metadata": {},
   "outputs": [
    {
     "data": {
      "text/plain": [
       "array([[ 0.00024994,  0.        ,  0.02188158,  0.        ,  0.01342754,\n",
       "         0.        ,  0.01057434,  0.        ,  0.        ,  0.00239645,\n",
       "         0.00761076,  0.00212515,  0.00044114, -0.00811494,  0.        ,\n",
       "         0.0064581 ,  0.0074401 ,  0.00802477,  0.        ,  0.00892437,\n",
       "         0.0298366 ,  0.01006643,  0.0168908 ,  0.00184513,  0.00649053,\n",
       "         0.00133396,  0.00841055,  0.        ,  0.01223701,  0.02492136,\n",
       "         0.01177773,  0.00956241,  0.02491351,  0.        ,  0.        ,\n",
       "         0.00702691,  0.00557689, -0.01060999,  0.        , -0.00055949,\n",
       "         0.01780001,  0.        ,  0.00857241,  0.        ,  0.        ,\n",
       "         0.01544074,  0.        ,  0.        ]])"
      ]
     },
     "execution_count": 22,
     "metadata": {},
     "output_type": "execute_result"
    }
   ],
   "source": [
    "lg1.coef_"
   ]
  },
  {
   "cell_type": "code",
   "execution_count": 27,
   "metadata": {},
   "outputs": [
    {
     "data": {
      "text/plain": [
       "array([0.56498906, 0.59766594, 0.59941648, 0.6079504 , 0.61983953,\n",
       "       0.63245806, 0.6460248 , 0.65244347, 0.6547046 , 0.65660102,\n",
       "       0.66250912, 0.66827133, 0.6730124 , 0.67760759, 0.68278629,\n",
       "       0.68825675, 0.69102845, 0.69533187, 0.69737418, 0.70021882,\n",
       "       0.70226112, 0.70255288, 0.70386579, 0.70503282, 0.70671043,\n",
       "       0.70707513, 0.70714807, 0.70773158, 0.70882567, 0.7086798 ,\n",
       "       0.70889861, 0.70838804, 0.70875274, 0.70911743, 0.71043034,\n",
       "       0.71064916, 0.71086798, 0.71094092, 0.71137856, 0.71130562,\n",
       "       0.71152443, 0.71196207, 0.71225383, 0.71203501, 0.71188913,\n",
       "       0.71188913, 0.71188913, 0.71196207, 0.71188913, 0.71239971,\n",
       "       0.71210795, 0.71188913, 0.71137856, 0.71123268, 0.71130562,\n",
       "       0.71137856, 0.7114515 , 0.71152443, 0.7114515 , 0.71137856,\n",
       "       0.71130562, 0.71130562, 0.71137856, 0.71130562, 0.71115974,\n",
       "       0.71115974])"
      ]
     },
     "execution_count": 27,
     "metadata": {},
     "output_type": "execute_result"
    }
   ],
   "source": [
    "lg1.cv_mean_score_"
   ]
  },
  {
   "cell_type": "code",
   "execution_count": 28,
   "metadata": {},
   "outputs": [
    {
     "data": {
      "text/plain": [
       "66"
      ]
     },
     "execution_count": 28,
     "metadata": {},
     "output_type": "execute_result"
    }
   ],
   "source": [
    "lg1.n_lambda_"
   ]
  },
  {
   "cell_type": "code",
   "execution_count": 29,
   "metadata": {},
   "outputs": [],
   "source": [
    "repo_data = pd.read_csv('repo_data.csv')"
   ]
  },
  {
   "cell_type": "code",
   "execution_count": 30,
   "metadata": {},
   "outputs": [],
   "source": [
    "from drugrelink.pairs import data_non_overlap, pairs_vectors"
   ]
  },
  {
   "cell_type": "code",
   "execution_count": 31,
   "metadata": {},
   "outputs": [
    {
     "ename": "UFuncTypeError",
     "evalue": "ufunc 'add' did not contain a loop with signature matching types (dtype('<U21'), dtype('<U21')) -> dtype('<U21')",
     "output_type": "error",
     "traceback": [
      "\u001b[0;31m---------------------------------------------------------------------------\u001b[0m",
      "\u001b[0;31mUFuncTypeError\u001b[0m                            Traceback (most recent call last)",
      "\u001b[0;32m<ipython-input-31-5f3d84405dfc>\u001b[0m in \u001b[0;36m<module>\u001b[0;34m\u001b[0m\n\u001b[0;32m----> 1\u001b[0;31m \u001b[0mdata_non_overlap\u001b[0m\u001b[0;34m(\u001b[0m\u001b[0mvalidation_path\u001b[0m\u001b[0;34m=\u001b[0m\u001b[0;34m'/home/lxu/drugrelink/data/validation-statuses.tsv'\u001b[0m\u001b[0;34m,\u001b[0m \u001b[0mtrain_path\u001b[0m\u001b[0;34m=\u001b[0m\u001b[0;34m'/home/lxu/drugrelink/data/transformed-features.tsv.bz2'\u001b[0m\u001b[0;34m,\u001b[0m\u001b[0msymptomatic_path\u001b[0m\u001b[0;34m=\u001b[0m\u001b[0;34m'/home/lxu/drugrelink/data/probabilities.tsv'\u001b[0m\u001b[0;34m)\u001b[0m\u001b[0;34m\u001b[0m\u001b[0m\n\u001b[0m",
      "\u001b[0;32m~/anaconda3/envs/pipeline/lib/python3.6/site-packages/drugrelink/pairs.py\u001b[0m in \u001b[0;36mdata_non_overlap\u001b[0;34m(validation_path, train_path, symptomatic_path, output_directory)\u001b[0m\n\u001b[1;32m    129\u001b[0m                                                                                    \u001b[0mtrain_path\u001b[0m\u001b[0;34m=\u001b[0m\u001b[0mtrain_path\u001b[0m\u001b[0;34m,\u001b[0m\u001b[0;34m\u001b[0m\u001b[0m\n\u001b[1;32m    130\u001b[0m                                                                                    symptomatic_path=symptomatic_path)\n\u001b[0;32m--> 131\u001b[0;31m         \u001b[0mrows\u001b[0m \u001b[0;34m=\u001b[0m \u001b[0mdisease_modifying\u001b[0m \u001b[0;34m+\u001b[0m \u001b[0mclinical_trials\u001b[0m \u001b[0;34m+\u001b[0m \u001b[0mdrug_central\u001b[0m \u001b[0;34m+\u001b[0m \u001b[0msymptomatic\u001b[0m\u001b[0;34m\u001b[0m\u001b[0m\n\u001b[0m\u001b[1;32m    132\u001b[0m         \u001b[0mdata_df\u001b[0m \u001b[0;34m=\u001b[0m \u001b[0mpd\u001b[0m\u001b[0;34m.\u001b[0m\u001b[0mDataFrame\u001b[0m\u001b[0;34m(\u001b[0m\u001b[0mrows\u001b[0m\u001b[0;34m,\u001b[0m \u001b[0mcolumns\u001b[0m\u001b[0;34m=\u001b[0m\u001b[0;34m[\u001b[0m\u001b[0;34m'compound'\u001b[0m\u001b[0;34m,\u001b[0m \u001b[0;34m'disease'\u001b[0m\u001b[0;34m,\u001b[0m \u001b[0;34m'label'\u001b[0m\u001b[0;34m]\u001b[0m\u001b[0;34m)\u001b[0m\u001b[0;34m\u001b[0m\u001b[0m\n\u001b[1;32m    133\u001b[0m         \u001b[0mdata_df\u001b[0m\u001b[0;34m.\u001b[0m\u001b[0mdrop_duplicates\u001b[0m\u001b[0;34m(\u001b[0m\u001b[0mkeep\u001b[0m\u001b[0;34m=\u001b[0m\u001b[0;34m'first'\u001b[0m\u001b[0;34m,\u001b[0m \u001b[0minplace\u001b[0m\u001b[0;34m=\u001b[0m\u001b[0;32mTrue\u001b[0m\u001b[0;34m)\u001b[0m\u001b[0;34m\u001b[0m\u001b[0m\n",
      "\u001b[0;31mUFuncTypeError\u001b[0m: ufunc 'add' did not contain a loop with signature matching types (dtype('<U21'), dtype('<U21')) -> dtype('<U21')"
     ]
    }
   ],
   "source": [
    "data_non_overlap(validation_path='/home/lxu/drugrelink/data/validation-statuses.tsv', train_path='/home/lxu/drugrelink/data/transformed-features.tsv.bz2',symptomatic_path='/home/lxu/drugrelink/data/probabilities.tsv')"
   ]
  },
  {
   "cell_type": "code",
   "execution_count": null,
   "metadata": {},
   "outputs": [],
   "source": []
  }
 ],
 "metadata": {
  "kernelspec": {
   "display_name": "pipeline",
   "language": "python",
   "name": "pipeline"
  },
  "language_info": {
   "codemirror_mode": {
    "name": "ipython",
    "version": 3
   },
   "file_extension": ".py",
   "mimetype": "text/x-python",
   "name": "python",
   "nbconvert_exporter": "python",
   "pygments_lexer": "ipython3",
   "version": "3.6.5"
  }
 },
 "nbformat": 4,
 "nbformat_minor": 2
}
