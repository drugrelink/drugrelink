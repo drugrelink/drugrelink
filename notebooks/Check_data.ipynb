{
 "cells": [
  {
   "cell_type": "code",
   "execution_count": 65,
   "metadata": {},
   "outputs": [],
   "source": [
    "from drugrelink import pairs\n"
   ]
  },
  {
   "cell_type": "code",
   "execution_count": 3,
   "metadata": {},
   "outputs": [],
   "source": [
    "list1,list2,list3,list4 =pairs.test_pairs(validation_path='/home/lxu/drugrelink/data/validation-statuses.tsv',train_path='/home/lxu/drugrelink/data/transformed-features.tsv.bz2',symptomatic_path='/home/lxu/drugrelink/data/probabilities.tsv')"
   ]
  },
  {
   "cell_type": "code",
   "execution_count": 11,
   "metadata": {},
   "outputs": [
    {
     "data": {
      "text/plain": [
       "209168"
      ]
     },
     "execution_count": 11,
     "metadata": {},
     "output_type": "execute_result"
    }
   ],
   "source": [
    "len(list1[0][])"
   ]
  },
  {
   "cell_type": "code",
   "execution_count": 2,
   "metadata": {},
   "outputs": [
    {
     "name": "stdout",
     "output_type": "stream",
     "text": [
      "compound_id\tcompound_name\tdisease_id\tdisease_name\tn_trials\tstatus_trials\tstatus_drugcentral\r\n",
      "DB01048\tAbacavir\tDOID:10652\tAlzheimer's disease\t0\t0\t0\r\n",
      "DB01048\tAbacavir\tDOID:9206\tBarrett's esophagus\t0\t0\t0\r\n",
      "DB01048\tAbacavir\tDOID:13241\tBehcet's disease\t0\t0\t0\r\n",
      "DB01048\tAbacavir\tDOID:11949\tCreutzfeldt-Jakob disease\t0\t0\t0\r\n",
      "DB01048\tAbacavir\tDOID:8778\tCrohn's disease\t0\t0\t0\r\n",
      "DB01048\tAbacavir\tDOID:11555\tFuchs' endothelial dystrophy\t0\t0\t0\r\n",
      "DB01048\tAbacavir\tDOID:11119\tGilles de la Tourette syndrome\t0\t0\t0\r\n",
      "DB01048\tAbacavir\tDOID:12361\tGraves' disease\t0\t0\t0\r\n",
      "DB01048\tAbacavir\tDOID:2986\tIgA glomerulonephritis\t0\t0\t0\r\n"
     ]
    }
   ],
   "source": [
    "!head /home/lxu/drugrelink/data/validation-statuses.tsv"
   ]
  },
  {
   "cell_type": "code",
   "execution_count": null,
   "metadata": {},
   "outputs": [],
   "source": [
    "def find_difference(l1,l2):\n",
    "    pairs = [[],[]]\n",
    "    for i in range(len(l1[0])):\n",
    "        for y in range (len(l2[0])):\n",
    "            if l1[0][i] == l2[0][y] and l1[1][i] != l2[1][y]:\n",
    "                pairs[0].append(l2[0][y])\n",
    "                pairs[1].append(l2[1][y])\n",
    "                \n",
    "    return pairs\n",
    "            \n",
    "\n",
    "positive4L2 = find_difference(list1,list2)\n",
    "len(positive4L2)"
   ]
  },
  {
   "cell_type": "code",
   "execution_count": null,
   "metadata": {},
   "outputs": [],
   "source": [
    "positive4L3 = find_difference(list1,list3)\n",
    "print(len(positive4L3))"
   ]
  },
  {
   "cell_type": "code",
   "execution_count": null,
   "metadata": {},
   "outputs": [],
   "source": [
    "positive4L4 = find_difference(list1,list4)\n",
    "print(len(positive4L4))"
   ]
  },
  {
   "cell_type": "code",
   "execution_count": null,
   "metadata": {},
   "outputs": [],
   "source": [
    "def find_negative(l1,l2):\n",
    "    pairs =[]\n",
    "    for i in range(len(l1[0])):\n",
    "        for y in range(len(l2[0])):\n",
    "            if l1[1][i] == 1 and "
   ]
  },
  {
   "cell_type": "code",
   "execution_count": 66,
   "metadata": {
    "scrolled": true
   },
   "outputs": [],
   "source": [
    "from drugrelink import pairs\n",
    "df = pairs.data_non_overlap(validation_path='/Users/work/Documents/GitHub/drugrelink/data/validation-statuses.tsv',train_path='/Users/work/Documents/GitHub/drugrelink/data/transformed-features.tsv.bz2',symptomatic_path='/Users/work/Documents/GitHub/drugrelink/data/probabilities.tsv')"
   ]
  },
  {
   "cell_type": "code",
   "execution_count": 71,
   "metadata": {},
   "outputs": [
    {
     "name": "stdout",
     "output_type": "stream",
     "text": [
      "202313 6855\n",
      "   Unnamed: 0           compound              disease  label\n",
      "0           0  Compound::DB01048  Disease::DOID:10652      0\n",
      "1           1  Compound::DB05812  Disease::DOID:10652      0\n",
      "2           2  Compound::DB00659  Disease::DOID:10652      0\n",
      "3           3  Compound::DB00284  Disease::DOID:10652      0\n",
      "4           4  Compound::DB01193  Disease::DOID:10652      0\n",
      "Compound::DB05812\n"
     ]
    }
   ],
   "source": [
    "print(len(df.loc[df['label']==0]),len(df.loc[df['label']==1]))\n",
    "print(df.head())\n",
    "print(df['compound'][1])"
   ]
  },
  {
   "cell_type": "code",
   "execution_count": 84,
   "metadata": {},
   "outputs": [],
   "source": [
    "import pickle\n",
    "from node2vec.edges import HadamardEmbedder\n",
    "with open('/Users/work/Documents/GitHub/drugrelink/resources/predictive_model/edge2vec/0/word2vec_model.pickle', 'rb') as file:\n",
    "    word2vec = pickle.load(file)\n",
    "def vectors(df):\n",
    "    vectors=[]\n",
    "    for _,row in df[['compound','disease']].iterrows():\n",
    "        c=row['compound']\n",
    "        \n",
    "        d=row['disease']\n",
    "        \n",
    "   \n",
    "        edges_embs = HadamardEmbedder(keyed_vectors=word2vec.wv)\n",
    "        vector = edges_embs[(c,d)]\n",
    "        vectors.append(vector)\n",
    "    return vectors"
   ]
  },
  {
   "cell_type": "code",
   "execution_count": 89,
   "metadata": {},
   "outputs": [],
   "source": [
    "y = df['label']\n",
    "y_org = y.copy()\n",
    "X=vectors(df)"
   ]
  },
  {
   "cell_type": "code",
   "execution_count": 94,
   "metadata": {},
   "outputs": [],
   "source": [
    "from sklearn.linear_model import LogisticRegression\n",
    "import numpy as np\n",
    "\n",
    "def retrain(hidden_number):\n",
    "\n",
    "    y.loc[\n",
    "    np.random.choice(\n",
    "        y[y == 1].index, \n",
    "        replace = False, \n",
    "        size = hidden_number\n",
    "    )]=0\n",
    "    \n",
    "    model = LogisticRegression().fit(X,y)\n",
    "    return y, model\n"
   ]
  },
  {
   "cell_type": "code",
   "execution_count": 95,
   "metadata": {},
   "outputs": [
    {
     "name": "stderr",
     "output_type": "stream",
     "text": [
      "/Users/work/anaconda3/lib/python3.7/site-packages/sklearn/linear_model/logistic.py:433: FutureWarning: Default solver will be changed to 'lbfgs' in 0.22. Specify a solver to silence this warning.\n",
      "  FutureWarning)\n"
     ]
    }
   ],
   "source": [
    "y,model = retrain(1000)\n",
    "\n",
    "   \n",
    "import pandas as pd\n",
    "results = pd.DataFrame({\n",
    "    'truth'      : y_org,                    # True labels\n",
    "    'label'      : y,                         # Labels shown to models\n",
    "    'output_std' : model.predict_proba(X)[:,1]   # Random forest's scores\n",
    "}, columns = ['truth', 'label', 'output_std'])"
   ]
  },
  {
   "cell_type": "code",
   "execution_count": 93,
   "metadata": {},
   "outputs": [
    {
     "data": {
      "text/plain": [
       "pandas.core.series.Series"
      ]
     },
     "execution_count": 93,
     "metadata": {},
     "output_type": "execute_result"
    }
   ],
   "source": [
    "y.loc[\n",
    "    np.random.choice(\n",
    "        y[y == 1].index, \n",
    "        replace = False, \n",
    "        size = 1000\n",
    "    )]=0\n",
    "type(y)"
   ]
  },
  {
   "cell_type": "code",
   "execution_count": 99,
   "metadata": {},
   "outputs": [
    {
     "name": "stderr",
     "output_type": "stream",
     "text": [
      "/Users/work/anaconda3/lib/python3.7/site-packages/pandas/core/indexes/api.py:107: RuntimeWarning: '<' not supported between instances of 'int' and 'str', sort order is undefined for incomparable objects\n",
      "  result = result.union(other)\n"
     ]
    }
   ],
   "source": [
    "c = df['compound']\n",
    "d = df['disease']\n",
    "names=c.append(d)\n",
    "r=names.append(results)"
   ]
  },
  {
   "cell_type": "code",
   "execution_count": null,
   "metadata": {},
   "outputs": [],
   "source": [
    "for i,row in r[['truth','label']].iterrows():\n",
    "    if row['truth'] == row['label']:\n",
    "        r.drop([i])\n",
    "r\n",
    "     "
   ]
  }
 ],
 "metadata": {
  "kernelspec": {
   "display_name": "Python 3",
   "language": "python",
   "name": "python3"
  },
  "language_info": {
   "codemirror_mode": {
    "name": "ipython",
    "version": 3
   },
   "file_extension": ".py",
   "mimetype": "text/x-python",
   "name": "python",
   "nbconvert_exporter": "python",
   "pygments_lexer": "ipython3",
   "version": "3.7.1"
  }
 },
 "nbformat": 4,
 "nbformat_minor": 2
}
