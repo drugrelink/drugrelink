{
 "cells": [
  {
   "cell_type": "code",
   "execution_count": 18,
   "metadata": {},
   "outputs": [],
   "source": [
    "from drugrelink import pairs\n"
   ]
  },
  {
   "cell_type": "code",
   "execution_count": 3,
   "metadata": {},
   "outputs": [],
   "source": [
    "list1,list2,list3,list4 =pairs.test_pairs(validation_path='/home/lxu/drugrelink/data/validation-statuses.tsv',train_path='/home/lxu/drugrelink/data/transformed-features.tsv.bz2',symptomatic_path='/home/lxu/drugrelink/data/probabilities.tsv')"
   ]
  },
  {
   "cell_type": "code",
   "execution_count": 11,
   "metadata": {},
   "outputs": [
    {
     "data": {
      "text/plain": [
       "209168"
      ]
     },
     "execution_count": 11,
     "metadata": {},
     "output_type": "execute_result"
    }
   ],
   "source": [
    "len(list1[0][])"
   ]
  },
  {
   "cell_type": "code",
   "execution_count": 2,
   "metadata": {},
   "outputs": [
    {
     "name": "stdout",
     "output_type": "stream",
     "text": [
      "compound_id\tcompound_name\tdisease_id\tdisease_name\tn_trials\tstatus_trials\tstatus_drugcentral\r\n",
      "DB01048\tAbacavir\tDOID:10652\tAlzheimer's disease\t0\t0\t0\r\n",
      "DB01048\tAbacavir\tDOID:9206\tBarrett's esophagus\t0\t0\t0\r\n",
      "DB01048\tAbacavir\tDOID:13241\tBehcet's disease\t0\t0\t0\r\n",
      "DB01048\tAbacavir\tDOID:11949\tCreutzfeldt-Jakob disease\t0\t0\t0\r\n",
      "DB01048\tAbacavir\tDOID:8778\tCrohn's disease\t0\t0\t0\r\n",
      "DB01048\tAbacavir\tDOID:11555\tFuchs' endothelial dystrophy\t0\t0\t0\r\n",
      "DB01048\tAbacavir\tDOID:11119\tGilles de la Tourette syndrome\t0\t0\t0\r\n",
      "DB01048\tAbacavir\tDOID:12361\tGraves' disease\t0\t0\t0\r\n",
      "DB01048\tAbacavir\tDOID:2986\tIgA glomerulonephritis\t0\t0\t0\r\n"
     ]
    }
   ],
   "source": [
    "!head /home/lxu/drugrelink/data/validation-statuses.tsv"
   ]
  },
  {
   "cell_type": "code",
   "execution_count": null,
   "metadata": {},
   "outputs": [],
   "source": [
    "def find_difference(l1,l2):\n",
    "    pairs = [[],[]]\n",
    "    for i in range(len(l1[0])):\n",
    "        for y in range (len(l2[0])):\n",
    "            if l1[0][i] == l2[0][y] and l1[1][i] != l2[1][y]:\n",
    "                pairs[0].append(l2[0][y])\n",
    "                pairs[1].append(l2[1][y])\n",
    "                \n",
    "    return pairs\n",
    "            \n",
    "\n",
    "positive4L2 = find_difference(list1,list2)\n",
    "len(positive4L2)"
   ]
  },
  {
   "cell_type": "code",
   "execution_count": null,
   "metadata": {},
   "outputs": [],
   "source": [
    "positive4L3 = find_difference(list1,list3)\n",
    "print(len(positive4L3))"
   ]
  },
  {
   "cell_type": "code",
   "execution_count": null,
   "metadata": {},
   "outputs": [],
   "source": [
    "positive4L4 = find_difference(list1,list4)\n",
    "print(len(positive4L4))"
   ]
  },
  {
   "cell_type": "code",
   "execution_count": null,
   "metadata": {},
   "outputs": [],
   "source": [
    "def find_negative(l1,l2):\n",
    "    pairs =[]\n",
    "    for i in range(len(l1[0])):\n",
    "        for y in range(len(l2[0])):\n",
    "            if l1[1][i] == 1 and "
   ]
  },
  {
   "cell_type": "code",
   "execution_count": 25,
   "metadata": {
    "scrolled": true
   },
   "outputs": [
    {
     "ename": "UnboundLocalError",
     "evalue": "local variable 'data_df' referenced before assignment",
     "output_type": "error",
     "traceback": [
      "\u001b[0;31m---------------------------------------------------------------------------\u001b[0m",
      "\u001b[0;31mUnboundLocalError\u001b[0m                         Traceback (most recent call last)",
      "\u001b[0;32m<ipython-input-25-b5090fdf804a>\u001b[0m in \u001b[0;36m<module>\u001b[0;34m\u001b[0m\n\u001b[1;32m      1\u001b[0m \u001b[0;32mfrom\u001b[0m \u001b[0mdrugrelink\u001b[0m \u001b[0;32mimport\u001b[0m \u001b[0mpairs\u001b[0m\u001b[0;34m\u001b[0m\u001b[0m\n\u001b[0;32m----> 2\u001b[0;31m \u001b[0mdf\u001b[0m \u001b[0;34m=\u001b[0m \u001b[0mpairs\u001b[0m\u001b[0;34m.\u001b[0m\u001b[0mdata_non_overlap\u001b[0m\u001b[0;34m(\u001b[0m\u001b[0mvalidation_path\u001b[0m\u001b[0;34m=\u001b[0m\u001b[0;34m'/home/lxu/drugrelink/data/validation-statuses.tsv'\u001b[0m\u001b[0;34m,\u001b[0m\u001b[0mtrain_path\u001b[0m\u001b[0;34m=\u001b[0m\u001b[0;34m'/home/lxu/drugrelink/data/transformed-features.tsv.bz2'\u001b[0m\u001b[0;34m,\u001b[0m\u001b[0msymptomatic_path\u001b[0m\u001b[0;34m=\u001b[0m\u001b[0;34m'/home/lxu/drugrelink/data/probabilities.tsv'\u001b[0m\u001b[0;34m)\u001b[0m\u001b[0;34m\u001b[0m\u001b[0m\n\u001b[0m",
      "\u001b[0;32m~/drugrelink/src/drugrelink/pairs.py\u001b[0m in \u001b[0;36mdata_non_overlap\u001b[0;34m(validation_path, train_path, symptomatic_path, output_directory)\u001b[0m\n\u001b[1;32m     90\u001b[0m         \u001b[0mrows\u001b[0m \u001b[0;34m=\u001b[0m \u001b[0mdisease_modifying\u001b[0m \u001b[0;34m+\u001b[0m \u001b[0mclinical_trials\u001b[0m \u001b[0;34m+\u001b[0m \u001b[0mdrug_central\u001b[0m \u001b[0;34m+\u001b[0m \u001b[0msymptomatic\u001b[0m\u001b[0;34m\u001b[0m\u001b[0m\n\u001b[1;32m     91\u001b[0m         \u001b[0mdata_df\u001b[0m \u001b[0;34m=\u001b[0m \u001b[0mpd\u001b[0m\u001b[0;34m.\u001b[0m\u001b[0mDataFrame\u001b[0m\u001b[0;34m(\u001b[0m\u001b[0mrows\u001b[0m\u001b[0;34m,\u001b[0m \u001b[0mcolumns\u001b[0m\u001b[0;34m=\u001b[0m\u001b[0;34m[\u001b[0m\u001b[0;34m'compound'\u001b[0m\u001b[0;34m,\u001b[0m \u001b[0;34m'disease'\u001b[0m\u001b[0;34m,\u001b[0m \u001b[0;34m'label'\u001b[0m\u001b[0;34m]\u001b[0m\u001b[0;34m)\u001b[0m\u001b[0;34m\u001b[0m\u001b[0m\n\u001b[0;32m---> 92\u001b[0;31m         \u001b[0mdata_df\u001b[0m\u001b[0;34m.\u001b[0m\u001b[0mdrop_duplicates\u001b[0m\u001b[0;34m(\u001b[0m\u001b[0mkeep\u001b[0m\u001b[0;34m=\u001b[0m\u001b[0;34m'first'\u001b[0m\u001b[0;34m,\u001b[0m \u001b[0minplace\u001b[0m\u001b[0;34m=\u001b[0m\u001b[0;32mTrue\u001b[0m\u001b[0;34m)\u001b[0m\u001b[0;34m\u001b[0m\u001b[0m\n\u001b[0m\u001b[1;32m     93\u001b[0m         \u001b[0mdata_df\u001b[0m\u001b[0;34m.\u001b[0m\u001b[0msort_values\u001b[0m\u001b[0;34m(\u001b[0m\u001b[0mby\u001b[0m\u001b[0;34m=\u001b[0m\u001b[0;34m'label'\u001b[0m\u001b[0;34m)\u001b[0m\u001b[0;34m\u001b[0m\u001b[0m\n\u001b[1;32m     94\u001b[0m         \u001b[0mdata_df\u001b[0m\u001b[0;34m.\u001b[0m\u001b[0mdrop_duplicates\u001b[0m\u001b[0;34m(\u001b[0m\u001b[0msubset\u001b[0m\u001b[0;34m=\u001b[0m\u001b[0;34m[\u001b[0m\u001b[0;34m'compound'\u001b[0m\u001b[0;34m,\u001b[0m \u001b[0;34m'disease'\u001b[0m\u001b[0;34m]\u001b[0m\u001b[0;34m,\u001b[0m \u001b[0mkeep\u001b[0m\u001b[0;34m=\u001b[0m\u001b[0;34m'last'\u001b[0m\u001b[0;34m,\u001b[0m \u001b[0minplace\u001b[0m\u001b[0;34m=\u001b[0m\u001b[0;32mTrue\u001b[0m\u001b[0;34m)\u001b[0m\u001b[0;34m\u001b[0m\u001b[0m\n",
      "\u001b[0;31mUnboundLocalError\u001b[0m: local variable 'data_df' referenced before assignment"
     ]
    }
   ],
   "source": [
    "from drugrelink import pairs\n",
    "df = pairs.data_non_overlap(validation_path='/home/lxu/drugrelink/data/validation-statuses.tsv',train_path='/home/lxu/drugrelink/data/transformed-features.tsv.bz2',symptomatic_path='/home/lxu/drugrelink/data/probabilities.tsv')"
   ]
  },
  {
   "cell_type": "code",
   "execution_count": 30,
   "metadata": {},
   "outputs": [
    {
     "ename": "TypeError",
     "evalue": "append() takes exactly one argument (2 given)",
     "output_type": "error",
     "traceback": [
      "\u001b[0;31m---------------------------------------------------------------------------\u001b[0m",
      "\u001b[0;31mTypeError\u001b[0m                                 Traceback (most recent call last)",
      "\u001b[0;32m<ipython-input-30-e23753dd8f8d>\u001b[0m in \u001b[0;36m<module>\u001b[0;34m\u001b[0m\n\u001b[1;32m      1\u001b[0m \u001b[0;32mfrom\u001b[0m \u001b[0mdrugrelink\u001b[0m \u001b[0;32mimport\u001b[0m \u001b[0mpairs\u001b[0m\u001b[0;34m\u001b[0m\u001b[0m\n\u001b[0;32m----> 2\u001b[0;31m \u001b[0mlist1\u001b[0m\u001b[0;34m,\u001b[0m\u001b[0mlist2\u001b[0m\u001b[0;34m,\u001b[0m\u001b[0mlist3\u001b[0m\u001b[0;34m,\u001b[0m\u001b[0mlist4\u001b[0m \u001b[0;34m=\u001b[0m\u001b[0mpairs\u001b[0m\u001b[0;34m.\u001b[0m\u001b[0mtest_pairs\u001b[0m\u001b[0;34m(\u001b[0m\u001b[0mvalidation_path\u001b[0m\u001b[0;34m=\u001b[0m\u001b[0;34m'/home/lxu/drugrelink/data/validation-statuses.tsv'\u001b[0m\u001b[0;34m,\u001b[0m\u001b[0mtrain_path\u001b[0m\u001b[0;34m=\u001b[0m\u001b[0;34m'/home/lxu/drugrelink/data/transformed-features.tsv.bz2'\u001b[0m\u001b[0;34m,\u001b[0m\u001b[0msymptomatic_path\u001b[0m\u001b[0;34m=\u001b[0m\u001b[0;34m'/home/lxu/drugrelink/data/probabilities.tsv'\u001b[0m\u001b[0;34m)\u001b[0m\u001b[0;34m\u001b[0m\u001b[0m\n\u001b[0m",
      "\u001b[0;32m~/drugrelink/src/drugrelink/pairs.py\u001b[0m in \u001b[0;36mtest_pairs\u001b[0;34m(validation_path, train_path, symptomatic_path)\u001b[0m\n\u001b[1;32m     36\u001b[0m         \u001b[0mcompound\u001b[0m \u001b[0;34m=\u001b[0m \u001b[0;34m'Compound::'\u001b[0m \u001b[0;34m+\u001b[0m \u001b[0mrow\u001b[0m\u001b[0;34m[\u001b[0m\u001b[0;34m'compound_id'\u001b[0m\u001b[0;34m]\u001b[0m\u001b[0;34m\u001b[0m\u001b[0m\n\u001b[1;32m     37\u001b[0m         \u001b[0mdisease\u001b[0m \u001b[0;34m=\u001b[0m \u001b[0;34m'Disease::'\u001b[0m \u001b[0;34m+\u001b[0m \u001b[0mrow\u001b[0m\u001b[0;34m[\u001b[0m\u001b[0;34m'disease_id'\u001b[0m\u001b[0;34m]\u001b[0m\u001b[0;34m\u001b[0m\u001b[0m\n\u001b[0;32m---> 38\u001b[0;31m         \u001b[0mstatus\u001b[0m \u001b[0;34m=\u001b[0m \u001b[0mrow\u001b[0m\u001b[0;34m[\u001b[0m\u001b[0;34m'status_trials'\u001b[0m\u001b[0;34m]\u001b[0m\u001b[0;34m\u001b[0m\u001b[0m\n\u001b[0m\u001b[1;32m     39\u001b[0m         \u001b[0mt\u001b[0m \u001b[0;34m=\u001b[0m \u001b[0mtuple\u001b[0m\u001b[0;34m(\u001b[0m\u001b[0;34m)\u001b[0m\u001b[0;34m\u001b[0m\u001b[0m\n\u001b[1;32m     40\u001b[0m         clinical_trials.append(tuple((\n",
      "\u001b[0;31mTypeError\u001b[0m: append() takes exactly one argument (2 given)"
     ]
    }
   ],
   "source": [
    "from drugrelink import pairs\n",
    "list1,list2,list3,list4 =pairs.test_pairs(validation_path='/home/lxu/drugrelink/data/validation-statuses.tsv',train_path='/home/lxu/drugrelink/data/transformed-features.tsv.bz2',symptomatic_path='/home/lxu/drugrelink/data/probabilities.tsv')"
   ]
  },
  {
   "cell_type": "code",
   "execution_count": null,
   "metadata": {},
   "outputs": [],
   "source": []
  }
 ],
 "metadata": {
  "kernelspec": {
   "display_name": "Python 3",
   "language": "python",
   "name": "python3"
  },
  "language_info": {
   "codemirror_mode": {
    "name": "ipython",
    "version": 3
   },
   "file_extension": ".py",
   "mimetype": "text/x-python",
   "name": "python",
   "nbconvert_exporter": "python",
   "pygments_lexer": "ipython3",
   "version": "3.6.5"
  }
 },
 "nbformat": 4,
 "nbformat_minor": 2
}
