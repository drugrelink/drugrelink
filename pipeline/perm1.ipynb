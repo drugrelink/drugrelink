{
 "cells": [
  {
   "cell_type": "code",
   "execution_count": 1,
   "metadata": {},
   "outputs": [
    {
     "ename": "FileNotFoundError",
     "evalue": "[Errno 2] No such file or directory: '/home/lxu/Desktop/integrate-master/data/permuted/hetnet_perm-1.json'",
     "output_type": "error",
     "traceback": [
      "\u001b[0;31m---------------------------------------------------------------------------\u001b[0m",
      "\u001b[0;31mFileNotFoundError\u001b[0m                         Traceback (most recent call last)",
      "\u001b[0;32m<ipython-input-1-36297269a7a9>\u001b[0m in \u001b[0;36m<module>\u001b[0;34m\u001b[0m\n\u001b[1;32m      1\u001b[0m \u001b[0;32mfrom\u001b[0m \u001b[0mhetio\u001b[0m \u001b[0;32mimport\u001b[0m \u001b[0mreadwrite\u001b[0m\u001b[0;34m\u001b[0m\u001b[0m\n\u001b[0;32m----> 2\u001b[0;31m \u001b[0mhim_per1\u001b[0m\u001b[0;34m=\u001b[0m \u001b[0mreadwrite\u001b[0m\u001b[0;34m.\u001b[0m\u001b[0mread_graph\u001b[0m\u001b[0;34m(\u001b[0m\u001b[0;34m'/home/lxu/Desktop/integrate-master/data/permuted/hetnet_perm-1.json'\u001b[0m\u001b[0;34m)\u001b[0m\u001b[0;34m\u001b[0m\u001b[0m\n\u001b[0m\u001b[1;32m      3\u001b[0m \u001b[0mpath\u001b[0m \u001b[0;34m=\u001b[0m \u001b[0;34m'permu_data/nodes-1.tsv'\u001b[0m\u001b[0;34m\u001b[0m\u001b[0m\n\u001b[1;32m      4\u001b[0m \u001b[0mhetio\u001b[0m\u001b[0;34m.\u001b[0m\u001b[0mreadwrite\u001b[0m\u001b[0;34m.\u001b[0m\u001b[0mwrite_nodetable\u001b[0m\u001b[0;34m(\u001b[0m\u001b[0mhim_per1\u001b[0m\u001b[0;34m,\u001b[0m \u001b[0mpath\u001b[0m\u001b[0;34m)\u001b[0m\u001b[0;34m\u001b[0m\u001b[0m\n\u001b[1;32m      5\u001b[0m \u001b[0mpath\u001b[0m \u001b[0;34m=\u001b[0m \u001b[0;34m'permu_data/edges-1.sif.gz'\u001b[0m\u001b[0;34m\u001b[0m\u001b[0m\n",
      "\u001b[0;32m~/anaconda3/envs/pipeline/lib/python3.6/site-packages/hetio/readwrite.py\u001b[0m in \u001b[0;36mread_graph\u001b[0;34m(path, formatting)\u001b[0m\n\u001b[1;32m     14\u001b[0m \u001b[0;32mdef\u001b[0m \u001b[0mread_graph\u001b[0m\u001b[0;34m(\u001b[0m\u001b[0mpath\u001b[0m\u001b[0;34m,\u001b[0m \u001b[0mformatting\u001b[0m\u001b[0;34m=\u001b[0m\u001b[0;32mNone\u001b[0m\u001b[0;34m)\u001b[0m\u001b[0;34m:\u001b[0m\u001b[0;34m\u001b[0m\u001b[0m\n\u001b[1;32m     15\u001b[0m     \u001b[0;34m\"\"\"Read a graph from a path\"\"\"\u001b[0m\u001b[0;34m\u001b[0m\u001b[0m\n\u001b[0;32m---> 16\u001b[0;31m     \u001b[0mwritable\u001b[0m \u001b[0;34m=\u001b[0m \u001b[0mextract_writable\u001b[0m\u001b[0;34m(\u001b[0m\u001b[0mpath\u001b[0m\u001b[0;34m,\u001b[0m \u001b[0mformatting\u001b[0m\u001b[0;34m)\u001b[0m\u001b[0;34m\u001b[0m\u001b[0m\n\u001b[0m\u001b[1;32m     17\u001b[0m     \u001b[0mgraph\u001b[0m \u001b[0;34m=\u001b[0m \u001b[0mgraph_from_writable\u001b[0m\u001b[0;34m(\u001b[0m\u001b[0mwritable\u001b[0m\u001b[0;34m)\u001b[0m\u001b[0;34m\u001b[0m\u001b[0m\n\u001b[1;32m     18\u001b[0m     \u001b[0;32mreturn\u001b[0m \u001b[0mgraph\u001b[0m\u001b[0;34m\u001b[0m\u001b[0m\n",
      "\u001b[0;32m~/anaconda3/envs/pipeline/lib/python3.6/site-packages/hetio/readwrite.py\u001b[0m in \u001b[0;36mextract_writable\u001b[0;34m(path, formatting)\u001b[0m\n\u001b[1;32m     93\u001b[0m     \u001b[0;32mif\u001b[0m \u001b[0mformatting\u001b[0m \u001b[0;32mis\u001b[0m \u001b[0;32mNone\u001b[0m\u001b[0;34m:\u001b[0m\u001b[0;34m\u001b[0m\u001b[0m\n\u001b[1;32m     94\u001b[0m         \u001b[0mformatting\u001b[0m \u001b[0;34m=\u001b[0m \u001b[0mdetect_formatting\u001b[0m\u001b[0;34m(\u001b[0m\u001b[0mpath\u001b[0m\u001b[0;34m)\u001b[0m\u001b[0;34m\u001b[0m\u001b[0m\n\u001b[0;32m---> 95\u001b[0;31m     \u001b[0mread_file\u001b[0m \u001b[0;34m=\u001b[0m \u001b[0mopen_read_file\u001b[0m\u001b[0;34m(\u001b[0m\u001b[0mpath\u001b[0m\u001b[0;34m)\u001b[0m\u001b[0;34m\u001b[0m\u001b[0m\n\u001b[0m\u001b[1;32m     96\u001b[0m     \u001b[0mwritable\u001b[0m \u001b[0;34m=\u001b[0m \u001b[0mload\u001b[0m\u001b[0;34m(\u001b[0m\u001b[0mread_file\u001b[0m\u001b[0;34m,\u001b[0m \u001b[0mformatting\u001b[0m\u001b[0;34m)\u001b[0m\u001b[0;34m\u001b[0m\u001b[0m\n\u001b[1;32m     97\u001b[0m     \u001b[0mread_file\u001b[0m\u001b[0;34m.\u001b[0m\u001b[0mclose\u001b[0m\u001b[0;34m(\u001b[0m\u001b[0;34m)\u001b[0m\u001b[0;34m\u001b[0m\u001b[0m\n",
      "\u001b[0;32m~/anaconda3/envs/pipeline/lib/python3.6/site-packages/hetio/readwrite.py\u001b[0m in \u001b[0;36mopen_read_file\u001b[0;34m(path)\u001b[0m\n\u001b[1;32m     54\u001b[0m \u001b[0;34m\u001b[0m\u001b[0m\n\u001b[1;32m     55\u001b[0m     \u001b[0;31m# Read from file\u001b[0m\u001b[0;34m\u001b[0m\u001b[0;34m\u001b[0m\u001b[0m\n\u001b[0;32m---> 56\u001b[0;31m     \u001b[0;32mreturn\u001b[0m \u001b[0mopener\u001b[0m\u001b[0;34m(\u001b[0m\u001b[0mpath\u001b[0m\u001b[0;34m,\u001b[0m \u001b[0;34m'rt'\u001b[0m\u001b[0;34m)\u001b[0m\u001b[0;34m\u001b[0m\u001b[0m\n\u001b[0m\u001b[1;32m     57\u001b[0m \u001b[0;34m\u001b[0m\u001b[0m\n\u001b[1;32m     58\u001b[0m \u001b[0;32mdef\u001b[0m \u001b[0mopen_write_file\u001b[0m\u001b[0;34m(\u001b[0m\u001b[0mpath\u001b[0m\u001b[0;34m,\u001b[0m \u001b[0mmode\u001b[0m\u001b[0;34m=\u001b[0m\u001b[0;34m'wt'\u001b[0m\u001b[0;34m)\u001b[0m\u001b[0;34m:\u001b[0m\u001b[0;34m\u001b[0m\u001b[0m\n",
      "\u001b[0;31mFileNotFoundError\u001b[0m: [Errno 2] No such file or directory: '/home/lxu/Desktop/integrate-master/data/permuted/hetnet_perm-1.json'"
     ]
    }
   ],
   "source": [
    "from hetio import readwrite\n",
    "him_per1= readwrite.read_graph('/home/lxu/Desktop/integrate-master/data/permuted/hetnet_perm-1.json')\n",
    "path = 'permu_data/nodes-1.tsv'\n",
    "hetio.readwrite.write_nodetable(him_per1, path)\n",
    "path = 'permu_data/edges-1.sif.gz'\n",
    "hetio.readwrite.write_sif(him_per1, path)\n",
    "import pandas as pd\n",
    "dfhimnode_1 = pd.read_csv('permu_data/nodes-1.tsv',sep='\\t')\n",
    "\n",
    "dfhimedge_1 = pd.read_csv('permu_data/edges-1.sif.gz',sep='\\t')\n",
    "\n",
    "himgraph_1 = nx.Graph()\n",
    "for index,row in dfhimnode_1.iterrows():\n",
    "    if row['id'] not in himgraph_1.nodes():\n",
    "        himgraph_1.add_node(row['id'],name= row['name'],kind=row['kind'])\n",
    "for index,row in dfhimedge_1.iterrows():\n",
    "    himgraph_1.add_edge(row['source'],row['target'],metaedge = row['metaedge'])\n",
    "import simplejson\n",
    "ff = open('subgraph_nodes','r')\n",
    "subgraph_nodes = simplejson.load(ff)\n",
    "subgraph_nodes\n",
    "test_graph = himgraph_1.subgraph(subgraph_nodes)\n",
    "test_graph\n",
    "from node2vec_embed import node_2vec\n",
    "\n",
    "model= node_2vec(test_graph)\n",
    "f1 = open('positive_list','r')\n",
    "positive_list = simplejson.load(f1)\n",
    "positive_list\n",
    "f2 = open('negative_list','r')\n",
    "negative_list = simplejson.load(f2)\n",
    "negative_list\n",
    "import node2vec\n",
    "pair_list=positive_list\n",
    "edge_vecs = []\n",
    "edges_embs = node2vec.edges.HadamardEmbedder(keyed_vectors=model.wv)\n",
    "for i in pair_list:\n",
    "        node1=i[0]\n",
    "        node2=i[1]\n",
    "        vec= edges_embs[(node1,node2)].tolist()\n",
    "        edge_vecs.append(vec)\n",
    "print(edge_vecs)"
   ]
  },
  {
   "cell_type": "code",
   "execution_count": null,
   "metadata": {},
   "outputs": [],
   "source": []
  }
 ],
 "metadata": {
  "kernelspec": {
   "display_name": "pipeline",
   "language": "python",
   "name": "pipeline"
  },
  "language_info": {
   "codemirror_mode": {
    "name": "ipython",
    "version": 3
   },
   "file_extension": ".py",
   "mimetype": "text/x-python",
   "name": "python",
   "nbconvert_exporter": "python",
   "pygments_lexer": "ipython3",
   "version": "3.6.5"
  }
 },
 "nbformat": 4,
 "nbformat_minor": 2
}
