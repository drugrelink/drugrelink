{
 "cells": [
  {
   "cell_type": "code",
   "execution_count": 8,
   "metadata": {},
   "outputs": [
    {
     "name": "stdout",
     "output_type": "stream",
     "text": [
      "3.6.5 |Anaconda, Inc.| (default, Apr 29 2018, 16:14:56) \n",
      "[GCC 7.2.0]\n",
      "Wed Apr 10 10:56:48 2019\n",
      "hi lingling\n"
     ]
    }
   ],
   "source": [
    "import sys\n",
    "import time\n",
    "print(sys.version)\n",
    "print(time.asctime())\n",
    "\n",
    "import networkx as nx\n",
    "import pandas as pd\n",
    "from node2vec import Node2Vec\n",
    "from pathlib import Path\n",
    "import create_graph\n",
    "\n",
    "create_graph.say_hi()"
   ]
  },
  {
   "cell_type": "code",
   "execution_count": 2,
   "metadata": {},
   "outputs": [
    {
     "data": {
      "text/html": [
       "<div>\n",
       "<style scoped>\n",
       "    .dataframe tbody tr th:only-of-type {\n",
       "        vertical-align: middle;\n",
       "    }\n",
       "\n",
       "    .dataframe tbody tr th {\n",
       "        vertical-align: top;\n",
       "    }\n",
       "\n",
       "    .dataframe thead th {\n",
       "        text-align: right;\n",
       "    }\n",
       "</style>\n",
       "<table border=\"1\" class=\"dataframe\">\n",
       "  <thead>\n",
       "    <tr style=\"text-align: right;\">\n",
       "      <th></th>\n",
       "      <th>id</th>\n",
       "      <th>name</th>\n",
       "      <th>kind</th>\n",
       "    </tr>\n",
       "  </thead>\n",
       "  <tbody>\n",
       "    <tr>\n",
       "      <th>0</th>\n",
       "      <td>Anatomy::UBERON:0000002</td>\n",
       "      <td>uterine cervix</td>\n",
       "      <td>Anatomy</td>\n",
       "    </tr>\n",
       "    <tr>\n",
       "      <th>1</th>\n",
       "      <td>Anatomy::UBERON:0000004</td>\n",
       "      <td>nose</td>\n",
       "      <td>Anatomy</td>\n",
       "    </tr>\n",
       "    <tr>\n",
       "      <th>2</th>\n",
       "      <td>Anatomy::UBERON:0000006</td>\n",
       "      <td>islet of Langerhans</td>\n",
       "      <td>Anatomy</td>\n",
       "    </tr>\n",
       "    <tr>\n",
       "      <th>3</th>\n",
       "      <td>Anatomy::UBERON:0000007</td>\n",
       "      <td>pituitary gland</td>\n",
       "      <td>Anatomy</td>\n",
       "    </tr>\n",
       "    <tr>\n",
       "      <th>4</th>\n",
       "      <td>Anatomy::UBERON:0000010</td>\n",
       "      <td>peripheral nervous system</td>\n",
       "      <td>Anatomy</td>\n",
       "    </tr>\n",
       "  </tbody>\n",
       "</table>\n",
       "</div>"
      ],
      "text/plain": [
       "                        id                       name     kind\n",
       "0  Anatomy::UBERON:0000002             uterine cervix  Anatomy\n",
       "1  Anatomy::UBERON:0000004                       nose  Anatomy\n",
       "2  Anatomy::UBERON:0000006        islet of Langerhans  Anatomy\n",
       "3  Anatomy::UBERON:0000007            pituitary gland  Anatomy\n",
       "4  Anatomy::UBERON:0000010  peripheral nervous system  Anatomy"
      ]
     },
     "execution_count": 2,
     "metadata": {},
     "output_type": "execute_result"
    }
   ],
   "source": [
    "path_node = str(Path().absolute())\n",
    "dfhimnode = pd.read_csv(path_node+'/original_graph_data/nodes.tsv',sep='\\t')\n",
    "dfhimnode.head()"
   ]
  },
  {
   "cell_type": "code",
   "execution_count": 3,
   "metadata": {},
   "outputs": [
    {
     "data": {
      "text/html": [
       "<div>\n",
       "<style scoped>\n",
       "    .dataframe tbody tr th:only-of-type {\n",
       "        vertical-align: middle;\n",
       "    }\n",
       "\n",
       "    .dataframe tbody tr th {\n",
       "        vertical-align: top;\n",
       "    }\n",
       "\n",
       "    .dataframe thead th {\n",
       "        text-align: right;\n",
       "    }\n",
       "</style>\n",
       "<table border=\"1\" class=\"dataframe\">\n",
       "  <thead>\n",
       "    <tr style=\"text-align: right;\">\n",
       "      <th></th>\n",
       "      <th>source</th>\n",
       "      <th>metaedge</th>\n",
       "      <th>target</th>\n",
       "    </tr>\n",
       "  </thead>\n",
       "  <tbody>\n",
       "    <tr>\n",
       "      <th>0</th>\n",
       "      <td>Compound::DB00843</td>\n",
       "      <td>CtD</td>\n",
       "      <td>Disease::DOID:10652</td>\n",
       "    </tr>\n",
       "    <tr>\n",
       "      <th>1</th>\n",
       "      <td>Compound::DB00674</td>\n",
       "      <td>CtD</td>\n",
       "      <td>Disease::DOID:10652</td>\n",
       "    </tr>\n",
       "    <tr>\n",
       "      <th>2</th>\n",
       "      <td>Compound::DB01043</td>\n",
       "      <td>CtD</td>\n",
       "      <td>Disease::DOID:10652</td>\n",
       "    </tr>\n",
       "    <tr>\n",
       "      <th>3</th>\n",
       "      <td>Compound::DB00989</td>\n",
       "      <td>CtD</td>\n",
       "      <td>Disease::DOID:10652</td>\n",
       "    </tr>\n",
       "    <tr>\n",
       "      <th>4</th>\n",
       "      <td>Compound::DB00736</td>\n",
       "      <td>CtD</td>\n",
       "      <td>Disease::DOID:9206</td>\n",
       "    </tr>\n",
       "  </tbody>\n",
       "</table>\n",
       "</div>"
      ],
      "text/plain": [
       "              source metaedge               target\n",
       "0  Compound::DB00843      CtD  Disease::DOID:10652\n",
       "1  Compound::DB00674      CtD  Disease::DOID:10652\n",
       "2  Compound::DB01043      CtD  Disease::DOID:10652\n",
       "3  Compound::DB00989      CtD  Disease::DOID:10652\n",
       "4  Compound::DB00736      CtD   Disease::DOID:9206"
      ]
     },
     "execution_count": 3,
     "metadata": {},
     "output_type": "execute_result"
    }
   ],
   "source": [
    "path_edge = str(Path().absolute())\n",
    "dfhimedge = pd.read_csv(path_edge+'/original_graph_data/edges.sif',sep='\\t')\n",
    "dfhimedge.head()"
   ]
  },
  {
   "cell_type": "code",
   "execution_count": 4,
   "metadata": {},
   "outputs": [
    {
     "data": {
      "text/plain": [
       "47031"
      ]
     },
     "execution_count": 4,
     "metadata": {},
     "output_type": "execute_result"
    }
   ],
   "source": [
    "himgraph = nx.Graph()\n",
    "for index,row in dfhimnode.iterrows():\n",
    "    if row['id'] not in himgraph.nodes():\n",
    "        himgraph.add_node(row['id'],name= row['name'],kind=row['kind'])\n",
    "himgraph.number_of_nodes()"
   ]
  },
  {
   "cell_type": "code",
   "execution_count": 5,
   "metadata": {},
   "outputs": [
    {
     "data": {
      "text/plain": [
       "<networkx.classes.graph.Graph at 0x7f7cbc599978>"
      ]
     },
     "execution_count": 5,
     "metadata": {},
     "output_type": "execute_result"
    }
   ],
   "source": [
    "for index,row in dfhimedge.iterrows():\n",
    "    himgraph.add_edge(row['source'],row['target'],metaedge = row['metaedge'])\n",
    "himgraph"
   ]
  },
  {
   "cell_type": "code",
   "execution_count": 1,
   "metadata": {},
   "outputs": [
    {
     "data": {
      "text/plain": [
       "<networkx.classes.graph.Graph at 0x7f7076e3acf8>"
      ]
     },
     "execution_count": 1,
     "metadata": {},
     "output_type": "execute_result"
    }
   ],
   "source": [
    "import create_graph\n",
    "create_graph.graph()"
   ]
  },
  {
   "cell_type": "code",
   "execution_count": null,
   "metadata": {},
   "outputs": [],
   "source": []
  }
 ],
 "metadata": {
  "kernelspec": {
   "display_name": "pipeline",
   "language": "python",
   "name": "pipeline"
  },
  "language_info": {
   "codemirror_mode": {
    "name": "ipython",
    "version": 3
   },
   "file_extension": ".py",
   "mimetype": "text/x-python",
   "name": "python",
   "nbconvert_exporter": "python",
   "pygments_lexer": "ipython3",
   "version": "3.6.5"
  }
 },
 "nbformat": 4,
 "nbformat_minor": 2
}
